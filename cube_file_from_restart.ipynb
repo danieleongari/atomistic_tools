{
 "cells": [
  {
   "cell_type": "code",
   "execution_count": 1,
   "metadata": {
    "collapsed": true
   },
   "outputs": [],
   "source": [
    "import os\n",
    "import numpy as np\n",
    "import time\n",
    "import copy\n",
    "import sys\n",
    "\n",
    "import matplotlib\n",
    "import matplotlib.pyplot as plt\n",
    "\n",
    "ang_2_bohr = 1.0/0.52917721067\n",
    "hart_2_ev = 27.21138602\n",
    "\n",
    "import cp2k_utilities as cu"
   ]
  },
  {
   "cell_type": "code",
   "execution_count": 2,
   "metadata": {
    "collapsed": true
   },
   "outputs": [],
   "source": [
    "folder = \"/home/kristjan/local_work/morbs_test/c2h2/\"\n",
    "file_basis_set = folder + \"BR\"\n",
    "file_xyz = folder + \"p.xyz\"\n",
    "file_restart = folder + \"PROJ-RESTART.wfn\"\n",
    "file_cp2k_inp = folder + \"cp2k.inp\"\n",
    "file_cp2k_out = folder + \"out\""
   ]
  },
  {
   "cell_type": "code",
   "execution_count": 3,
   "metadata": {
    "collapsed": true
   },
   "outputs": [],
   "source": [
    "emin = -20.0\n",
    "emax =  20.0"
   ]
  },
  {
   "cell_type": "code",
   "execution_count": 4,
   "metadata": {},
   "outputs": [
    {
     "name": "stdout",
     "output_type": "stream",
     "text": [
      "Read cp2k input: 0.007\n",
      "Warning: Fermi level was not found in the cp2k output.\n",
      "Read cp2k out: 0.003\n",
      "Read xyz: 0.005\n",
      "Read basis sets: 0.005\n",
      "First molecular index in energy range:  0\n",
      "Found 10 orbitals\n",
      "Read restart: 0.005\n"
     ]
    }
   ],
   "source": [
    "time1 = time.time()\n",
    "elem_basis_names, cell = cu.read_cp2k_input(file_cp2k_inp)\n",
    "print(\"Read cp2k input: %.3f\" % (time.time()-time1))\n",
    "\n",
    "time1 = time.time()\n",
    "fermi = cu.read_fermi_from_cp2k_out(file_cp2k_out)\n",
    "print(\"Read cp2k out: %.3f\" % (time.time()-time1))\n",
    "\n",
    "time1 = time.time()\n",
    "at_positions, at_elems = cu.read_atoms(file_xyz)\n",
    "print(\"Read xyz: %.3f\" % (time.time()-time1))\n",
    "\n",
    "time1 = time.time()\n",
    "basis_sets = cu.read_basis_functions(file_basis_set, elem_basis_names)\n",
    "print(\"Read basis sets: %.3f\" % (time.time()-time1))\n",
    "\n",
    "time1 = time.time()\n",
    "morb_composition, morb_energies, morb_occs, ref_en, i_homo = cu.load_restart_wfn_file(file_restart, emin, emax, fermi)\n",
    "print(\"Found %d orbitals\" % len(morb_energies))\n",
    "print(\"Read restart: %.3f\" % (time.time()-time1))"
   ]
  },
  {
   "cell_type": "code",
   "execution_count": 6,
   "metadata": {
    "collapsed": true
   },
   "outputs": [],
   "source": [
    "# Define real space grid\n",
    "# Cp2k chooses close to 0.08 angstroms (?)\n",
    "step = 0.08 # Good to choose a factor of the lattice parameter 4.26\n",
    "step *= ang_2_bohr\n",
    "cell_n = (np.round(cell/step)).astype(int)\n",
    "\n",
    "# !!! NB: Redefine cell such that step stays the same (and a factor of lattice param)\n",
    "#cell = cell_n*step\n",
    "\n",
    "#cu.center_atoms_to_cell(at_positions, cell)"
   ]
  },
  {
   "cell_type": "code",
   "execution_count": 21,
   "metadata": {},
   "outputs": [
    {
     "data": {
      "text/plain": [
       "array([ 15.117809  ,  15.117809  ,  28.34589188])"
      ]
     },
     "execution_count": 21,
     "metadata": {},
     "output_type": "execute_result"
    }
   ],
   "source": [
    "cell"
   ]
  },
  {
   "cell_type": "code",
   "execution_count": 56,
   "metadata": {},
   "outputs": [],
   "source": [
    "# define evaluation region:\n",
    "\n",
    "x_eval_region = None\n",
    "y_eval_region = None\n",
    "z_eval_region = None\n",
    "\n",
    "eval_regions = [x_eval_region, y_eval_region, z_eval_region]\n",
    "\n",
    "origin = np.zeros(3)\n",
    "new_cell = np.copy(cell)\n",
    "\n",
    "for i, e_reg in enumerate(eval_regions):\n",
    "    if e_reg is None:\n",
    "        origin[i] = 0.0\n",
    "        new_cell[i] = cell[i]\n",
    "    else:\n",
    "        origin[i] = e_reg[0]\n",
    "        new_cell[i] = e_reg[1] - e_reg[0]\n"
   ]
  },
  {
   "cell_type": "code",
   "execution_count": 57,
   "metadata": {},
   "outputs": [
    {
     "name": "stdout",
     "output_type": "stream",
     "text": [
      "Global cell:    [100 100 188]\n",
      "Eval cell:    [100 100 188]\n",
      "local cell:  [200 200 201]\n",
      "---- Setup: 0.1364\n",
      "---- Radial calc time : 17.026889\n",
      "---- Spherical calc time : 1.719990\n",
      "---- Loc -> loc_morb time : 9.987110\n",
      "---- loc_morb -> glob time : 2.024281\n",
      "---- Total time: 31.8851\n"
     ]
    }
   ],
   "source": [
    "morb_grids_new = cu.calc_morbs_in_3D_region(cell, cell_n,\n",
    "                                            at_positions, at_elems,\n",
    "                                            basis_sets, morb_composition,\n",
    "                                            x_eval_region = x_eval_region,\n",
    "                                            y_eval_region = y_eval_region,\n",
    "                                            z_eval_region = z_eval_region,\n",
    "                                            eval_cutoff = 16.0\n",
    "                                           )"
   ]
  },
  {
   "cell_type": "code",
   "execution_count": 58,
   "metadata": {},
   "outputs": [
    {
     "data": {
      "text/plain": [
       "(10, 100, 100, 188)"
      ]
     },
     "execution_count": 58,
     "metadata": {},
     "output_type": "execute_result"
    }
   ],
   "source": [
    "morb_grids_new.shape"
   ]
  },
  {
   "cell_type": "code",
   "execution_count": 63,
   "metadata": {},
   "outputs": [
    {
     "data": {
      "image/png": "[encoded data removed]",
      "text/plain": [
       "<matplotlib.figure.Figure at 0x7f60c24f2d68>"
      ]
     },
     "metadata": {},
     "output_type": "display_data"
    }
   ],
   "source": [
    "plt.pcolormesh(morb_grids_new[0][20, :, :])\n",
    "plt.show()"
   ]
  },
  {
   "cell_type": "code",
   "execution_count": 64,
   "metadata": {},
   "outputs": [],
   "source": [
    "cu.write_cube_file(\"/home/kristjan/local_work/morbs_test/c2h2/my_cubes/test.cube\",\n",
    "                   file_xyz, new_cell, morb_grids_new[0].shape, morb_grids_new[0], origin = origin)"
   ]
  },
  {
   "cell_type": "code",
   "execution_count": 65,
   "metadata": {},
   "outputs": [
    {
     "data": {
      "text/plain": [
       "1.0000000023678439"
      ]
     },
     "execution_count": 65,
     "metadata": {},
     "output_type": "execute_result"
    }
   ],
   "source": [
    "# check for normalization\n",
    "dv = cell/cell_n\n",
    "vol_elem = dv[0]*dv[1]*dv[2]\n",
    "np.sum(morb_grids_new[0]**2)*vol_elem"
   ]
  },
  {
   "cell_type": "code",
   "execution_count": null,
   "metadata": {
    "collapsed": true
   },
   "outputs": [],
   "source": []
  },
  {
   "cell_type": "code",
   "execution_count": null,
   "metadata": {
    "collapsed": true
   },
   "outputs": [],
   "source": []
  }
 ],
 "metadata": {
  "kernelspec": {
   "display_name": "Python 3",
   "language": "python",
   "name": "python3"
  },
  "language_info": {
   "codemirror_mode": {
    "name": "ipython",
    "version": 3
   },
   "file_extension": ".py",
   "mimetype": "text/x-python",
   "name": "python",
   "nbconvert_exporter": "python",
   "pygments_lexer": "ipython3",
   "version": "3.6.1"
  }
 },
 "nbformat": 4,
 "nbformat_minor": 2
}

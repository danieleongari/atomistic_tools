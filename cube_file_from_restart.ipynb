{
 "cells": [
  {
   "cell_type": "code",
   "execution_count": 20,
   "metadata": {
    "collapsed": true
   },
   "outputs": [],
   "source": [
    "import os\n",
    "import numpy as np\n",
    "import time\n",
    "import copy\n",
    "import sys\n",
    "\n",
    "import matplotlib\n",
    "import matplotlib.pyplot as plt\n",
    "\n",
    "ang_2_bohr = 1.0/0.52917721067\n",
    "hart_2_ev = 27.21138602\n",
    "\n",
    "import cp2k_utilities as cu"
   ]
  },
  {
   "cell_type": "code",
   "execution_count": 21,
   "metadata": {
    "collapsed": true
   },
   "outputs": [],
   "source": [
    "folder = \"/home/kristjan/local_work/asetk_example1/for_restart_file/\"\n",
    "file_basis_set = folder + \"BR\"\n",
    "file_xyz = folder + \"anthracene.xyz\"\n",
    "file_restart = folder + \"ANTHRACENE-RESTART.wfn\"\n",
    "file_cp2k_inp = folder + \"cp2k.inp\"\n",
    "file_cp2k_out = folder + \"cp2k.out\"\n",
    "\n",
    "\n",
    "#folder = \"/home/kristjan/sshfs/marconi_scratch/cp2k_si_morb/\"\n",
    "#file_basis_set = folder + \"BR\"\n",
    "#file_xyz = folder + \"Si.xyz\"\n",
    "#file_restart = folder + \"PROJ-RESTART.wfn\"\n",
    "#file_cp2k_inp = folder + \"cp2k.inp\"\n",
    "#file_cp2k_out = folder + \"out.log\"\n",
    "\n",
    "\n",
    "#folder = \"/home/kristjan/sshfs/daint_scratch/cp2k_c2h2_morbs/morbs_added_mos_cart/\"\n",
    "#file_basis_set = folder + \"BR\"\n",
    "#file_xyz = folder + \"p.xyz\"\n",
    "#file_restart = folder + \"PROJ-RESTART.wfn\"\n",
    "#file_cp2k_inp = folder + \"cp2k.inp\"\n",
    "#file_cp2k_out = folder + \"out\""
   ]
  },
  {
   "cell_type": "code",
   "execution_count": 22,
   "metadata": {
    "collapsed": true
   },
   "outputs": [],
   "source": [
    "emin = -4.0\n",
    "emax =  0.0"
   ]
  },
  {
   "cell_type": "code",
   "execution_count": 23,
   "metadata": {},
   "outputs": [
    {
     "name": "stdout",
     "output_type": "stream",
     "text": [
      "Read cp2k input: 0.001\n",
      "Read cp2k out: 0.001\n",
      "Read xyz: 0.001\n",
      "Read basis sets: 0.009\n",
      "First molecular index in energy range:  25\n",
      "Found 8 orbitals\n",
      "Read restart: 0.008\n"
     ]
    }
   ],
   "source": [
    "time1 = time.time()\n",
    "elem_basis_names, cell = cu.read_cp2k_input(file_cp2k_inp)\n",
    "print(\"Read cp2k input: %.3f\" % (time.time()-time1))\n",
    "\n",
    "time1 = time.time()\n",
    "fermi = cu.read_fermi_from_cp2k_out(file_cp2k_out)\n",
    "print(\"Read cp2k out: %.3f\" % (time.time()-time1))\n",
    "\n",
    "time1 = time.time()\n",
    "at_positions, at_elems = cu.read_atoms(file_xyz)\n",
    "print(\"Read xyz: %.3f\" % (time.time()-time1))\n",
    "\n",
    "time1 = time.time()\n",
    "basis_sets = cu.read_basis_functions(file_basis_set, elem_basis_names)\n",
    "print(\"Read basis sets: %.3f\" % (time.time()-time1))\n",
    "\n",
    "time1 = time.time()\n",
    "morb_composition, morb_energies, morb_occs, ref_en = cu.load_restart_wfn_file(file_restart, emin, emax, fermi)\n",
    "print(\"Found %d orbitals\" % len(morb_energies))\n",
    "print(\"Read restart: %.3f\" % (time.time()-time1))"
   ]
  },
  {
   "cell_type": "code",
   "execution_count": 24,
   "metadata": {},
   "outputs": [
    {
     "name": "stdout",
     "output_type": "stream",
     "text": [
      "7\n"
     ]
    }
   ],
   "source": [
    "i_homo = 0\n",
    "for i, occ in enumerate(morb_occs):\n",
    "    if occ < 1.0:\n",
    "        i_homo = i - 1\n",
    "        break\n",
    "    i_homo = i\n",
    "print(i_homo)"
   ]
  },
  {
   "cell_type": "code",
   "execution_count": 25,
   "metadata": {
    "collapsed": true
   },
   "outputs": [],
   "source": [
    "# Define real space grid\n",
    "# Cp2k chooses close to 0.08 angstroms (?)\n",
    "step = 0.08 # Good to choose a factor of the lattice parameter 4.26\n",
    "step *= ang_2_bohr\n",
    "cell_n = (np.round(cell/step)).astype(int)\n",
    "\n",
    "# !!! NB: Redefine cell such that step stays the same (and a factor of lattice param)\n",
    "#cell = cell_n*step\n",
    "\n",
    "#cu.center_atoms_to_cell(at_positions, cell)"
   ]
  },
  {
   "cell_type": "code",
   "execution_count": 26,
   "metadata": {},
   "outputs": [
    {
     "name": "stdout",
     "output_type": "stream",
     "text": [
      "Main cell:    [ 28.34589188  37.79452251  28.34589188] [188 250 188]\n",
      "Local cell:  [ 30.23561801  30.23561801  30.23561801] [201 200 201]\n",
      "---- Setup: 0.2077\n",
      "---- Radial calc time : 135.835724\n",
      "---- Spherical calc time : 9.885761\n",
      "---- Loc -> glob time : 106.584825\n",
      "---- Total time: 255.8387\n"
     ]
    }
   ],
   "source": [
    "time1 = time.time()\n",
    "\n",
    "dv = cell/cell_n\n",
    "x_arr = np.arange(0, cell[0], dv[0])\n",
    "y_arr = np.arange(0, cell[1], dv[1])\n",
    "z_arr = np.arange(0, cell[2], dv[2])\n",
    "x_grid, y_grid, z_grid = np.meshgrid(x_arr, y_arr, z_arr, indexing='ij')\n",
    "\n",
    "# Define small grid for orbital evaluation\n",
    "# and convenient PBC implementation\n",
    "loc_cell = np.array([16.0, 16.0, 16.0])*ang_2_bohr\n",
    "x_arr_loc = np.arange(0, loc_cell[0], dv[0])\n",
    "y_arr_loc = np.arange(0, loc_cell[1], dv[1])\n",
    "z_arr_loc = np.arange(0, loc_cell[2], dv[2])\n",
    "loc_cell_n = np.array([len(x_arr_loc), len(y_arr_loc), len(z_arr_loc)])\n",
    "# Define it such that the origin is somewhere\n",
    "# in the middle but exactly on a grid point\n",
    "mid_ixs = (loc_cell_n/2).astype(int)\n",
    "x_arr_loc -= x_arr_loc[mid_ixs[0]]\n",
    "y_arr_loc -= y_arr_loc[mid_ixs[1]]\n",
    "z_arr_loc -= z_arr_loc[mid_ixs[2]]\n",
    "x_grid_loc, y_grid_loc, z_grid_loc = np.meshgrid(x_arr_loc, y_arr_loc, z_arr_loc, indexing='ij')\n",
    "\n",
    "# Some info\n",
    "print(\"Main cell:   \", cell, cell_n)\n",
    "print(\"Local cell: \", loc_cell, loc_cell_n)\n",
    "\n",
    "morb_grids = 0 # release memory from previous run (needed in some rare cases)\n",
    "morb_grids = [np.zeros(cell_n) for _ in range(len(morb_composition))]\n",
    "\n",
    "print(\"---- Setup: %.4f\" % (time.time() - time1))\n",
    "\n",
    "time_radial_calc = 0.0\n",
    "time_spherical = 0.0\n",
    "time_loc_glob_add = 0.0\n",
    "\n",
    "\n",
    "for i_at in range(len(at_positions)):\n",
    "    elem = at_elems[i_at][0]\n",
    "    pos = at_positions[i_at]\n",
    "\n",
    "    # how does the position match with the grid?\n",
    "    int_shift = (pos/dv).astype(int)\n",
    "    frac_shift = pos/dv - int_shift\n",
    "\n",
    "    # Shift the local grid such that origin is on the atom\n",
    "    x_grid_rel_loc = x_grid_loc - frac_shift[0]*dv[0]\n",
    "    y_grid_rel_loc = y_grid_loc - frac_shift[1]*dv[1]\n",
    "    z_grid_rel_loc = z_grid_loc - frac_shift[2]*dv[2]\n",
    "\n",
    "    r_vec_2 = x_grid_rel_loc**2 + y_grid_rel_loc**2 + z_grid_rel_loc**2\n",
    "\n",
    "    aorbs = []\n",
    "\n",
    "    for i_shell, shell in enumerate(basis_sets[elem]):\n",
    "        l = shell[0]\n",
    "        es = shell[1]\n",
    "        cs = shell[2]\n",
    "\n",
    "        # Calculate the radial part of the atomic orbital\n",
    "        time2 = time.time()\n",
    "        radial_part = np.zeros(loc_cell_n)\n",
    "        for e, c in zip(es, cs):\n",
    "            radial_part += c*np.exp(-1.0*e*r_vec_2)\n",
    "        time_radial_calc += time.time() - time2\n",
    "\n",
    "        for i, m in enumerate(range(-l, l+1, 1)):\n",
    "            time2 = time.time()\n",
    "            atomic_orb = radial_part*cu.spherical_harmonic_grid(l, m,\n",
    "                                                             x_grid_rel_loc,\n",
    "                                                             y_grid_rel_loc,\n",
    "                                                             z_grid_rel_loc)\n",
    "            time_spherical += time.time() - time2\n",
    "\n",
    "            aorbs.append(atomic_orb)\n",
    "\n",
    "            for i_mo in range(len(morb_composition)):\n",
    "                i_set = 0 # SHOULD START SUPPORTING MULTIPLE SET BASES AT SOME POINT\n",
    "                coef = morb_composition[i_mo][i_at][i_set][i_shell][i]\n",
    "            \n",
    "                # Add the atomic orbital on the local grid to the global grid\n",
    "                origin_diff = int_shift - mid_ixs\n",
    "                time2 = time.time()\n",
    "                cu.add_local_to_global_grid(coef*atomic_orb, morb_grids[i_mo], origin_diff)\n",
    "                time_loc_glob_add += time.time() - time2\n",
    "\n",
    "print(\"---- Radial calc time : %4f\" % time_radial_calc)\n",
    "print(\"---- Spherical calc time : %4f\" % time_spherical)\n",
    "print(\"---- Loc -> glob time : %4f\" % time_loc_glob_add)\n",
    "print(\"---- Total time: %.4f\"%(time.time() - time1))         "
   ]
  },
  {
   "cell_type": "code",
   "execution_count": 18,
   "metadata": {
    "collapsed": true
   },
   "outputs": [],
   "source": [
    "cu.write_cube_file(\"/home/kristjan/local_work/asetk_example1/for_restart_file/test.cube\",\n",
    "                   file_xyz, cell, cell_n, morb_grids[i_homo-5])"
   ]
  },
  {
   "cell_type": "code",
   "execution_count": 19,
   "metadata": {},
   "outputs": [
    {
     "data": {
      "text/plain": [
       "0.99999971559830036"
      ]
     },
     "execution_count": 19,
     "metadata": {},
     "output_type": "execute_result"
    }
   ],
   "source": [
    "# check for normalization\n",
    "dv = cell/cell_n\n",
    "vol_elem = dv[0]*dv[1]*dv[2]\n",
    "np.sum(morb_grids[i_homo]**2)*vol_elem"
   ]
  },
  {
   "cell_type": "code",
   "execution_count": null,
   "metadata": {
    "collapsed": true
   },
   "outputs": [],
   "source": []
  },
  {
   "cell_type": "code",
   "execution_count": null,
   "metadata": {
    "collapsed": true
   },
   "outputs": [],
   "source": []
  }
 ],
 "metadata": {
  "kernelspec": {
   "display_name": "Python 3",
   "language": "python",
   "name": "python3"
  },
  "language_info": {
   "codemirror_mode": {
    "name": "ipython",
    "version": 3
   },
   "file_extension": ".py",
   "mimetype": "text/x-python",
   "name": "python",
   "nbconvert_exporter": "python",
   "pygments_lexer": "ipython3",
   "version": "3.6.1"
  }
 },
 "nbformat": 4,
 "nbformat_minor": 2
}

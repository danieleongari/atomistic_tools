{
 "cells": [
  {
   "cell_type": "code",
   "execution_count": 1,
   "metadata": {
    "collapsed": true
   },
   "outputs": [],
   "source": [
    "import os\n",
    "import numpy as np\n",
    "import time\n",
    "import copy\n",
    "import sys\n",
    "\n",
    "import matplotlib\n",
    "import matplotlib.pyplot as plt\n",
    "\n",
    "ang_2_bohr = 1.0/0.52917721067\n",
    "hart_2_ev = 27.21138602\n",
    "\n",
    "import cp2k_utilities as cu"
   ]
  },
  {
   "cell_type": "code",
   "execution_count": 2,
   "metadata": {
    "collapsed": true
   },
   "outputs": [],
   "source": [
    "#folder = \"/home/kristjan/local_work/asetk_example1/for_restart_file/\"\n",
    "#file_basis_set = folder + \"BR\"\n",
    "#file_xyz = folder + \"anthracene.xyz\"\n",
    "#file_restart = folder + \"ANTHRACENE-RESTART.wfn\"\n",
    "#file_cp2k_inp = folder + \"cp2k.inp\"\n",
    "#file_cp2k_out = folder + \"cp2k.out\"\n",
    "\n",
    "\n",
    "folder = \"/home/kristjan/local_work/cp2k_na_ribbon/scf/\"\n",
    "file_cp2k_inp = folder + \"cp2k.inp\"\n",
    "file_cp2k_out = folder + \"cp2k.out\"\n",
    "file_basis_set = folder + \"BR\"\n",
    "file_xyz = folder + \"p_opt_centered.xyz\"\n",
    "file_restart = folder + \"PROJ-RESTART.wfn\"\n",
    "\n",
    "#file_hartree = folder + \"PROJ-HART-v_hartree-1_0.cube\""
   ]
  },
  {
   "cell_type": "code",
   "execution_count": 3,
   "metadata": {
    "collapsed": true
   },
   "outputs": [],
   "source": [
    "emin = -0.01\n",
    "emax =  0.01"
   ]
  },
  {
   "cell_type": "code",
   "execution_count": 4,
   "metadata": {},
   "outputs": [
    {
     "name": "stdout",
     "output_type": "stream",
     "text": [
      "Read cp2k input: 0.000\n",
      "Read cp2k out: 0.009\n",
      "Read xyz: 0.009\n",
      "Read basis sets: 0.005\n",
      "First molecular index in energy range:  691\n",
      "Found 3 orbitals\n",
      "Read restart: 0.107\n"
     ]
    }
   ],
   "source": [
    "time1 = time.time()\n",
    "elem_basis_names, cell = cu.read_cp2k_input(file_cp2k_inp)\n",
    "print(\"Read cp2k input: %.3f\" % (time.time()-time1))\n",
    "\n",
    "time1 = time.time()\n",
    "fermi = cu.read_fermi_from_cp2k_out(file_cp2k_out)\n",
    "print(\"Read cp2k out: %.3f\" % (time.time()-time1))\n",
    "\n",
    "time1 = time.time()\n",
    "at_positions, at_elems = cu.read_atoms(file_xyz)\n",
    "print(\"Read xyz: %.3f\" % (time.time()-time1))\n",
    "\n",
    "time1 = time.time()\n",
    "basis_sets = cu.read_basis_functions(file_basis_set, elem_basis_names)\n",
    "print(\"Read basis sets: %.3f\" % (time.time()-time1))\n",
    "\n",
    "# RESTART FILE\n",
    "\n",
    "time1 = time.time()\n",
    "morb_composition, morb_comp_rev, morb_energies, morb_occs, ref_energy = cu.load_restart_wfn_file(\n",
    "                                                                            file_restart, emin, emax, fermi)\n",
    "print(\"Found %d orbitals\" % len(morb_energies))\n",
    "print(\"Read restart: %.3f\" % (time.time()-time1))"
   ]
  },
  {
   "cell_type": "code",
   "execution_count": 5,
   "metadata": {},
   "outputs": [
    {
     "name": "stdout",
     "output_type": "stream",
     "text": [
      "1\n"
     ]
    }
   ],
   "source": [
    "i_homo = 0\n",
    "for i, occ in enumerate(morb_occs):\n",
    "    if occ < 1.0:\n",
    "        i_homo = i - 1\n",
    "        break\n",
    "    i_homo = i\n",
    "print(i_homo)"
   ]
  },
  {
   "cell_type": "code",
   "execution_count": null,
   "metadata": {
    "collapsed": true
   },
   "outputs": [],
   "source": []
  },
  {
   "cell_type": "code",
   "execution_count": 6,
   "metadata": {
    "collapsed": true
   },
   "outputs": [],
   "source": [
    "# Cube limits in Z\n",
    "\n",
    "z_top = 4.0 # angstrom\n",
    "# z_bottom is the average of the atomic plane z coord"
   ]
  },
  {
   "cell_type": "code",
   "execution_count": 14,
   "metadata": {
    "collapsed": true
   },
   "outputs": [],
   "source": [
    "# Define real space grid\n",
    "# Cp2k chooses close to 0.08 angstroms (?)\n",
    "step = 0.08\n",
    "step *= ang_2_bohr\n",
    "cell_n = (np.round(cell/step)).astype(int)"
   ]
  },
  {
   "cell_type": "code",
   "execution_count": null,
   "metadata": {},
   "outputs": [
    {
     "name": "stdout",
     "output_type": "stream",
     "text": [
      "Main cell:    [ 196.53151705   47.24315314   34.01507026] [1300  313  225]\n",
      "Local cell:  [ 15.117809  15.117809  15.117809] [100 101 100]\n",
      "---- Setup: 1.2496\n"
     ]
    }
   ],
   "source": [
    "time1 = time.time()\n",
    "\n",
    "pbc_box = 8.0 # Angstroms\n",
    "\n",
    "dv = cell/cell_n\n",
    "x_arr = np.arange(0, cell[0], dv[0])\n",
    "y_arr = np.arange(0, cell[1], dv[1])\n",
    "z_arr = np.arange(0, cell[2], dv[2])\n",
    "x_grid, y_grid, z_grid = np.meshgrid(x_arr, y_arr, z_arr, indexing='ij')\n",
    "\n",
    "# Define small grid for orbital evaluation\n",
    "# and convenient PBC implementation\n",
    "loc_cell = np.array([pbc_box, pbc_box, pbc_box])*ang_2_bohr\n",
    "x_arr_loc = np.arange(0, loc_cell[0], dv[0])\n",
    "y_arr_loc = np.arange(0, loc_cell[1], dv[1])\n",
    "z_arr_loc = np.arange(0, loc_cell[2], dv[2])\n",
    "loc_cell_n = np.array([len(x_arr_loc), len(y_arr_loc), len(z_arr_loc)])\n",
    "# Define it such that the origin is somewhere\n",
    "# in the middle but exactly on a grid point\n",
    "mid_ixs = (loc_cell_n/2).astype(int)\n",
    "x_arr_loc -= x_arr_loc[mid_ixs[0]]\n",
    "y_arr_loc -= y_arr_loc[mid_ixs[1]]\n",
    "z_arr_loc -= z_arr_loc[mid_ixs[2]]\n",
    "x_grid_loc, y_grid_loc, z_grid_loc = np.meshgrid(x_arr_loc, y_arr_loc, z_arr_loc, indexing='ij')\n",
    "\n",
    "# Some info\n",
    "print(\"Main cell:   \", cell, cell_n)\n",
    "print(\"Local cell: \", loc_cell, loc_cell_n)\n",
    "\n",
    "num_morbs = len(morb_composition)\n",
    "\n",
    "morb_grids = 0 # release memory from previous run (needed in some rare cases)\n",
    "morb_grids = [np.zeros(cell_n) for _ in range(num_morbs)]\n",
    "\n",
    "morb_grids_local = np.zeros((num_morbs, loc_cell_n[0], loc_cell_n[1], loc_cell_n[2]))\n",
    "\n",
    "print(\"---- Setup: %.4f\" % (time.time() - time1))\n",
    "\n",
    "\n",
    "time_radial_calc = 0.0\n",
    "time_spherical = 0.0\n",
    "time_loc_glob_add = 0.0\n",
    "time_loc_lmorb_add = 0.0\n",
    "\n",
    "\n",
    "for i_at in range(len(at_positions)):\n",
    "    elem = at_elems[i_at][0]\n",
    "    pos = at_positions[i_at]\n",
    "\n",
    "    # how does the position match with the grid?\n",
    "    int_shift = (pos/dv).astype(int)\n",
    "    frac_shift = pos/dv - int_shift\n",
    "    origin_diff = int_shift - mid_ixs\n",
    "\n",
    "    # Shift the local grid such that origin is on the atom\n",
    "    x_grid_rel_loc = x_grid_loc - frac_shift[0]*dv[0]\n",
    "    y_grid_rel_loc = y_grid_loc - frac_shift[1]*dv[1]\n",
    "    z_grid_rel_loc = z_grid_loc - frac_shift[2]*dv[2]\n",
    "\n",
    "    r_vec_2 = x_grid_rel_loc**2 + y_grid_rel_loc**2 + z_grid_rel_loc**2\n",
    "    \n",
    "    morb_planes_local.fill(0.0)\n",
    "\n",
    "    for i_shell, shell in enumerate(basis_sets[elem]):\n",
    "        l = shell[0]\n",
    "        es = shell[1]\n",
    "        cs = shell[2]\n",
    "\n",
    "        # Calculate the radial part of the atomic orbital\n",
    "        time2 = time.time()\n",
    "        radial_part = np.zeros(loc_cell_n)\n",
    "        for e, c in zip(es, cs):\n",
    "            radial_part += c*np.exp(-1.0*e*r_vec_2)\n",
    "        time_radial_calc += time.time() - time2\n",
    "\n",
    "        for i, m in enumerate(range(-l, l+1, 1)):\n",
    "            time2 = time.time()\n",
    "            atomic_orb = radial_part*cu.spherical_harmonic_grid(l, m,\n",
    "                                                             x_grid_rel_loc,\n",
    "                                                             y_grid_rel_loc,\n",
    "                                                             z_grid_rel_loc)\n",
    "            time_spherical += time.time() - time2\n",
    "            \n",
    "            i_set = 0 # SHOULD START SUPPORTING MULTIPLE SET BASES AT SOME POINT\n",
    "            coef_arr = morb_comp_rev[i_at][i_set][i_shell][i]\n",
    "            \n",
    "            time2 = time.time()\n",
    "            morb_grids_local += np.outer(coef_arr, atomic_orb).reshape(\n",
    "                             num_morbs, loc_cell_n[0], loc_cell_n[1], loc_cell_n[2])\n",
    "            time_loc_lmorb_add += time.time() - time2\n",
    "            \n",
    "    time2 = time.time()\n",
    "    for i_mo in range(num_morbs):\n",
    "        cu.add_local_to_global_grid(morb_grids_local[i_mo], morb_grids[i_mo], origin_diff)\n",
    "    time_loc_glob_add += time.time() - time2\n",
    "\n",
    "print(\"---- Radial calc time : %4f\" % time_radial_calc)\n",
    "print(\"---- Spherical calc time : %4f\" % time_spherical)\n",
    "print(\"---- Loc -> loc_morb time : %4f\" % time_loc_lmorb_add)\n",
    "print(\"---- loc_morb -> glob time : %4f\" % time_loc_glob_add)\n",
    "print(\"---- Total time: %.4f\"%(time.time() - time1))"
   ]
  },
  {
   "cell_type": "code",
   "execution_count": 35,
   "metadata": {},
   "outputs": [
    {
     "data": {
      "text/plain": [
       "array([ 10.06846823,   2.68022287,   0.79150154,   0.23911615,   0.08219318])"
      ]
     },
     "execution_count": 35,
     "metadata": {},
     "output_type": "execute_result"
    }
   ],
   "source": [
    "shell = basis_sets[elem][0]\n",
    "l = shell[0]\n",
    "es = shell[1]\n",
    "cs = shell[2]\n",
    "\n",
    "es"
   ]
  },
  {
   "cell_type": "code",
   "execution_count": 54,
   "metadata": {},
   "outputs": [
    {
     "name": "stdout",
     "output_type": "stream",
     "text": [
      "100000000 loops, best of 3: 7.53 ns per loop\n"
     ]
    }
   ],
   "source": [
    "%timeit 10\n",
    "radial_part = np.zeros(loc_cell_n)\n",
    "for e, c in zip(es, cs):\n",
    "    radial_part += c*np.exp(-1.0*e*r_vec_2)"
   ]
  },
  {
   "cell_type": "code",
   "execution_count": 67,
   "metadata": {},
   "outputs": [
    {
     "name": "stdout",
     "output_type": "stream",
     "text": [
      "The slowest run took 298.10 times longer than the fastest. This could mean that an intermediate result is being cached.\n",
      "100000000 loops, best of 3: 7.58 ns per loop\n"
     ]
    },
    {
     "ename": "IndexError",
     "evalue": "tuple index out of range",
     "output_type": "error",
     "traceback": [
      "\u001b[0;31m---------------------------------------------------------------------------\u001b[0m",
      "\u001b[0;31mIndexError\u001b[0m                                Traceback (most recent call last)",
      "\u001b[0;32m<ipython-input-67-9c916527de65>\u001b[0m in \u001b[0;36m<module>\u001b[0;34m()\u001b[0m\n\u001b[1;32m      2\u001b[0m \u001b[0mradial_part\u001b[0m \u001b[0;34m=\u001b[0m \u001b[0mnp\u001b[0m\u001b[0;34m.\u001b[0m\u001b[0mzeros\u001b[0m\u001b[0;34m(\u001b[0m\u001b[0mloc_cell_n\u001b[0m\u001b[0;34m)\u001b[0m\u001b[0;34m\u001b[0m\u001b[0m\n\u001b[1;32m      3\u001b[0m \u001b[0;34m\u001b[0m\u001b[0m\n\u001b[0;32m----> 4\u001b[0;31m \u001b[0mres\u001b[0m \u001b[0;34m=\u001b[0m \u001b[0mnp\u001b[0m\u001b[0;34m.\u001b[0m\u001b[0mtensordot\u001b[0m\u001b[0;34m(\u001b[0m\u001b[0mc\u001b[0m\u001b[0;34m,\u001b[0m \u001b[0mnp\u001b[0m\u001b[0;34m.\u001b[0m\u001b[0mexp\u001b[0m\u001b[0;34m(\u001b[0m\u001b[0mnp\u001b[0m\u001b[0;34m.\u001b[0m\u001b[0mouter\u001b[0m\u001b[0;34m(\u001b[0m\u001b[0;34m-\u001b[0m\u001b[0;36m1.0\u001b[0m\u001b[0;34m*\u001b[0m\u001b[0mes\u001b[0m\u001b[0;34m,\u001b[0m \u001b[0mr_vec_2\u001b[0m\u001b[0;34m)\u001b[0m\u001b[0;34m.\u001b[0m\u001b[0mreshape\u001b[0m\u001b[0;34m(\u001b[0m\u001b[0;34m(\u001b[0m\u001b[0mlen\u001b[0m\u001b[0;34m(\u001b[0m\u001b[0mes\u001b[0m\u001b[0;34m)\u001b[0m\u001b[0;34m,\u001b[0m \u001b[0mloc_cell_n\u001b[0m\u001b[0;34m[\u001b[0m\u001b[0;36m0\u001b[0m\u001b[0;34m]\u001b[0m\u001b[0;34m,\u001b[0m \u001b[0mloc_cell_n\u001b[0m\u001b[0;34m[\u001b[0m\u001b[0;36m1\u001b[0m\u001b[0;34m]\u001b[0m\u001b[0;34m,\u001b[0m \u001b[0mloc_cell_n\u001b[0m\u001b[0;34m[\u001b[0m\u001b[0;36m2\u001b[0m\u001b[0;34m]\u001b[0m\u001b[0;34m)\u001b[0m\u001b[0;34m)\u001b[0m\u001b[0;34m)\u001b[0m\u001b[0;34m,\u001b[0m \u001b[0maxes\u001b[0m\u001b[0;34m=\u001b[0m\u001b[0;36m1\u001b[0m\u001b[0;34m)\u001b[0m\u001b[0;34m\u001b[0m\u001b[0m\n\u001b[0m",
      "\u001b[0;32m/home/kristjan/opt/anaconda3/lib/python3.6/site-packages/numpy/core/numeric.py\u001b[0m in \u001b[0;36mtensordot\u001b[0;34m(a, b, axes)\u001b[0m\n\u001b[1;32m   1363\u001b[0m     \u001b[0;32melse\u001b[0m\u001b[0;34m:\u001b[0m\u001b[0;34m\u001b[0m\u001b[0m\n\u001b[1;32m   1364\u001b[0m         \u001b[0;32mfor\u001b[0m \u001b[0mk\u001b[0m \u001b[0;32min\u001b[0m \u001b[0mrange\u001b[0m\u001b[0;34m(\u001b[0m\u001b[0mna\u001b[0m\u001b[0;34m)\u001b[0m\u001b[0;34m:\u001b[0m\u001b[0;34m\u001b[0m\u001b[0m\n\u001b[0;32m-> 1365\u001b[0;31m             \u001b[0;32mif\u001b[0m \u001b[0mas_\u001b[0m\u001b[0;34m[\u001b[0m\u001b[0maxes_a\u001b[0m\u001b[0;34m[\u001b[0m\u001b[0mk\u001b[0m\u001b[0;34m]\u001b[0m\u001b[0;34m]\u001b[0m \u001b[0;34m!=\u001b[0m \u001b[0mbs\u001b[0m\u001b[0;34m[\u001b[0m\u001b[0maxes_b\u001b[0m\u001b[0;34m[\u001b[0m\u001b[0mk\u001b[0m\u001b[0;34m]\u001b[0m\u001b[0;34m]\u001b[0m\u001b[0;34m:\u001b[0m\u001b[0;34m\u001b[0m\u001b[0m\n\u001b[0m\u001b[1;32m   1366\u001b[0m                 \u001b[0mequal\u001b[0m \u001b[0;34m=\u001b[0m \u001b[0;32mFalse\u001b[0m\u001b[0;34m\u001b[0m\u001b[0m\n\u001b[1;32m   1367\u001b[0m                 \u001b[0;32mbreak\u001b[0m\u001b[0;34m\u001b[0m\u001b[0m\n",
      "\u001b[0;31mIndexError\u001b[0m: tuple index out of range"
     ]
    }
   ],
   "source": [
    "%timeit 10\n",
    "radial_part = np.zeros(loc_cell_n)\n",
    "\n",
    "res = np.tensordot(c, np.exp(np.outer(-1.0*es, r_vec_2).reshape((len(es), loc_cell_n[0], loc_cell_n[1], loc_cell_n[2]))), axes=1)"
   ]
  },
  {
   "cell_type": "code",
   "execution_count": null,
   "metadata": {},
   "outputs": [],
   "source": [
    "res.shape"
   ]
  },
  {
   "cell_type": "code",
   "execution_count": null,
   "metadata": {
    "collapsed": true
   },
   "outputs": [],
   "source": []
  },
  {
   "cell_type": "code",
   "execution_count": 18,
   "metadata": {
    "collapsed": true
   },
   "outputs": [],
   "source": [
    "cu.write_cube_file(\"/home/kristjan/local_work/asetk_example1/for_restart_file/test.cube\",\n",
    "                   file_xyz, cell, cell_n, morb_grids[i_homo-5])"
   ]
  },
  {
   "cell_type": "code",
   "execution_count": 19,
   "metadata": {},
   "outputs": [
    {
     "data": {
      "text/plain": [
       "0.99999971559830036"
      ]
     },
     "execution_count": 19,
     "metadata": {},
     "output_type": "execute_result"
    }
   ],
   "source": [
    "# check for normalization\n",
    "dv = cell/cell_n\n",
    "vol_elem = dv[0]*dv[1]*dv[2]\n",
    "np.sum(morb_grids[i_homo]**2)*vol_elem"
   ]
  },
  {
   "cell_type": "code",
   "execution_count": null,
   "metadata": {
    "collapsed": true
   },
   "outputs": [],
   "source": []
  },
  {
   "cell_type": "code",
   "execution_count": null,
   "metadata": {
    "collapsed": true
   },
   "outputs": [],
   "source": []
  }
 ],
 "metadata": {
  "kernelspec": {
   "display_name": "Python 3",
   "language": "python",
   "name": "python3"
  },
  "language_info": {
   "codemirror_mode": {
    "name": "ipython",
    "version": 3
   },
   "file_extension": ".py",
   "mimetype": "text/x-python",
   "name": "python",
   "nbconvert_exporter": "python",
   "pygments_lexer": "ipython3",
   "version": "3.6.1"
  }
 },
 "nbformat": 4,
 "nbformat_minor": 2
}

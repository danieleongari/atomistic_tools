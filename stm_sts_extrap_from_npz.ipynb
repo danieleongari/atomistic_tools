{
 "cells": [
  {
   "cell_type": "code",
   "execution_count": 109,
   "metadata": {
    "collapsed": true
   },
   "outputs": [],
   "source": [
    "import os\n",
    "import numpy as np\n",
    "import time\n",
    "import copy\n",
    "import sys\n",
    "\n",
    "import matplotlib\n",
    "import matplotlib.pyplot as plt\n",
    "\n",
    "\n",
    "ang_2_bohr = 1.0/0.52917721067\n",
    "hart_2_ev = 27.21138602\n",
    "\n",
    "import cp2k_stm_utilities as csu"
   ]
  },
  {
   "cell_type": "code",
   "execution_count": 110,
   "metadata": {
    "collapsed": true
   },
   "outputs": [],
   "source": [
    "path = \"/home/kristjan/local_work/morbs_test/cnt120-L2-spin-pol/morbs_h1_dx0.2.npz\""
   ]
  },
  {
   "cell_type": "code",
   "execution_count": 111,
   "metadata": {
    "collapsed": true
   },
   "outputs": [],
   "source": [
    "path = \"/home/kristjan/sshfs/daint_scratch/cp2k_pyrene_gnr/stm_output/stm_ch.npz\""
   ]
  },
  {
   "cell_type": "code",
   "execution_count": 112,
   "metadata": {},
   "outputs": [],
   "source": [
    "npz_file_data = np.load(path)"
   ]
  },
  {
   "cell_type": "code",
   "execution_count": 113,
   "metadata": {},
   "outputs": [
    {
     "data": {
      "text/plain": [
       "<numpy.lib.npyio.NpzFile at 0x7fcf5a5627b8>"
      ]
     },
     "execution_count": 113,
     "metadata": {},
     "output_type": "execute_result"
    }
   ],
   "source": [
    "npz_file_data"
   ]
  },
  {
   "cell_type": "code",
   "execution_count": 114,
   "metadata": {},
   "outputs": [
    {
     "name": "stdout",
     "output_type": "stream",
     "text": [
      "data\n",
      "heights\n",
      "bias\n",
      "x\n",
      "y\n"
     ]
    }
   ],
   "source": [
    "for key in npz_file_data:\n",
    "    print(key)"
   ]
  },
  {
   "cell_type": "code",
   "execution_count": 116,
   "metadata": {},
   "outputs": [
    {
     "data": {
      "text/plain": [
       "(2, 649, 306, 4)"
      ]
     },
     "execution_count": 116,
     "metadata": {},
     "output_type": "execute_result"
    }
   ],
   "source": [
    "npz_file_data['data'].shape"
   ]
  },
  {
   "cell_type": "code",
   "execution_count": 88,
   "metadata": {},
   "outputs": [],
   "source": [
    "a = np.ones((3, 3, 3))"
   ]
  },
  {
   "cell_type": "code",
   "execution_count": 104,
   "metadata": {
    "collapsed": true
   },
   "outputs": [],
   "source": [
    "c = np.array([1, 2, 3, 2])"
   ]
  },
  {
   "cell_type": "code",
   "execution_count": 105,
   "metadata": {},
   "outputs": [
    {
     "data": {
      "text/plain": [
       "2"
      ]
     },
     "execution_count": 105,
     "metadata": {},
     "output_type": "execute_result"
    }
   ],
   "source": [
    "(c == 2).sum()"
   ]
  },
  {
   "cell_type": "code",
   "execution_count": 108,
   "metadata": {},
   "outputs": [
    {
     "data": {
      "text/plain": [
       "array([ 10.,   1.,   2.,   3.,   2.])"
      ]
     },
     "execution_count": 108,
     "metadata": {},
     "output_type": "execute_result"
    }
   ],
   "source": [
    "np.concatenate(([10.0], c))"
   ]
  },
  {
   "cell_type": "code",
   "execution_count": 93,
   "metadata": {},
   "outputs": [],
   "source": [
    "b = np.zeros((3, 3, 1))"
   ]
  },
  {
   "cell_type": "code",
   "execution_count": 96,
   "metadata": {},
   "outputs": [
    {
     "data": {
      "text/plain": [
       "array([[[ 1.,  1.,  1.,  0.],\n",
       "        [ 1.,  1.,  1.,  0.],\n",
       "        [ 1.,  1.,  1.,  0.]],\n",
       "\n",
       "       [[ 1.,  1.,  1.,  0.],\n",
       "        [ 1.,  1.,  1.,  0.],\n",
       "        [ 1.,  1.,  1.,  0.]],\n",
       "\n",
       "       [[ 1.,  1.,  1.,  0.],\n",
       "        [ 1.,  1.,  1.,  0.],\n",
       "        [ 1.,  1.,  1.,  0.]]])"
      ]
     },
     "execution_count": 96,
     "metadata": {},
     "output_type": "execute_result"
    }
   ],
   "source": [
    "np.concatenate((a, b), axis=2)"
   ]
  },
  {
   "cell_type": "code",
   "execution_count": 76,
   "metadata": {},
   "outputs": [],
   "source": [
    "x_arr = npz_file_data['x_arr']\n",
    "y_arr = npz_file_data['y_arr']\n",
    "z_arr = npz_file_data['z_arr']\n",
    "mol_bbox = npz_file_data['mol_bbox']\n",
    "elim = npz_file_data['elim']\n",
    "ref_energy = npz_file_data['ref_energy']\n",
    "geom_label = npz_file_data['geom_label']"
   ]
  },
  {
   "cell_type": "code",
   "execution_count": 77,
   "metadata": {},
   "outputs": [],
   "source": [
    "morb_grids = [npz_file_data['morb_grids_s1']]\n",
    "morb_energies = [npz_file_data['morb_energies_s1']]\n",
    "homo_inds = [npz_file_data['homo_s1']]\n",
    "\n",
    "if 'morb_grids_s2' in npz_file_data:\n",
    "    morb_grids.append(npz_file_data['morb_grids_s2'])\n",
    "    morb_energies.append(npz_file_data['morb_energies_s2'])\n",
    "    homo_inds.append(npz_file_data['homo_s2'])"
   ]
  },
  {
   "cell_type": "code",
   "execution_count": 67,
   "metadata": {},
   "outputs": [
    {
     "data": {
      "text/plain": [
       "(5, 210, 68, 1)"
      ]
     },
     "execution_count": 67,
     "metadata": {},
     "output_type": "execute_result"
    }
   ],
   "source": [
    "morb_grids[0].shape"
   ]
  },
  {
   "cell_type": "code",
   "execution_count": 80,
   "metadata": {},
   "outputs": [
    {
     "data": {
      "text/plain": [
       "array([ 36.20174028])"
      ]
     },
     "execution_count": 80,
     "metadata": {},
     "output_type": "execute_result"
    }
   ],
   "source": [
    "z_arr"
   ]
  },
  {
   "cell_type": "code",
   "execution_count": 59,
   "metadata": {},
   "outputs": [
    {
     "data": {
      "image/png": "[encoded data removed]",
      "text/plain": [
       "<matplotlib.figure.Figure at 0x7fcf5a490908>"
      ]
     },
     "metadata": {},
     "output_type": "display_data"
    }
   ],
   "source": [
    "plt.pcolormesh(morb_grids[0][2, :, :, 0].T)\n",
    "plt.show()"
   ]
  },
  {
   "cell_type": "code",
   "execution_count": 68,
   "metadata": {},
   "outputs": [
    {
     "data": {
      "text/plain": [
       "array([ 36.20174028])"
      ]
     },
     "execution_count": 68,
     "metadata": {},
     "output_type": "execute_result"
    }
   ],
   "source": [
    "z_arr"
   ]
  },
  {
   "cell_type": "code",
   "execution_count": 70,
   "metadata": {},
   "outputs": [
    {
     "data": {
      "text/plain": [
       "array([ 14.8208651 ,  15.19639238,  15.57191965,  15.94744693,\n",
       "        16.3229742 ,  16.69850148,  17.07402875,  17.44955603,\n",
       "        17.8250833 ,  18.20061058,  18.57613785,  18.95166513,\n",
       "        19.3271924 ,  19.70271968,  20.07824695,  20.45377423,\n",
       "        20.8293015 ,  21.20482878,  21.58035606,  21.95588333,\n",
       "        22.33141061,  22.70693788,  23.08246516,  23.45799243,\n",
       "        23.83351971,  24.20904698,  24.58457426,  24.96010153,\n",
       "        25.33562881,  25.71115608,  26.08668336,  26.46221063,\n",
       "        26.83773791,  27.21326518,  27.58879246,  27.96431973,\n",
       "        28.33984701,  28.71537428,  29.09090156,  29.46642883,\n",
       "        29.84195611,  30.21748338,  30.59301066,  30.96853793,\n",
       "        31.34406521,  31.71959248,  32.09511976,  32.47064703,\n",
       "        32.84617431,  33.22170158,  33.59722886,  33.97275613,\n",
       "        34.34828341,  34.72381068,  35.09933796,  35.47486523,\n",
       "        35.85039251,  36.22591978,  36.60144706,  36.97697433,\n",
       "        37.35250161,  37.72802888,  38.10355616,  38.47908343,\n",
       "        38.85461071,  39.23013798,  39.60566526,  39.98119254])"
      ]
     },
     "execution_count": 70,
     "metadata": {},
     "output_type": "execute_result"
    }
   ],
   "source": [
    "y_arr"
   ]
  },
  {
   "cell_type": "code",
   "execution_count": null,
   "metadata": {
    "collapsed": true
   },
   "outputs": [],
   "source": []
  }
 ],
 "metadata": {
  "kernelspec": {
   "display_name": "Python 3",
   "language": "python",
   "name": "python3"
  },
  "language_info": {
   "codemirror_mode": {
    "name": "ipython",
    "version": 3
   },
   "file_extension": ".py",
   "mimetype": "text/x-python",
   "name": "python",
   "nbconvert_exporter": "python",
   "pygments_lexer": "ipython3",
   "version": "3.6.1"
  }
 },
 "nbformat": 4,
 "nbformat_minor": 2
}

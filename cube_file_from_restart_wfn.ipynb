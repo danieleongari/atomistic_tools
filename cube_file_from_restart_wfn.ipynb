{
 "cells": [
  {
   "cell_type": "code",
   "execution_count": 1,
   "metadata": {},
   "outputs": [],
   "source": [
    "import os\n",
    "import numpy as np\n",
    "import time\n",
    "import copy\n",
    "import sys\n",
    "\n",
    "import scipy.io\n",
    "\n",
    "import matplotlib\n",
    "import matplotlib.pyplot as plt\n",
    "\n",
    "ang_2_bohr = 1.0/0.52917721067\n",
    "hart_2_ev = 27.21138602\n",
    "\n",
    "import cp2k_stm_utilities as csu"
   ]
  },
  {
   "cell_type": "code",
   "execution_count": 2,
   "metadata": {
    "collapsed": true
   },
   "outputs": [],
   "source": [
    "#folder = \"/home/kristjan/local_work/morbs_test/cp2k_basis_test/\"\n",
    "#file_basis_set = folder + \"BASIS_SET\"\n",
    "#file_xyz = folder + \"h2.xyz\"\n",
    "#file_restart = folder + \"PROJ-RESTART.wfn\"\n",
    "#file_cp2k_inp = folder + \"cp2k.inp\"\n",
    "#file_cp2k_out = folder + \"cp2k.out\"\n",
    "\n",
    "folder = \"/home/kristjan/local_work/morbs_test/cnt120-L2-spin-pol/\"\n",
    "file_basis_set = folder + \"BR\"\n",
    "file_xyz = folder + \"cnt120-L2-ideal-spin-ends.xyz\"\n",
    "file_restart = folder + \"PROJ-RESTART.wfn\"\n",
    "file_cp2k_inp = folder + \"cp2k.inp\"\n",
    "file_cp2k_out = folder + \"cp2k.out\"\n",
    "\n",
    "#folder = \"/home/kristjan/local_work/morbs_test/c2h2/\"\n",
    "#file_basis_set = folder + \"BR\"\n",
    "#file_xyz = folder + \"p.xyz\"\n",
    "#file_restart = folder + \"PROJ-RESTART.wfn\"\n",
    "#file_cp2k_inp = folder + \"cp2k.inp\"\n",
    "#file_cp2k_out = folder + \"out\""
   ]
  },
  {
   "cell_type": "code",
   "execution_count": 3,
   "metadata": {
    "collapsed": true
   },
   "outputs": [],
   "source": [
    "emin = -0.111\n",
    "emax =  1.5"
   ]
  },
  {
   "cell_type": "code",
   "execution_count": 4,
   "metadata": {},
   "outputs": [
    {
     "name": "stdout",
     "output_type": "stream",
     "text": [
      "Read cp2k input: 0.008\n",
      "Read basis sets: 0.005\n",
      "Read xyz: 0.009\n",
      "S0 nmo: 1588, [eV] H-1 -3.40004189 Homo -3.40003793 H+1 -2.72076802\n",
      "S1 nmo: 1588, [eV] H-1 -3.40006011 Homo -3.40005569 H+1 -2.72077173\n"
     ]
    },
    {
     "ename": "IndexError",
     "evalue": "list index out of range",
     "output_type": "error",
     "traceback": [
      "\u001b[0;31m---------------------------------------------------------------------------\u001b[0m",
      "\u001b[0;31mIndexError\u001b[0m                                Traceback (most recent call last)",
      "\u001b[0;32m<ipython-input-4-949daf3f8d13>\u001b[0m in \u001b[0;36m<module>\u001b[0;34m()\u001b[0m\n\u001b[1;32m     12\u001b[0m \u001b[0;34m\u001b[0m\u001b[0m\n\u001b[1;32m     13\u001b[0m \u001b[0mtime1\u001b[0m \u001b[0;34m=\u001b[0m \u001b[0mtime\u001b[0m\u001b[0;34m.\u001b[0m\u001b[0mtime\u001b[0m\u001b[0;34m(\u001b[0m\u001b[0;34m)\u001b[0m\u001b[0;34m\u001b[0m\u001b[0m\n\u001b[0;32m---> 14\u001b[0;31m \u001b[0mmorb_composition\u001b[0m\u001b[0;34m,\u001b[0m \u001b[0mmorb_energies\u001b[0m\u001b[0;34m,\u001b[0m \u001b[0mmorb_occs\u001b[0m\u001b[0;34m,\u001b[0m \u001b[0mhomo_inds\u001b[0m\u001b[0;34m,\u001b[0m \u001b[0mref_en\u001b[0m \u001b[0;34m=\u001b[0m \u001b[0mcsu\u001b[0m\u001b[0;34m.\u001b[0m\u001b[0mload_restart_wfn_file\u001b[0m\u001b[0;34m(\u001b[0m\u001b[0mfile_restart\u001b[0m\u001b[0;34m,\u001b[0m \u001b[0memin\u001b[0m\u001b[0;34m,\u001b[0m \u001b[0memax\u001b[0m\u001b[0;34m)\u001b[0m\u001b[0;34m\u001b[0m\u001b[0m\n\u001b[0m\u001b[1;32m     15\u001b[0m \u001b[0mprint\u001b[0m\u001b[0;34m(\u001b[0m\u001b[0;34m\"Found %d orbitals\"\u001b[0m \u001b[0;34m%\u001b[0m \u001b[0mlen\u001b[0m\u001b[0;34m(\u001b[0m\u001b[0mmorb_energies\u001b[0m\u001b[0;34m[\u001b[0m\u001b[0;36m0\u001b[0m\u001b[0;34m]\u001b[0m\u001b[0;34m)\u001b[0m\u001b[0;34m)\u001b[0m\u001b[0;34m\u001b[0m\u001b[0m\n\u001b[1;32m     16\u001b[0m \u001b[0mprint\u001b[0m\u001b[0;34m(\u001b[0m\u001b[0;34m\"Read restart: %.3f\"\u001b[0m \u001b[0;34m%\u001b[0m \u001b[0;34m(\u001b[0m\u001b[0mtime\u001b[0m\u001b[0;34m.\u001b[0m\u001b[0mtime\u001b[0m\u001b[0;34m(\u001b[0m\u001b[0;34m)\u001b[0m\u001b[0;34m-\u001b[0m\u001b[0mtime1\u001b[0m\u001b[0;34m)\u001b[0m\u001b[0;34m)\u001b[0m\u001b[0;34m\u001b[0m\u001b[0m\n",
      "\u001b[0;32m/home/kristjan/Dropbox/empa/work/sts_cp2k/cp2k_stm_utilities.py\u001b[0m in \u001b[0;36mload_restart_wfn_file\u001b[0;34m(restart_file, emin, emax)\u001b[0m\n\u001b[1;32m    330\u001b[0m         \u001b[0mref_energy\u001b[0m \u001b[0;34m=\u001b[0m \u001b[0mmorb_energies\u001b[0m\u001b[0;34m[\u001b[0m\u001b[0;36m0\u001b[0m\u001b[0;34m]\u001b[0m\u001b[0;34m[\u001b[0m\u001b[0mloc_homo_inds\u001b[0m\u001b[0;34m[\u001b[0m\u001b[0;36m0\u001b[0m\u001b[0;34m]\u001b[0m\u001b[0;34m]\u001b[0m\u001b[0;34m\u001b[0m\u001b[0m\n\u001b[1;32m    331\u001b[0m     \u001b[0;32melse\u001b[0m\u001b[0;34m:\u001b[0m\u001b[0;34m\u001b[0m\u001b[0m\n\u001b[0;32m--> 332\u001b[0;31m         ref_energy = (morb_energies[0][loc_homo_inds[0]] +\n\u001b[0m\u001b[1;32m    333\u001b[0m                       morb_energies[1][loc_homo_inds[1]]) / 2\n\u001b[1;32m    334\u001b[0m \u001b[0;34m\u001b[0m\u001b[0m\n",
      "\u001b[0;31mIndexError\u001b[0m: list index out of range"
     ]
    }
   ],
   "source": [
    "time1 = time.time()\n",
    "elem_basis_names, cell = csu.read_cp2k_input(file_cp2k_inp)\n",
    "print(\"Read cp2k input: %.3f\" % (time.time()-time1))\n",
    "\n",
    "time1 = time.time()\n",
    "basis_sets = csu.read_basis_functions(file_basis_set, elem_basis_names)\n",
    "print(\"Read basis sets: %.3f\" % (time.time()-time1))\n",
    "\n",
    "time1 = time.time()\n",
    "ase_atoms = csu.read_xyz(file_xyz)\n",
    "print(\"Read xyz: %.3f\" % (time.time()-time1))\n",
    "\n",
    "time1 = time.time()\n",
    "morb_composition, morb_energies, morb_occs, homo_inds, ref_en = csu.load_restart_wfn_file(file_restart, emin, emax)\n",
    "print(\"Found %d orbitals\" % len(morb_energies[0]))\n",
    "print(\"Read restart: %.3f\" % (time.time()-time1))"
   ]
  },
  {
   "cell_type": "code",
   "execution_count": 5,
   "metadata": {},
   "outputs": [
    {
     "data": {
      "text/plain": [
       "[array([ -1.10997269e-01,  -2.25601956e-02,  -2.25175516e-02,\n",
       "          4.92531219e-06,   8.88326679e-06,   6.79278787e-01,\n",
       "          6.79319201e-01,   7.64278780e-01,   7.64281991e-01,\n",
       "          8.67912674e-01,   1.30714821e+00,   1.30718835e+00,\n",
       "          1.35900707e+00,   1.35900712e+00,   1.44206857e+00]),\n",
       " array([ -2.25556522e-02,  -2.25130374e-02,  -1.33011878e-05,\n",
       "         -8.88326679e-06,   6.79275079e-01,   6.79314788e-01,\n",
       "          7.64299448e-01,   7.64302071e-01,   8.67937210e-01,\n",
       "          1.30714836e+00,   1.30718808e+00,   1.35900379e+00,\n",
       "          1.35900383e+00,   1.44206591e+00])]"
      ]
     },
     "execution_count": 5,
     "metadata": {},
     "output_type": "execute_result"
    }
   ],
   "source": [
    "morb_energies"
   ]
  },
  {
   "cell_type": "code",
   "execution_count": 6,
   "metadata": {},
   "outputs": [
    {
     "data": {
      "text/plain": [
       "[[4, 3], [588, 588], [593, 593]]"
      ]
     },
     "execution_count": 6,
     "metadata": {},
     "output_type": "execute_result"
    }
   ],
   "source": [
    "homo_inds"
   ]
  },
  {
   "cell_type": "code",
   "execution_count": 7,
   "metadata": {},
   "outputs": [
    {
     "data": {
      "text/plain": [
       "[[], []]"
      ]
     },
     "execution_count": 7,
     "metadata": {},
     "output_type": "execute_result"
    }
   ],
   "source": [
    "morb_composition"
   ]
  },
  {
   "cell_type": "code",
   "execution_count": 7,
   "metadata": {
    "collapsed": true
   },
   "outputs": [],
   "source": [
    "# Define real space grid\n",
    "# Cp2k chooses close to 0.08 angstroms (?)\n",
    "step = 0.16 # Good to choose a factor of the lattice parameter 4.26\n",
    "step *= ang_2_bohr\n",
    "cell_n = (np.round(cell/step)).astype(int)\n",
    "\n",
    "# !!! NB: Redefine cell such that step stays the same (and a factor of lattice param)\n",
    "#cell = cell_n*step\n",
    "\n",
    "#csu.center_atoms_to_cell(at_positions, cell)"
   ]
  },
  {
   "cell_type": "code",
   "execution_count": 8,
   "metadata": {
    "collapsed": true
   },
   "outputs": [],
   "source": [
    "# define evaluation region:\n",
    "\n",
    "x_eval_region = None\n",
    "y_eval_region = None\n",
    "z_eval_region = None\n",
    "\n",
    "eval_regions = [x_eval_region, y_eval_region, z_eval_region]\n",
    "\n",
    "origin = np.zeros(3)\n",
    "new_cell = np.copy(cell)\n",
    "\n",
    "for i, e_reg in enumerate(eval_regions):\n",
    "    if e_reg is None:\n",
    "        origin[i] = 0.0\n",
    "        new_cell[i] = cell[i]\n",
    "    else:\n",
    "        origin[i] = e_reg[0]\n",
    "        new_cell[i] = e_reg[1] - e_reg[0]\n"
   ]
  },
  {
   "cell_type": "code",
   "execution_count": 9,
   "metadata": {},
   "outputs": [
    {
     "data": {
      "text/plain": [
       "Atoms(symbols='C288H24', pbc=False, cell=[26.42, 9.31427189299, 9.31427189299])"
      ]
     },
     "execution_count": 9,
     "metadata": {},
     "output_type": "execute_result"
    }
   ],
   "source": [
    "ase_atoms"
   ]
  },
  {
   "cell_type": "code",
   "execution_count": 10,
   "metadata": {},
   "outputs": [
    {
     "name": "stdout",
     "output_type": "stream",
     "text": [
      "Global cell:  [262 156 156]\n",
      "Eval cell:  [262 156 156]\n",
      "local cell:  [75 75 75]\n",
      "---- Setup: 0.0147\n",
      "---- Radial calc time : 68.657476\n",
      "---- Spherical calc time : 6.041088\n",
      "---- Loc -> loc_morb time : 99.787840\n",
      "---- loc_morb -> glob time : 30.113897\n",
      "---- Total time: 209.1703\n"
     ]
    }
   ],
   "source": [
    "morb_grids_new = csu.calc_morbs_in_region(cell, cell_n,\n",
    "                                         ase_atoms,\n",
    "                                         basis_sets, morb_composition,\n",
    "                                         x_eval_region = x_eval_region,\n",
    "                                         y_eval_region = y_eval_region,\n",
    "                                         z_eval_region = z_eval_region,\n",
    "                                         eval_cutoff = 12.0\n",
    "                                        )"
   ]
  },
  {
   "cell_type": "code",
   "execution_count": 11,
   "metadata": {},
   "outputs": [
    {
     "data": {
      "text/plain": [
       "(15, 262, 156, 156)"
      ]
     },
     "execution_count": 11,
     "metadata": {},
     "output_type": "execute_result"
    }
   ],
   "source": [
    "morb_grids_new[0].shape"
   ]
  },
  {
   "cell_type": "code",
   "execution_count": 16,
   "metadata": {},
   "outputs": [
    {
     "data": {
      "image/png": "[encoded data removed]",
      "text/plain": [
       "<matplotlib.figure.Figure at 0x7f0b941d86a0>"
      ]
     },
     "metadata": {},
     "output_type": "display_data"
    }
   ],
   "source": [
    "plt.pcolormesh(morb_grids_new[0][1][:, :, 5])\n",
    "plt.show()"
   ]
  },
  {
   "cell_type": "code",
   "execution_count": 15,
   "metadata": {},
   "outputs": [],
   "source": [
    "save_morb = morb_grids_new[1][homo_inds[0][1]]\n",
    "\n",
    "csu.write_cube_file(\"/home/kristjan/local_work/morbs_test/test.cube\",\n",
    "                   ase_atoms, new_cell, save_morb.shape, save_morb, origin = origin)"
   ]
  },
  {
   "cell_type": "code",
   "execution_count": 17,
   "metadata": {},
   "outputs": [
    {
     "data": {
      "text/plain": [
       "1.0000013846797009"
      ]
     },
     "execution_count": 17,
     "metadata": {},
     "output_type": "execute_result"
    }
   ],
   "source": [
    "# check for normalization\n",
    "dv = cell/cell_n\n",
    "vol_elem = dv[0]*dv[1]*dv[2]\n",
    "np.sum(morb_grids_new[0][0]**2)*vol_elem"
   ]
  },
  {
   "cell_type": "code",
   "execution_count": null,
   "metadata": {
    "collapsed": true
   },
   "outputs": [],
   "source": []
  },
  {
   "cell_type": "code",
   "execution_count": null,
   "metadata": {
    "collapsed": true
   },
   "outputs": [],
   "source": []
  }
 ],
 "metadata": {
  "kernelspec": {
   "display_name": "Python 3",
   "language": "python",
   "name": "python3"
  },
  "language_info": {
   "codemirror_mode": {
    "name": "ipython",
    "version": 3
   },
   "file_extension": ".py",
   "mimetype": "text/x-python",
   "name": "python",
   "nbconvert_exporter": "python",
   "pygments_lexer": "ipython3",
   "version": "3.6.1"
  }
 },
 "nbformat": 4,
 "nbformat_minor": 2
}

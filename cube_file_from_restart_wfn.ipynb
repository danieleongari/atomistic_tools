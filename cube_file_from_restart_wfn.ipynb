{
 "cells": [
  {
   "cell_type": "code",
   "execution_count": 1,
   "metadata": {},
   "outputs": [],
   "source": [
    "import os\n",
    "import numpy as np\n",
    "import time\n",
    "import copy\n",
    "import sys\n",
    "import re\n",
    "\n",
    "import scipy.io\n",
    "\n",
    "import matplotlib\n",
    "import matplotlib.pyplot as plt\n",
    "\n",
    "ang_2_bohr = 1.0/0.52917721067\n",
    "hart_2_ev = 27.21138602\n",
    "\n",
    "import atomistic_tools.cp2k_stm_utilities as csu"
   ]
  },
  {
   "cell_type": "code",
   "execution_count": 2,
   "metadata": {
    "collapsed": true
   },
   "outputs": [],
   "source": [
    "#folder = \"/home/kristjan/local_work/morbs_test/cp2k_basis_test/\"\n",
    "#file_basis_set = folder + \"BASIS_SET\"\n",
    "#file_xyz = folder + \"h2.xyz\"\n",
    "#file_restart = folder + \"PROJ-RESTART.wfn\"\n",
    "#file_cp2k_inp = folder + \"cp2k.inp\"\n",
    "#file_cp2k_out = folder + \"cp2k.out\"\n",
    "\n",
    "folder = \"/home/kristjan/local_work/morbs_test/c/\"\n",
    "file_basis_set = folder + \"BR\"\n",
    "file_xyz = folder + \"p.xyz\"\n",
    "file_restart = folder + \"PROJ-RESTART.wfn\"\n",
    "file_cp2k_inp = folder + \"cp2k.inp\"\n",
    "file_cp2k_out = folder + \"cp2k.out\"\n",
    "\n",
    "#folder = \"/home/kristjan/local_work/morbs_test/c2h2/\"\n",
    "#file_basis_set = folder + \"BR\"\n",
    "#file_xyz = folder + \"p.xyz\"\n",
    "#file_restart = folder + \"PROJ-RESTART.wfn\"\n",
    "#file_cp2k_inp = folder + \"cp2k.inp\"\n",
    "#file_cp2k_out = folder + \"out\""
   ]
  },
  {
   "cell_type": "code",
   "execution_count": 3,
   "metadata": {
    "collapsed": true
   },
   "outputs": [],
   "source": [
    "emin = -20.0\n",
    "emax =  20.0"
   ]
  },
  {
   "cell_type": "code",
   "execution_count": 4,
   "metadata": {},
   "outputs": [
    {
     "name": "stdout",
     "output_type": "stream",
     "text": [
      "Read cp2k input: 0.008\n",
      "Read basis sets: 0.017\n",
      "Read xyz: 0.008\n",
      "S0 nmo: 12, [eV] H-1 -12.49386142 Homo -3.96467111 H+1 -3.96467111\n",
      "Found 8 orbitals\n",
      "Read restart: 0.005\n"
     ]
    }
   ],
   "source": [
    "time1 = time.time()\n",
    "elem_basis_names, cell = csu.read_cp2k_input(file_cp2k_inp)\n",
    "print(\"Read cp2k input: %.3f\" % (time.time()-time1))\n",
    "\n",
    "time1 = time.time()\n",
    "basis_sets = csu.read_basis_functions(file_basis_set, elem_basis_names)\n",
    "print(\"Read basis sets: %.3f\" % (time.time()-time1))\n",
    "\n",
    "time1 = time.time()\n",
    "ase_atoms = csu.read_xyz(file_xyz)\n",
    "csu.center_atoms_to_cell(ase_atoms.positions, cell/ang_2_bohr)\n",
    "print(\"Read xyz: %.3f\" % (time.time()-time1))\n",
    "\n",
    "time1 = time.time()\n",
    "morb_composition, morb_energies, morb_occs, homo_inds, ref_en = csu.load_restart_wfn_file(file_restart, emin, emax)\n",
    "print(\"Found %d orbitals\" % len(morb_energies[0]))\n",
    "print(\"Read restart: %.3f\" % (time.time()-time1))"
   ]
  },
  {
   "cell_type": "code",
   "execution_count": 5,
   "metadata": {},
   "outputs": [
    {
     "data": {
      "text/plain": [
       "[[1], [2], [4]]"
      ]
     },
     "execution_count": 5,
     "metadata": {},
     "output_type": "execute_result"
    }
   ],
   "source": [
    "homo_inds"
   ]
  },
  {
   "cell_type": "code",
   "execution_count": 8,
   "metadata": {},
   "outputs": [],
   "source": [
    "# Define real space grid\n",
    "# Cp2k chooses close to 0.08 angstroms (?)\n",
    "step = 0.08 # Good to choose a factor of the lattice parameter 4.26\n",
    "step *= ang_2_bohr\n",
    "cell_n = (np.round(cell/step)).astype(int)\n",
    "\n",
    "# Other possiblity: define cell_n directly\n",
    "cell_n = np.array([75, 75, 75])"
   ]
  },
  {
   "cell_type": "code",
   "execution_count": 10,
   "metadata": {
    "collapsed": true
   },
   "outputs": [],
   "source": [
    "# define evaluation region:\n",
    "\n",
    "x_eval_region = None\n",
    "y_eval_region = None\n",
    "z_eval_region = None\n",
    "\n",
    "eval_regions = [x_eval_region, y_eval_region, z_eval_region]\n",
    "\n",
    "origin = np.zeros(3)\n",
    "new_cell = np.copy(cell)\n",
    "\n",
    "for i, e_reg in enumerate(eval_regions):\n",
    "    if e_reg is None:\n",
    "        origin[i] = 0.0\n",
    "        new_cell[i] = cell[i]\n",
    "    else:\n",
    "        origin[i] = e_reg[0]\n",
    "        new_cell[i] = e_reg[1] - e_reg[0]\n"
   ]
  },
  {
   "cell_type": "code",
   "execution_count": 15,
   "metadata": {},
   "outputs": [
    {
     "name": "stdout",
     "output_type": "stream",
     "text": [
      "Global cell:  [75 75 75]\n",
      "Eval cell:  [75 75 75]\n",
      "local cell:  [210 210 210]\n",
      "---- Setup: 0.3639\n",
      "---- Radial calc time : 22.170908\n",
      "---- Spherical calc time : 1.516677\n",
      "---- Loc -> loc_morb time : 5.838144\n",
      "---- loc_morb -> glob time : 0.579899\n",
      "---- Total time: 31.0696\n"
     ]
    }
   ],
   "source": [
    "morb_grids = csu.calc_morbs_in_region(cell, cell_n,\n",
    "                                      ase_atoms,\n",
    "                                      basis_sets, morb_composition,\n",
    "                                      x_eval_region = x_eval_region,\n",
    "                                      y_eval_region = y_eval_region,\n",
    "                                      z_eval_region = z_eval_region,\n",
    "                                      eval_cutoff = 14.0\n",
    "                                     )"
   ]
  },
  {
   "cell_type": "code",
   "execution_count": 16,
   "metadata": {},
   "outputs": [
    {
     "name": "stdout",
     "output_type": "stream",
     "text": [
      "Spins: 1\n"
     ]
    },
    {
     "data": {
      "text/plain": [
       "(8, 75, 75, 75)"
      ]
     },
     "execution_count": 16,
     "metadata": {},
     "output_type": "execute_result"
    }
   ],
   "source": [
    "print(\"Spins:\", len(morb_grids))\n",
    "morb_grids[0].shape"
   ]
  },
  {
   "cell_type": "code",
   "execution_count": 17,
   "metadata": {},
   "outputs": [
    {
     "data": {
      "image/png": "[encoded data removed]",
      "text/plain": [
       "<matplotlib.figure.Figure at 0x7f971d951a90>"
      ]
     },
     "metadata": {},
     "output_type": "display_data"
    }
   ],
   "source": [
    "plt.pcolormesh(morb_grids[0][0][:, :, 60].T)\n",
    "plt.show()"
   ]
  },
  {
   "cell_type": "code",
   "execution_count": 18,
   "metadata": {
    "collapsed": true
   },
   "outputs": [],
   "source": [
    "save_morb = morb_grids_new[0][1]\n",
    "\n",
    "csu.write_cube_file(\"/home/kristjan/local_work/morbs_test/test.cube\",\n",
    "                   ase_atoms, new_cell, save_morb.shape, save_morb, origin = origin)"
   ]
  },
  {
   "cell_type": "code",
   "execution_count": 19,
   "metadata": {},
   "outputs": [
    {
     "data": {
      "text/plain": [
       "0.9999402043823129"
      ]
     },
     "execution_count": 19,
     "metadata": {},
     "output_type": "execute_result"
    }
   ],
   "source": [
    "# check for normalization\n",
    "dv = cell/cell_n\n",
    "vol_elem = dv[0]*dv[1]*dv[2]\n",
    "np.sum(morb_grids_new[0][0]**2)*vol_elem"
   ]
  },
  {
   "cell_type": "code",
   "execution_count": null,
   "metadata": {
    "collapsed": true
   },
   "outputs": [],
   "source": []
  }
 ],
 "metadata": {
  "kernelspec": {
   "display_name": "Python 3",
   "language": "python",
   "name": "python3"
  },
  "language_info": {
   "codemirror_mode": {
    "name": "ipython",
    "version": 3
   },
   "file_extension": ".py",
   "mimetype": "text/x-python",
   "name": "python",
   "nbconvert_exporter": "python",
   "pygments_lexer": "ipython3",
   "version": "3.6.1"
  }
 },
 "nbformat": 4,
 "nbformat_minor": 2
}

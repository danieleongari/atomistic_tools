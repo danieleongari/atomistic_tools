{
 "cells": [
  {
   "cell_type": "code",
   "execution_count": 26,
   "metadata": {},
   "outputs": [],
   "source": [
    "import os\n",
    "import numpy as np\n",
    "import time\n",
    "import copy\n",
    "import sys\n",
    "import re\n",
    "\n",
    "import scipy.io\n",
    "\n",
    "import matplotlib\n",
    "import matplotlib.pyplot as plt\n",
    "\n",
    "ang_2_bohr = 1.0/0.52917721067\n",
    "hart_2_ev = 27.21138602\n",
    "\n",
    "import cp2k_stm_utilities as csu"
   ]
  },
  {
   "cell_type": "code",
   "execution_count": 2,
   "metadata": {
    "collapsed": true
   },
   "outputs": [],
   "source": [
    "#folder = \"/home/kristjan/local_work/morbs_test/cp2k_basis_test/\"\n",
    "#file_basis_set = folder + \"BASIS_SET\"\n",
    "#file_xyz = folder + \"h2.xyz\"\n",
    "#file_restart = folder + \"PROJ-RESTART.wfn\"\n",
    "#file_cp2k_inp = folder + \"cp2k.inp\"\n",
    "#file_cp2k_out = folder + \"cp2k.out\"\n",
    "\n",
    "folder = \"/home/kristjan/local_work/morbs_test/cnt120-L2-spin-pol/\"\n",
    "file_basis_set = folder + \"BR\"\n",
    "file_xyz = folder + \"cnt120-L2-ideal-spin-ends.xyz\"\n",
    "file_restart = folder + \"PROJ-RESTART.wfn\"\n",
    "file_cp2k_inp = folder + \"cp2k.inp\"\n",
    "file_cp2k_out = folder + \"cp2k.out\"\n",
    "\n",
    "#folder = \"/home/kristjan/local_work/morbs_test/c2h2/\"\n",
    "#file_basis_set = folder + \"BR\"\n",
    "#file_xyz = folder + \"p.xyz\"\n",
    "#file_restart = folder + \"PROJ-RESTART.wfn\"\n",
    "#file_cp2k_inp = folder + \"cp2k.inp\"\n",
    "#file_cp2k_out = folder + \"out\""
   ]
  },
  {
   "cell_type": "code",
   "execution_count": 3,
   "metadata": {
    "collapsed": true
   },
   "outputs": [],
   "source": [
    "emin = -0.5\n",
    "emax =  0.5"
   ]
  },
  {
   "cell_type": "code",
   "execution_count": 4,
   "metadata": {},
   "outputs": [
    {
     "name": "stdout",
     "output_type": "stream",
     "text": [
      "Read cp2k input: 0.003\n",
      "Read basis sets: 0.005\n",
      "Read xyz: 0.007\n",
      "S0 nmo: 1588, [eV] H-1 -3.40004189 Homo -3.40003793 H+1 -2.72076802\n",
      "S1 nmo: 1588, [eV] H-1 -3.40006011 Homo -3.40005569 H+1 -2.72077173\n",
      "Found 5 orbitals\n",
      "Read restart: 0.641\n"
     ]
    }
   ],
   "source": [
    "time1 = time.time()\n",
    "elem_basis_names, cell = csu.read_cp2k_input(file_cp2k_inp)\n",
    "print(\"Read cp2k input: %.3f\" % (time.time()-time1))\n",
    "\n",
    "time1 = time.time()\n",
    "basis_sets = csu.read_basis_functions(file_basis_set, elem_basis_names)\n",
    "print(\"Read basis sets: %.3f\" % (time.time()-time1))\n",
    "\n",
    "time1 = time.time()\n",
    "ase_atoms = csu.read_xyz(file_xyz)\n",
    "csu.center_atoms_to_cell(ase_atoms.positions, cell/ang_2_bohr)\n",
    "print(\"Read xyz: %.3f\" % (time.time()-time1))\n",
    "\n",
    "time1 = time.time()\n",
    "morb_composition, morb_energies, morb_occs, homo_inds, ref_en = csu.load_restart_wfn_file(file_restart, emin, emax)\n",
    "print(\"Found %d orbitals\" % len(morb_energies[0]))\n",
    "print(\"Read restart: %.3f\" % (time.time()-time1))"
   ]
  },
  {
   "cell_type": "code",
   "execution_count": 24,
   "metadata": {},
   "outputs": [
    {
     "data": {
      "text/plain": [
       "[[4, 4], [588, 588], [593, 593]]"
      ]
     },
     "execution_count": 24,
     "metadata": {},
     "output_type": "execute_result"
    }
   ],
   "source": [
    "homo_inds"
   ]
  },
  {
   "cell_type": "code",
   "execution_count": 25,
   "metadata": {
    "collapsed": true
   },
   "outputs": [],
   "source": [
    "# Define real space grid\n",
    "# Cp2k chooses close to 0.08 angstroms (?)\n",
    "step = 0.16 # Good to choose a factor of the lattice parameter 4.26\n",
    "step *= ang_2_bohr\n",
    "cell_n = (np.round(cell/step)).astype(int)\n",
    "\n",
    "# !!! NB: Redefine cell such that step stays the same (and a factor of lattice param)\n",
    "#cell = cell_n*step\n",
    "\n",
    "#csu.center_atoms_to_cell(at_positions, cell)"
   ]
  },
  {
   "cell_type": "code",
   "execution_count": 26,
   "metadata": {
    "collapsed": true
   },
   "outputs": [],
   "source": [
    "# define evaluation region:\n",
    "\n",
    "x_eval_region = None\n",
    "y_eval_region = None\n",
    "z_eval_region = None\n",
    "\n",
    "eval_regions = [x_eval_region, y_eval_region, z_eval_region]\n",
    "\n",
    "origin = np.zeros(3)\n",
    "new_cell = np.copy(cell)\n",
    "\n",
    "for i, e_reg in enumerate(eval_regions):\n",
    "    if e_reg is None:\n",
    "        origin[i] = 0.0\n",
    "        new_cell[i] = cell[i]\n",
    "    else:\n",
    "        origin[i] = e_reg[0]\n",
    "        new_cell[i] = e_reg[1] - e_reg[0]\n"
   ]
  },
  {
   "cell_type": "code",
   "execution_count": 27,
   "metadata": {},
   "outputs": [
    {
     "data": {
      "text/plain": [
       "Atoms(symbols='C288H24', pbc=False, cell=[26.42, 9.31427189299, 9.31427189299])"
      ]
     },
     "execution_count": 27,
     "metadata": {},
     "output_type": "execute_result"
    }
   ],
   "source": [
    "ase_atoms"
   ]
  },
  {
   "cell_type": "code",
   "execution_count": 64,
   "metadata": {},
   "outputs": [
    {
     "data": {
      "text/plain": [
       "array([ 79.36849727,  47.24315314,  47.24315314])"
      ]
     },
     "execution_count": 64,
     "metadata": {},
     "output_type": "execute_result"
    }
   ],
   "source": [
    "cell"
   ]
  },
  {
   "cell_type": "code",
   "execution_count": 28,
   "metadata": {},
   "outputs": [
    {
     "name": "stdout",
     "output_type": "stream",
     "text": [
      "Global cell:  [262 156 156]\n",
      "Eval cell:  [262 156 156]\n",
      "local cell:  [75 75 75]\n",
      "---- Setup: 0.0264\n",
      "---- Radial calc time : 80.783451\n",
      "---- Spherical calc time : 7.264869\n",
      "---- Loc -> loc_morb time : 37.975734\n",
      "---- loc_morb -> glob time : 7.253676\n",
      "---- Total time: 136.1677\n"
     ]
    }
   ],
   "source": [
    "morb_grids_new = csu.calc_morbs_in_region(cell, cell_n,\n",
    "                                         ase_atoms,\n",
    "                                         basis_sets, morb_composition,\n",
    "                                         x_eval_region = x_eval_region,\n",
    "                                         y_eval_region = y_eval_region,\n",
    "                                         z_eval_region = z_eval_region,\n",
    "                                         eval_cutoff = 12.0\n",
    "                                        )"
   ]
  },
  {
   "cell_type": "code",
   "execution_count": 31,
   "metadata": {},
   "outputs": [
    {
     "data": {
      "text/plain": [
       "(5, 262, 156, 156)"
      ]
     },
     "execution_count": 31,
     "metadata": {},
     "output_type": "execute_result"
    }
   ],
   "source": [
    "morb_grids_new[0].shape"
   ]
  },
  {
   "cell_type": "code",
   "execution_count": 41,
   "metadata": {},
   "outputs": [
    {
     "data": {
      "image/png": "[encoded data removed]",
      "text/plain": [
       "<matplotlib.figure.Figure at 0x7f89ca4467b8>"
      ]
     },
     "metadata": {},
     "output_type": "display_data"
    }
   ],
   "source": [
    "plt.pcolormesh(morb_grids_new[0][4][:, :, 60].T)\n",
    "plt.show()"
   ]
  },
  {
   "cell_type": "code",
   "execution_count": 42,
   "metadata": {},
   "outputs": [],
   "source": [
    "save_morb = morb_grids_new[1][homo_inds[0][1]]\n",
    "\n",
    "csu.write_cube_file(\"/home/kristjan/local_work/morbs_test/test.cube\",\n",
    "                   ase_atoms, new_cell, save_morb.shape, save_morb, origin = origin)"
   ]
  },
  {
   "cell_type": "code",
   "execution_count": 43,
   "metadata": {},
   "outputs": [
    {
     "data": {
      "text/plain": [
       "0.9999962288429185"
      ]
     },
     "execution_count": 43,
     "metadata": {},
     "output_type": "execute_result"
    }
   ],
   "source": [
    "# check for normalization\n",
    "dv = cell/cell_n\n",
    "vol_elem = dv[0]*dv[1]*dv[2]\n",
    "np.sum(morb_grids_new[0][0]**2)*vol_elem"
   ]
  },
  {
   "cell_type": "code",
   "execution_count": null,
   "metadata": {
    "collapsed": true
   },
   "outputs": [],
   "source": []
  },
  {
   "cell_type": "code",
   "execution_count": null,
   "metadata": {
    "collapsed": true
   },
   "outputs": [],
   "source": []
  }
 ],
 "metadata": {
  "kernelspec": {
   "display_name": "Python 3",
   "language": "python",
   "name": "python3"
  },
  "language_info": {
   "codemirror_mode": {
    "name": "ipython",
    "version": 3
   },
   "file_extension": ".py",
   "mimetype": "text/x-python",
   "name": "python",
   "nbconvert_exporter": "python",
   "pygments_lexer": "ipython3",
   "version": "3.6.1"
  }
 },
 "nbformat": 4,
 "nbformat_minor": 2
}

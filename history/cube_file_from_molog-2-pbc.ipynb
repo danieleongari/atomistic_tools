{
 "cells": [
  {
   "cell_type": "code",
   "execution_count": 1,
   "metadata": {
    "collapsed": true
   },
   "outputs": [],
   "source": [
    "import os\n",
    "import numpy as np\n",
    "import time\n",
    "import copy\n",
    "import sys\n",
    "\n",
    "ang_2_bohr = 1.0/0.52917721067\n",
    "\n",
    "import cp2k_utilities as cu"
   ]
  },
  {
   "cell_type": "code",
   "execution_count": 2,
   "metadata": {
    "collapsed": true
   },
   "outputs": [],
   "source": [
    "folder = \"/home/kristjan/sshfs/marconi_scratch/cp2k_si_morb/\"\n",
    "\n",
    "file_basis_set = folder + \"BR\"\n",
    "\n",
    "file_xyz = folder + \"Si.xyz\"\n",
    "\n",
    "file_molog = folder + \"PROJ-COEFF-1_0.MOLog\"\n",
    "\n",
    "file_cp2k_inp = folder + \"cp2k.inp\""
   ]
  },
  {
   "cell_type": "code",
   "execution_count": 3,
   "metadata": {},
   "outputs": [
    {
     "name": "stdout",
     "output_type": "stream",
     "text": [
      "Read cp2k input: 0.175\n",
      "Read xyz: 0.143\n",
      "Read basis sets: 0.346\n",
      "Reading CP2K MOs from:/home/kristjan/sshfs/marconi_scratch/cp2k_si_morb/PROJ-COEFF-1_0.MOLog\n",
      "Band gap system\n",
      "Found 21 MOs spanned by 896 basis functions centered on 64 atoms.\n",
      "Read molog: 0.997\n"
     ]
    }
   ],
   "source": [
    "time1 = time.time()\n",
    "elem_basis_names, cell = cu.read_cp2k_input(file_cp2k_inp)\n",
    "print(\"Read cp2k input: %.3f\" % (time.time()-time1))\n",
    "\n",
    "time1 = time.time()\n",
    "at_positions, at_elems = cu.read_atoms(file_xyz)\n",
    "print(\"Read xyz: %.3f\" % (time.time()-time1))\n",
    "\n",
    "time1 = time.time()\n",
    "basis_sets = cu.read_basis_functions(file_basis_set, elem_basis_names)\n",
    "print(\"Read basis sets: %.3f\" % (time.time()-time1))\n",
    "\n",
    "time1 = time.time()\n",
    "morb_composition, morb_energies = cu.read_and_process_molog(file_molog)\n",
    "print(\"Read molog: %.3f\" % (time.time()-time1))"
   ]
  },
  {
   "cell_type": "code",
   "execution_count": 4,
   "metadata": {
    "collapsed": true
   },
   "outputs": [],
   "source": [
    "def select_morbs(morb_composition, morb_energies, emin, emax):\n",
    "    sel_morb_composition = []\n",
    "    sel_morb_energies = []\n",
    "    for i_mo, morb in enumerate(morb_composition):\n",
    "        energy = morb_energies[i_mo]\n",
    "        if energy > emin and energy < emax:\n",
    "            sel_morb_energies.append(energy)\n",
    "            sel_morb_composition.append(morb)\n",
    "\n",
    "    print(\"Selected mol. orbitals %d/%d\" % (len(sel_morb_composition), len(morb_composition)))\n",
    "    return sel_morb_composition, np.array(sel_morb_energies)"
   ]
  },
  {
   "cell_type": "code",
   "execution_count": 15,
   "metadata": {
    "collapsed": true
   },
   "outputs": [],
   "source": [
    "# Main calculation\n",
    "\n",
    "# NB: only orthonormal cells are supported\n",
    "\n",
    "pbc_edge = 3.0\n",
    "pbc_edge *= ang_2_bohr\n",
    "\n",
    "step = 0.08\n",
    "step *= ang_2_bohr\n",
    "cell_n = (np.round(cell/step)).astype(int)\n",
    "\n",
    "def grid_morbital():\n",
    "    \n",
    "    ### Set up grids\n",
    "    grid_time = time.time()\n",
    "    \n",
    "    dv = cell/cell_n\n",
    "    vol_elem = dv[0]*dv[1]*dv[2]\n",
    "    \n",
    "    x_arr = np.arange(0, cell_n[0], 1) * dv[0]\n",
    "    y_arr = np.arange(0, cell_n[1], 1) * dv[1]\n",
    "    z_arr = np.arange(0, cell_n[2], 1) * dv[2]\n",
    "    r_grid = np.meshgrid(x_arr, y_arr, z_arr, indexing='ij')\n",
    "    \n",
    "    extra_elems = (pbc_edge/dv).astype(int)\n",
    "    \n",
    "    big_cell_n = cell_n + 2*extra_elems\n",
    "    big_cell = big_cell_n * dv\n",
    "    \n",
    "    x_arr_big = np.arange(-extra_elems[0], cell_n[0]+extra_elems[0], 1) * dv[0]\n",
    "    y_arr_big = np.arange(-extra_elems[1], cell_n[1]+extra_elems[1], 1) * dv[1]\n",
    "    z_arr_big = np.arange(-extra_elems[2], cell_n[2]+extra_elems[2], 1) * dv[2]\n",
    "    r_grid_big = np.meshgrid(x_arr_big, y_arr_big, z_arr_big, indexing='ij')    \n",
    "\n",
    "    print(\"----Setting up grids %.4f s\" % (time.time()-grid_time))\n",
    "    ### -------------------------------------------------------------------------------\n",
    "    ### Calculate atomic and molecular orbitals on the grid\n",
    "    morb_time = time.time()\n",
    "    \n",
    "    # one data set on the grid for every molecular orbital\n",
    "    morbs = [np.zeros(cell_n) for _ in range(len(morb_composition))]\n",
    "    \n",
    "    aorbs = []\n",
    "    \n",
    "    for i_at in range(len(at_positions)):\n",
    "        elem = at_elems[i_at][0]\n",
    "        pos = at_positions[i_at]\n",
    "        \n",
    "        x_grid_rel_big = r_grid_big[0] - pos[0]\n",
    "        y_grid_rel_big = r_grid_big[1] - pos[1]\n",
    "        z_grid_rel_big = r_grid_big[2] - pos[2]\n",
    "        \n",
    "        r_vec_2 = x_grid_rel_big**2 + y_grid_rel_big**2 + z_grid_rel_big**2\n",
    "        \n",
    "        aorbs.append([])\n",
    "        \n",
    "        for i_shell, shell in enumerate(basis_sets[elem]):\n",
    "            l = shell[0]\n",
    "            es = shell[1]\n",
    "            cs = shell[2]\n",
    "            \n",
    "            # Calculate the radial part of the atomic orbital\n",
    "            radial_part = np.zeros(big_cell_n)\n",
    "            for e, c in zip(es, cs):\n",
    "                radial_part += c*np.exp(-1.0*e*r_vec_2)\n",
    "            \n",
    "            aorbs[-1].append([])\n",
    "            \n",
    "            for i, m in enumerate(range(-l, l+1, 1)):\n",
    "                atomic_orb_big = radial_part*cu.spherical_harmonic_grid(l, m,\n",
    "                                                                     x_grid_rel_big,\n",
    "                                                                     y_grid_rel_big,\n",
    "                                                                     z_grid_rel_big)\n",
    "                \n",
    "                ### ---------------------------------------------------------------------------\n",
    "                ### Reduce the periodic edges to the main cell\n",
    "               \n",
    "                # How many times the direction has to be \"folded\"\n",
    "                n_fold = pbc_edge/cell\n",
    "                ee = extra_elems\n",
    "                \n",
    "                for ix in range(int(np.ceil(n_fold[0]))):\n",
    "                    imag_s1 = ee[0] + (ix+1)*cell_n[0]\n",
    "                    imag_e1 = imag_s1 + cell_n[0]\n",
    "                    \n",
    "                    imag_s2 = ee[0] - (ix+1)*cell_n[0]\n",
    "                    imag_e2 = imag_s2 + cell_n[0]\n",
    "                    \n",
    "                    if imag_e1 > big_cell_n[0]:\n",
    "                        end_diff = imag_e1 - big_cell_n[0]\n",
    "                        atomic_orb_big[ee[0]:-ee[0]-end_diff, :, :] += atomic_orb_big[imag_s1:, :, :]\n",
    "                        atomic_orb_big[ee[0]+end_diff:-ee[0], :, :] += atomic_orb_big[:imag_e2, :, :]\n",
    "                    else:\n",
    "                        atomic_orb_big[ee[0]:-ee[0], :, :] += atomic_orb_big[imag_s1:imag_e1, :, :]\n",
    "                        atomic_orb_big[ee[0]:-ee[0], :, :] += atomic_orb_big[imag_s2:imag_e2, :, :]\n",
    "                       \n",
    "                for iy in range(int(np.ceil(n_fold[1]))):\n",
    "                    imag_s1 = ee[1] + (iy+1)*cell_n[1]\n",
    "                    imag_e1 = imag_s1 + cell_n[1]\n",
    "                    \n",
    "                    imag_s2 = ee[1] - (iy+1)*cell_n[1]\n",
    "                    imag_e2 = imag_s2 + cell_n[1]\n",
    "                    \n",
    "                    if imag_e1 > big_cell_n[1]:\n",
    "                        end_diff = imag_e1 - big_cell_n[1]\n",
    "                        atomic_orb_big[:, ee[1]:-ee[1]-end_diff, :] += atomic_orb_big[:, imag_s1:, :]\n",
    "                        atomic_orb_big[:, ee[1]+end_diff:-ee[1], :] += atomic_orb_big[:, :imag_e2, :]\n",
    "                    else:\n",
    "                        atomic_orb_big[:, ee[1]:-ee[1], :] += atomic_orb_big[:, imag_s1:imag_e1, :]\n",
    "                        atomic_orb_big[:, ee[1]:-ee[1], :] += atomic_orb_big[:, imag_s2:imag_e2, :]\n",
    "                       \n",
    "                for iz in range(int(np.ceil(n_fold[2]))):\n",
    "                    imag_s1 = ee[2] + (iz+1)*cell_n[2]\n",
    "                    imag_e1 = imag_s1 + cell_n[2]\n",
    "                    \n",
    "                    imag_s2 = ee[2] - (iz+1)*cell_n[2]\n",
    "                    imag_e2 = imag_s2 + cell_n[2]\n",
    "                    \n",
    "                    if imag_e1 > big_cell_n[2]:\n",
    "                        end_diff = imag_e1 - big_cell_n[2]\n",
    "                        atomic_orb_big[:, :, ee[2]:-ee[2]-end_diff] += atomic_orb_big[:, :, imag_s1:]\n",
    "                        atomic_orb_big[:, :, ee[2]+end_diff:-ee[2]] += atomic_orb_big[:, :, :imag_e2]\n",
    "                    else:\n",
    "                        atomic_orb_big[:, :, ee[2]:-ee[2]] += atomic_orb_big[:, :, imag_s1:imag_e1]\n",
    "                        atomic_orb_big[:, :, ee[2]:-ee[2]] += atomic_orb_big[:, :, imag_s2:imag_e2]\n",
    "                ### ---------------------------------------------------------------------------\n",
    "                \n",
    "                atomic_orb = atomic_orb_big[ee[0]:-ee[0],\n",
    "                                            ee[1]:-ee[1],\n",
    "                                            ee[2]:-ee[2]]\n",
    "                \n",
    "                #if i_at == 0 and i_shell == 0 and i == 0:\n",
    "                #    write_cube_file(\"aorb.cube\", file_xyz, cell, cell_n, atomic_orb)\n",
    "                \n",
    "                #aorbs[-1][-1].append(atomic_orb)\n",
    "                # Add the atomic orbital with the correct coefficient to the molecular orbitals\n",
    "                for i_mo in range(len(morb_composition)):\n",
    "                    coef = morb_composition[i_mo][i_at][i_shell][i]\n",
    "                    morbs[i_mo] += coef*atomic_orb\n",
    "                \n",
    "    print(\"----Putting molecular orbs on grid %.4f s\" % (time.time()-morb_time))\n",
    "    return morbs, morb_energies#, aorbs\n"
   ]
  },
  {
   "cell_type": "code",
   "execution_count": 16,
   "metadata": {},
   "outputs": [
    {
     "name": "stdout",
     "output_type": "stream",
     "text": [
      "----Setting up grids 0.2768 s\n",
      "----Putting molecular orbs on grid 960.2113 s\n"
     ]
    }
   ],
   "source": [
    "morbs_on_grid, morb_energies = grid_morbital()"
   ]
  },
  {
   "cell_type": "code",
   "execution_count": 17,
   "metadata": {},
   "outputs": [
    {
     "data": {
      "text/plain": [
       "array([ -1.19044689e+00,  -1.19044689e+00,  -1.19044689e+00,\n",
       "        -1.19044689e+00,  -1.19044689e+00,  -1.19044689e+00,\n",
       "        -1.19044689e+00,  -1.19044689e+00,  -3.05266923e-12,\n",
       "        -1.59872116e-14,   0.00000000e+00,   7.54809416e-01,\n",
       "         7.54809416e-01,   7.54809416e-01,   7.54811539e-01,\n",
       "         7.54811539e-01,   7.54811539e-01,   1.17040488e+00,\n",
       "         1.17040489e+00,   1.17040489e+00,   1.17040489e+00])"
      ]
     },
     "execution_count": 17,
     "metadata": {},
     "output_type": "execute_result"
    }
   ],
   "source": [
    "morb_energies"
   ]
  },
  {
   "cell_type": "code",
   "execution_count": 18,
   "metadata": {},
   "outputs": [],
   "source": [
    "for i in [9, 10, 11]:\n",
    "    fname = \"/home/kristjan/local_work/cubes/mo%d.cube\" % i\n",
    "    cu.write_cube_file(fname, file_xyz, cell, cell_n, morbs_on_grid[i])"
   ]
  },
  {
   "cell_type": "code",
   "execution_count": 22,
   "metadata": {},
   "outputs": [
    {
     "data": {
      "text/plain": [
       "1.0000174661111054"
      ]
     },
     "execution_count": 22,
     "metadata": {},
     "output_type": "execute_result"
    }
   ],
   "source": [
    "# check for normalization\n",
    "dv = cell/cell_n\n",
    "vol_elem = dv[0]*dv[1]*dv[2]\n",
    "np.sum(morbs_on_grid[8]**2)*vol_elem"
   ]
  },
  {
   "cell_type": "code",
   "execution_count": null,
   "metadata": {
    "collapsed": true
   },
   "outputs": [],
   "source": []
  },
  {
   "cell_type": "code",
   "execution_count": null,
   "metadata": {
    "collapsed": true
   },
   "outputs": [],
   "source": []
  },
  {
   "cell_type": "code",
   "execution_count": 14,
   "metadata": {},
   "outputs": [
    {
     "name": "stdout",
     "output_type": "stream",
     "text": [
      "Molecular orbital overlap matrix\n",
      "         0          1          2          3          4          5          6          7          8          9         10         11         12         13         14         15         16         17         18         19         20 \n",
      "    0.9924     0.0000     0.0002     0.0000     0.0000     0.0000     0.0320     0.0209     0.0000     0.0003     0.0000     0.0001     0.0000     0.0000     0.0000     0.0000     0.0000     0.0000     0.0000     0.0000     0.0000 \n",
      "    0.0000     0.9924     0.0000     0.0002     0.0000     0.0000     0.0209     0.0320     0.0000     0.0000     0.0003     0.0000     0.0001     0.0000     0.0000     0.0000     0.0000     0.0000     0.0000     0.0000     0.0000 \n",
      "    0.0002     0.0000     1.0563     0.0000     0.0000     0.0000     0.0158     0.0103     0.0000     0.0000     0.0000     0.0001     0.0000     0.0000     0.0000     0.0000     0.0000     0.0000     0.0000     0.0025     0.0000 \n",
      "    0.0000     0.0002     0.0000     1.0563     0.0000     0.0000     0.0103     0.0158     0.0000     0.0000     0.0000     0.0000     0.0001     0.0000     0.0000     0.0000     0.0000     0.0000     0.0014     0.0000     0.0021 \n",
      "    0.0000     0.0000     0.0000     0.0000     1.0380     0.0000     0.0000     0.0000     0.0000     0.0000     0.0000     0.0000     0.0000     0.0000     0.0000     0.0000     0.0000     0.0000     0.0000     0.0000     0.0000 \n",
      "    0.0000     0.0000     0.0000     0.0000     0.0000     1.0017     0.0001     0.0001     0.0002     0.0000     0.0000     0.0000     0.0000     0.0002     0.0000     0.0000     0.0009     0.0016     0.0029     0.0000     0.0020 \n",
      "    0.0320     0.0209     0.0158     0.0103     0.0000     0.0001     0.9383     0.0000     0.0000     0.0000     0.0000     0.0001     0.0000     0.0000     0.0001     0.0001     0.0000     0.0000     0.0013     0.0036     0.0019 \n",
      "    0.0209     0.0320     0.0103     0.0158     0.0000     0.0001     0.0000     0.9383     0.0000     0.0000     0.0000     0.0000     0.0001     0.0000     0.0001     0.0001     0.0000     0.0000     0.0020     0.0023     0.0030 \n",
      "    0.0000     0.0000     0.0000     0.0000     0.0000     0.0002     0.0000     0.0000     1.0501     0.0000     0.0001     0.0000     0.0000     0.0362     0.0000     0.0003     0.0113     0.0120     0.0018     0.0000     0.0013 \n",
      "    0.0003     0.0000     0.0000     0.0000     0.0000     0.0000     0.0000     0.0000     0.0000     0.9836     0.0000     0.0327     0.0000     0.0000     0.0022     0.0000     0.0000     0.0000     0.0000     0.0020     0.0000 \n",
      "    0.0000     0.0003     0.0000     0.0000     0.0000     0.0000     0.0000     0.0000     0.0001     0.0000     0.9836     0.0000     0.0327     0.0000     0.0000     0.0022     0.0001     0.0000     0.0011     0.0000     0.0016 \n",
      "    0.0001     0.0000     0.0001     0.0000     0.0000     0.0000     0.0001     0.0000     0.0000     0.0327     0.0000     0.9357     0.0000     0.0000     0.0283     0.0000     0.0000     0.0000     0.0000     0.0476     0.0001 \n",
      "    0.0000     0.0001     0.0000     0.0001     0.0000     0.0000     0.0000     0.0001     0.0000     0.0000     0.0327     0.0000     0.9357     0.0000     0.0000     0.0283     0.0008     0.0000     0.0270     0.0001     0.0392 \n",
      "    0.0000     0.0000     0.0000     0.0000     0.0000     0.0002     0.0000     0.0000     0.0362     0.0000     0.0000     0.0000     0.0000     1.0017     0.0000     0.0008     0.0268     0.0363     0.0435     0.0001     0.0299 \n",
      "    0.0000     0.0000     0.0000     0.0000     0.0000     0.0000     0.0001     0.0001     0.0000     0.0022     0.0000     0.0283     0.0000     0.0000     0.9050     0.0000     0.0000     0.0000     0.0000     0.0648     0.0001 \n",
      "    0.0000     0.0000     0.0000     0.0000     0.0000     0.0000     0.0001     0.0001     0.0003     0.0000     0.0022     0.0000     0.0283     0.0008     0.0000     0.9049     0.0036     0.0001     0.0358     0.0001     0.0541 \n",
      "    0.0000     0.0000     0.0000     0.0000     0.0000     0.0009     0.0000     0.0000     0.0113     0.0000     0.0001     0.0000     0.0008     0.0268     0.0000     0.0036     0.7825     0.0046     0.0343     0.0000     0.0213 \n",
      "    0.0000     0.0000     0.0000     0.0000     0.0000     0.0016     0.0000     0.0000     0.0120     0.0000     0.0000     0.0000     0.0000     0.0363     0.0000     0.0001     0.0046     0.9820     0.0062     0.0000     0.0043 \n",
      "    0.0000     0.0000     0.0000     0.0014     0.0000     0.0029     0.0013     0.0020     0.0018     0.0000     0.0011     0.0000     0.0270     0.0435     0.0000     0.0358     0.0343     0.0062     0.9594     0.0000     0.0024 \n",
      "    0.0000     0.0000     0.0025     0.0000     0.0000     0.0000     0.0036     0.0023     0.0000     0.0020     0.0000     0.0476     0.0001     0.0001     0.0648     0.0001     0.0000     0.0000     0.0000     0.9559     0.0000 \n",
      "    0.0000     0.0000     0.0000     0.0021     0.0000     0.0020     0.0019     0.0030     0.0013     0.0000     0.0016     0.0001     0.0392     0.0299     0.0001     0.0541     0.0213     0.0043     0.0024     0.0000     0.9576 \n"
     ]
    }
   ],
   "source": [
    "dv = cell/cell_n\n",
    "vol_elem = dv[0]*dv[1]*dv[2]\n",
    "\n",
    "# Calculate overlap between two orbitals\n",
    "# vol_elem in bohr!\n",
    "def overlap(data1, data2, vol_elem):\n",
    "    return np.abs(np.dot(data1.flatten(), data2.flatten())*vol_elem)\n",
    "\n",
    "print(\"Molecular orbital overlap matrix\")\n",
    "for i in range(len(morbs_on_grid)):\n",
    "    print(\"%10d \" %i, end='')\n",
    "print()\n",
    "for i in range(len(morbs_on_grid)):\n",
    "    for j in range(len(morbs_on_grid)):\n",
    "        ol = overlap(morbs_on_grid[i], morbs_on_grid[j], vol_elem)\n",
    "        print(\"%10.4f \" % ol, end='')\n",
    "    print()\n",
    "    "
   ]
  },
  {
   "cell_type": "code",
   "execution_count": 18,
   "metadata": {
    "collapsed": true
   },
   "outputs": [],
   "source": [
    "for i_at in range(len(aorbs_on_grid)):\n",
    "    for i_nr in range(len(aorbs_on_grid[i_at])):\n",
    "        for i_m in range(len(aorbs_on_grid[i_at][i_nr])):\n",
    "            fname = \"ao%d_%d_%d.cube\" % (i_at, i_nr, i_m)\n",
    "            write_cube_file(fname, file_xyz, cell, cell_n, aorbs_on_grid[i_at][i_nr][i_m])"
   ]
  },
  {
   "cell_type": "code",
   "execution_count": null,
   "metadata": {
    "collapsed": true
   },
   "outputs": [],
   "source": []
  },
  {
   "cell_type": "code",
   "execution_count": null,
   "metadata": {
    "collapsed": true
   },
   "outputs": [],
   "source": []
  },
  {
   "cell_type": "code",
   "execution_count": null,
   "metadata": {
    "collapsed": true
   },
   "outputs": [],
   "source": []
  }
 ],
 "metadata": {
  "kernelspec": {
   "display_name": "Python 3",
   "language": "python",
   "name": "python3"
  },
  "language_info": {
   "codemirror_mode": {
    "name": "ipython",
    "version": 3
   },
   "file_extension": ".py",
   "mimetype": "text/x-python",
   "name": "python",
   "nbconvert_exporter": "python",
   "pygments_lexer": "ipython3",
   "version": "3.6.1"
  }
 },
 "nbformat": 4,
 "nbformat_minor": 2
}

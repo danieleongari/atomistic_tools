{
 "cells": [
  {
   "cell_type": "code",
   "execution_count": 3,
   "metadata": {},
   "outputs": [
    {
     "name": "stdout",
     "output_type": "stream",
     "text": [
      "Using matplotlib backend: Qt5Agg\n"
     ]
    }
   ],
   "source": [
    "%matplotlib auto"
   ]
  },
  {
   "cell_type": "code",
   "execution_count": 4,
   "metadata": {},
   "outputs": [
    {
     "name": "stdout",
     "output_type": "stream",
     "text": [
      "Using matplotlib backend: Qt5Agg\n"
     ]
    }
   ],
   "source": [
    "# Creates two identical panels.  Zooming in on the right panel will show\n",
    "# a rectangle in the first panel, denoting the zoomed region.\n",
    "import numpy as np\n",
    "import matplotlib.pyplot as plt\n",
    "from matplotlib.patches import Rectangle\n",
    "\n",
    "\n",
    "# We just subclass Rectangle so that it can be called with an Axes\n",
    "# instance, causing the rectangle to update its shape to match the\n",
    "# bounds of the Axes\n",
    "class UpdatingRect(Rectangle):\n",
    "    def __call__(self, ax):\n",
    "        self.set_bounds(*ax.viewLim.bounds)\n",
    "        ax.figure.canvas.draw_idle()\n",
    "\n",
    "\n",
    "# A class that will regenerate a fractal set as we zoom in, so that you\n",
    "# can actually see the increasing detail.  A box in the left panel will show\n",
    "# the area to which we are zoomed.\n",
    "class MandelbrotDisplay(object):\n",
    "    def __init__(self, h=500, w=500, niter=50, radius=2., power=2):\n",
    "        self.height = h\n",
    "        self.width = w\n",
    "        self.niter = niter\n",
    "        self.radius = radius\n",
    "        self.power = power\n",
    "\n",
    "    def __call__(self, xstart, xend, ystart, yend):\n",
    "        self.x = np.linspace(xstart, xend, self.width)\n",
    "        self.y = np.linspace(ystart, yend, self.height).reshape(-1, 1)\n",
    "        c = self.x + 1.0j * self.y\n",
    "        threshold_time = np.zeros((self.height, self.width))\n",
    "        z = np.zeros(threshold_time.shape, dtype=np.complex)\n",
    "        mask = np.ones(threshold_time.shape, dtype=np.bool)\n",
    "        for i in range(self.niter):\n",
    "            z[mask] = z[mask]**self.power + c[mask]\n",
    "            mask = (np.abs(z) < self.radius)\n",
    "            threshold_time += mask\n",
    "        return threshold_time\n",
    "\n",
    "    def ax_update(self, ax):\n",
    "        ax.set_autoscale_on(False)  # Otherwise, infinite loop\n",
    "\n",
    "        # Get the number of points from the number of pixels in the window\n",
    "        dims = ax.axesPatch.get_window_extent().bounds\n",
    "        self.width = int(dims[2] + 0.5)\n",
    "        self.height = int(dims[2] + 0.5)\n",
    "\n",
    "        # Get the range for the new area\n",
    "        xstart, ystart, xdelta, ydelta = ax.viewLim.bounds\n",
    "        xend = xstart + xdelta\n",
    "        yend = ystart + ydelta\n",
    "\n",
    "        # Update the image object with our new data and extent\n",
    "        im = ax.images[-1]\n",
    "        im.set_data(self.__call__(xstart, xend, ystart, yend))\n",
    "        im.set_extent((xstart, xend, ystart, yend))\n",
    "        ax.figure.canvas.draw_idle()\n",
    "\n",
    "md = MandelbrotDisplay()\n",
    "Z = md(-2., 0.5, -1.25, 1.25)\n",
    "\n",
    "fig1, (ax1, ax2) = plt.subplots(1, 2)\n",
    "ax1.imshow(Z, origin='lower', extent=(md.x.min(), md.x.max(), md.y.min(), md.y.max()))\n",
    "ax2.imshow(Z, origin='lower', extent=(md.x.min(), md.x.max(), md.y.min(), md.y.max()))\n",
    "\n",
    "rect = UpdatingRect([0, 0], 0, 0, facecolor='None', edgecolor='black', linewidth=1.0)\n",
    "rect.set_bounds(*ax2.viewLim.bounds)\n",
    "ax1.add_patch(rect)\n",
    "\n",
    "# Connect for changing the view limits\n",
    "ax2.callbacks.connect('xlim_changed', rect)\n",
    "ax2.callbacks.connect('ylim_changed', rect)\n",
    "\n",
    "ax2.callbacks.connect('xlim_changed', md.ax_update)\n",
    "ax2.callbacks.connect('ylim_changed', md.ax_update)\n",
    "ax2.set_title(\"Zoom here\")\n",
    "\n",
    "plt.show()"
   ]
  },
  {
   "cell_type": "code",
   "execution_count": 27,
   "metadata": {},
   "outputs": [
    {
     "data": {
      "image/png": "[encoded data removed]",
      "text/plain": [
       "<matplotlib.figure.Figure at 0x7fd543dd1390>"
      ]
     },
     "metadata": {},
     "output_type": "display_data"
    }
   ],
   "source": [
    "import numpy as np\n",
    "from matplotlib import pyplot as plt\n",
    "from functools import partial\n",
    "\n",
    "fig = plt.figure()\n",
    "y, x = np.mgrid[-1:1:100j, -1:1:100j]\n",
    "z = np.sin(x**2 + y**2)\n",
    "pcm = plt.pcolormesh(x, y, z)\n",
    "\n",
    "def onclick_cbar(cbar, event):\n",
    "    if event.inaxes is cbar.ax:\n",
    "        #print(cbar.mappable)\n",
    "        #print(cbar.mappable.get_clim())\n",
    "        #print(event.xdata, event.ydata)\n",
    "        pcm.set_clim((0.0, event.ydata))\n",
    "        fig.canvas.draw()\n",
    "\n",
    "cbar = plt.colorbar()\n",
    "cid = fig.canvas.mpl_connect('button_press_event', partial(onclick_cbar, cbar))\n",
    "plt.show()"
   ]
  },
  {
   "cell_type": "code",
   "execution_count": 6,
   "metadata": {},
   "outputs": [
    {
     "data": {
      "text/plain": [
       "<matplotlib.colorbar.Colorbar at 0x7fd5547b0b00>"
      ]
     },
     "execution_count": 6,
     "metadata": {},
     "output_type": "execute_result"
    }
   ],
   "source": [
    "#create and plot a test image with colorbar,\n",
    "#zoom and everything works\n",
    "import numpy as np\n",
    "N=100\n",
    "a=np.random.random((N,N))\n",
    "plt.figure()\n",
    "plt.imshow(a,interpolation='none')\n",
    "plt.colorbar()\n",
    "plt.show()\n",
    "#at this point I can zoom and use back and forward buttons as always\n",
    "\n",
    "#but if I zoom in and then execute the following code, the history is reset and I cannot go back or home any more (the zooming history works in the future, but is reset every time I replace the colorbar):\n",
    "ax=plt.gca()\n",
    "im=ax.images[-1]\n",
    "im.colorbar.remove()\n",
    "#in real code, color range is updated here\n",
    "plt.colorbar()"
   ]
  },
  {
   "cell_type": "code",
   "execution_count": 20,
   "metadata": {
    "collapsed": true
   },
   "outputs": [],
   "source": [
    "import numpy as np\n",
    "import matplotlib.pyplot as plt\n",
    "\n",
    "data = np.random.random((10,10))\n",
    "\n",
    "# To make a standalone example, I'm skipping initializing the \n",
    "# `Figure` and `FigureCanvas` and using `plt.figure()` instead...\n",
    "# `plt.draw()` would work for this figure, but the rest is identical.\n",
    "fig, ax = plt.subplots()\n",
    "ax.set(title='Click to update the data')\n",
    "im = ax.imshow(data)\n",
    "\n",
    "def update(event):\n",
    "    im.set_data(np.random.random((10,10)))\n",
    "    fig.canvas.draw()\n",
    "\n",
    "fig.canvas.mpl_connect('button_press_event', update)\n",
    "plt.show()"
   ]
  },
  {
   "cell_type": "code",
   "execution_count": null,
   "metadata": {
    "collapsed": true
   },
   "outputs": [],
   "source": [
    "%matplotlib auto\n",
    "from matplotlib.pyplot import *\n",
    "from numpy import *\n",
    "from matplotlib.widgets import Slider, Button, RadioButtons\n",
    "\n",
    "ax = subplot(111)\n",
    "subplots_adjust(left=0.25, bottom=0.25)\n",
    "\n",
    "my_img=np.random.sample((10, 10))\n",
    "\n",
    "l = imshow(my_img,origin='lower');cbar=colorbar()\n",
    "\n",
    "ax1= axes([0.25, 0.1, 0.65, 0.03], axisbg='w')\n",
    "\n",
    "par1 = Slider(ax1, 'normalization', 1, 100., valinit=1.5)\n",
    "\n",
    "def update(val):\n",
    "    new_normalization = par1.val\n",
    "    new_img=random((100,100))*new_normalization\n",
    "\n",
    "    l.set_array(new_img)\n",
    "\n",
    "    # this doesn't change the new colobar maximum\n",
    "    cbar.vmax=new_img.max()\n",
    "    cbar.vmin=0\n",
    "    draw()\n",
    "\n",
    "par1.on_changed(update)\n",
    "\n",
    "resetax = axes([0.8, 0.025, 0.1, 0.04])\n",
    "button = Button(resetax, 'Reset', color='w', hovercolor='0.975')\n",
    "def reset(event):\n",
    "     par1.reset()\n",
    "\n",
    "button.on_clicked(reset)\n",
    "show()"
   ]
  }
 ],
 "metadata": {
  "kernelspec": {
   "display_name": "Python 3",
   "language": "python",
   "name": "python3"
  },
  "language_info": {
   "codemirror_mode": {
    "name": "ipython",
    "version": 3
   },
   "file_extension": ".py",
   "mimetype": "text/x-python",
   "name": "python",
   "nbconvert_exporter": "python",
   "pygments_lexer": "ipython3",
   "version": "3.6.1"
  }
 },
 "nbformat": 4,
 "nbformat_minor": 2
}

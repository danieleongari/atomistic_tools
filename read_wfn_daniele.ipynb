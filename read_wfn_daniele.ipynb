{
 "cells": [
  {
   "cell_type": "code",
   "execution_count": 1,
   "metadata": {},
   "outputs": [],
   "source": [
    "import os\n",
    "import numpy as np\n",
    "import time\n",
    "import copy\n",
    "import sys\n",
    "import re\n",
    "\n",
    "import scipy.io\n",
    "\n",
    "import matplotlib\n",
    "import matplotlib.pyplot as plt\n",
    "\n",
    "ang_2_bohr = 1.0/0.52917721067\n",
    "hart_2_ev = 27.21138602\n",
    "\n",
    "import atomistic_tools.cp2k_stm_utilities as csu"
   ]
  },
  {
   "cell_type": "code",
   "execution_count": 2,
   "metadata": {},
   "outputs": [],
   "source": [
    "folder = \"./test/water/\"\n",
    "file_basis_set = folder + \"BASIS_MOLOPT\"\n",
    "file_xyz = folder + \"water.xyz\"\n",
    "file_restart = folder + \"cp2k-RESTART.wfn\"\n",
    "file_cp2k_inp = folder + \"water_PBE.inp\""
   ]
  },
  {
   "cell_type": "code",
   "execution_count": 3,
   "metadata": {},
   "outputs": [
    {
     "name": "stdout",
     "output_type": "stream",
     "text": [
      "Read cp2k input: 0.001\n",
      "Read basis sets: 0.002\n",
      "Read xyz: 0.004\n",
      "R1/1, loading indexes 4:7 / 0:3\n",
      "Warning: No orbitals found in specified energy range!\n",
      "Found 0 orbitals\n",
      "Read restart: 0.003\n"
     ]
    }
   ],
   "source": [
    "emin = -100.0\n",
    "emax =  100.0\n",
    "\n",
    "time1 = time.time()\n",
    "elem_basis_names, cell = csu.read_cp2k_input(file_cp2k_inp)\n",
    "print(\"Read cp2k input: %.3f\" % (time.time()-time1))\n",
    "\n",
    "time1 = time.time()\n",
    "basis_sets = csu.read_basis_functions(file_basis_set, elem_basis_names)\n",
    "print(\"Read basis sets: %.3f\" % (time.time()-time1))\n",
    "\n",
    "time1 = time.time()\n",
    "ase_atoms = csu.read_xyz(file_xyz)\n",
    "csu.center_atoms_to_cell(ase_atoms.positions, cell/ang_2_bohr)\n",
    "print(\"Read xyz: %.3f\" % (time.time()-time1))\n",
    "\n",
    "time1 = time.time()\n",
    "morb_composition, morb_energies, morb_occs, homo_inds, ref_en = csu.load_restart_wfn_file(file_restart, emin, emax, 1, 1)\n",
    "print(\"Found %d orbitals\" % len(morb_energies[0]))\n",
    "print(\"Read restart: %.3f\" % (time.time()-time1))"
   ]
  },
  {
   "cell_type": "code",
   "execution_count": 6,
   "metadata": {},
   "outputs": [
    {
     "data": {
      "text/plain": [
       "[array([], dtype=float64)]"
      ]
     },
     "execution_count": 6,
     "metadata": {},
     "output_type": "execute_result"
    }
   ],
   "source": []
  }
 ],
 "metadata": {
  "kernelspec": {
   "display_name": "Python 3",
   "language": "python",
   "name": "python3"
  },
  "language_info": {
   "codemirror_mode": {
    "name": "ipython",
    "version": 3
   },
   "file_extension": ".py",
   "mimetype": "text/x-python",
   "name": "python",
   "nbconvert_exporter": "python",
   "pygments_lexer": "ipython3",
   "version": "3.6.5"
  }
 },
 "nbformat": 4,
 "nbformat_minor": 2
}

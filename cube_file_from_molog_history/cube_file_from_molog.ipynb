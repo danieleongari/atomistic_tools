{
 "cells": [
  {
   "cell_type": "code",
   "execution_count": 3,
   "metadata": {
    "collapsed": true
   },
   "outputs": [],
   "source": [
    "import os\n",
    "import numpy as np\n",
    "import time"
   ]
  },
  {
   "cell_type": "code",
   "execution_count": 4,
   "metadata": {
    "collapsed": true
   },
   "outputs": [],
   "source": [
    "folder = \"/home/kristjan/sshfs/daint_scratch/cp2k_cnt_orbitals/c2h2/morb_diag_cart/\"\n",
    "molog = folder + \"PROJ-COEFF-1_0.MOLog\"\n",
    "\n",
    "cp2k_input = folder + \"cp2k.inp\"\n",
    "basis_set_file = \"/home/kristjan/sshfs/daint_scratch/cp2k_cnt_orbitals/BR\""
   ]
  },
  {
   "cell_type": "markdown",
   "metadata": {},
   "source": [
    "Gaussian type orbitals\n",
    "\n",
    "$$\\varphi_i(\\vec{r}) = R_i(r) \\cdot Y_{l_i, m_i}(\\theta, \\phi),$$\n",
    "\n",
    "where $Y_{l_i, m_i}(\\theta, \\phi)$ is the real-valued spherical harmonic and\n",
    "\n",
    "$$ R_i(r) = r^{l_i} \\sum_{j=1}^{N} c_{ij} \\cdot \\exp(-\\alpha_j \\cdot r^2). $$\n",
    "\n",
    "NB: the $r^{l_i}$ will cancel out with the same factor reversed in $Y_{l_i, m_i}(\\theta, \\phi)$.\n",
    "\n"
   ]
  },
  {
   "cell_type": "code",
   "execution_count": 151,
   "metadata": {
    "collapsed": true
   },
   "outputs": [],
   "source": [
    "def spherical_harmonic_real(l, m, r_vec):\n",
    "    (x, y, z) = r_vec\n",
    "    c = 1/(2*np.sqrt(np.pi))\n",
    "    \n",
    "    r = np.sqrt(x**2 + y**2 + z**2)\n",
    "    \n",
    "    # s orbitals\n",
    "    if (l, m) == (0, 0):\n",
    "        return c\n",
    "    \n",
    "    # p orbitals\n",
    "    elif (l, m) == (1, -1):\n",
    "        return c*np.sqrt(3)*y/r\n",
    "    elif (l, m) == (1, 0):\n",
    "        return c*np.sqrt(3)*z/r\n",
    "    elif (l, m) == (1, 1):\n",
    "        return c*np.sqrt(3)*x/r\n",
    "    \n",
    "    # d orbitals\n",
    "    elif (l, m) == (2, -2):\n",
    "        return c*np.sqrt(15)*x*y/r**2\n",
    "    elif (l, m) == (2, -1):\n",
    "        return c*np.sqrt(15)*y*z/r**2\n",
    "    elif (l, m) == (2, 0):\n",
    "        return c*np.sqrt(5)/2*(2*z**2-x**2-y**2)/r**2\n",
    "    elif (l, m) == (2, 1):\n",
    "        return c*np.sqrt(15)*z*x/r**2\n",
    "    elif (l, m) == (2, 2):\n",
    "        return c*np.sqrt(15)/2*(x**2-y**2)/r**2\n",
    "    \n",
    "    print(\"No spherical harmonic found for l=%d, m=%d\" % (l, m))\n",
    "    return 0\n",
    "\n",
    "def spherical_harmonic(l, m, r_vec):\n",
    "    (x, y, z) = r_vec\n",
    "    c = 1/(2*np.sqrt(np.pi))\n",
    "    \n",
    "    # s orbitals\n",
    "    if (l, m) == (0, 0):\n",
    "        return c\n",
    "    \n",
    "    # p orbitals\n",
    "    elif (l, m) == (1, -1):\n",
    "        return c*np.sqrt(3)*y\n",
    "    elif (l, m) == (1, 0):\n",
    "        return c*np.sqrt(3)*z\n",
    "    elif (l, m) == (1, 1):\n",
    "        return c*np.sqrt(3)*x\n",
    "    \n",
    "    # d orbitals\n",
    "    elif (l, m) == (2, -2):\n",
    "        return c*np.sqrt(15)*x*y\n",
    "    elif (l, m) == (2, -1):\n",
    "        return c*np.sqrt(15)*y*z\n",
    "    elif (l, m) == (2, 0):\n",
    "        return c*np.sqrt(5)/2*(2*z**2-x**2-y**2)\n",
    "    elif (l, m) == (2, 1):\n",
    "        return c*np.sqrt(15)*z*x\n",
    "    elif (l, m) == (2, 2):\n",
    "        return c*np.sqrt(15)/2*(x**2-y**2)\n",
    "    \n",
    "    print(\"No spherical harmonic found for l=%d, m=%d\" % (l, m))\n",
    "    return 0\n",
    "    "
   ]
  },
  {
   "cell_type": "code",
   "execution_count": 19,
   "metadata": {},
   "outputs": [
    {
     "data": {
      "text/plain": [
       "0.26116902826540894"
      ]
     },
     "execution_count": 19,
     "metadata": {},
     "output_type": "execute_result"
    }
   ],
   "source": [
    "r_vec = np.array([1, 2, 3])\n",
    "\n",
    "spherical_harmonic(1, -1, r_vec)"
   ]
  },
  {
   "cell_type": "code",
   "execution_count": 206,
   "metadata": {
    "collapsed": true
   },
   "outputs": [],
   "source": [
    "def read_basis_functions(basis_set_file, cp2k_input_file):\n",
    "    # Find the used basis sets for all used elements\n",
    "    elem_basis = {}\n",
    "    with open(cp2k_input_file) as f:\n",
    "        lines = f.readlines()\n",
    "        for i in range(len(lines)):\n",
    "            parts = lines[i].split()\n",
    "            if parts[0] == \"&KIND\":\n",
    "                elem = parts[1]\n",
    "                for j in range(10):\n",
    "                    parts = lines[i+j].split()\n",
    "                    if parts[0] == \"BASIS_SET\":\n",
    "                        basis = parts[1]\n",
    "                        elem_basis[elem] = basis\n",
    "                        break\n",
    "    \n",
    "    basis_sets = {}\n",
    "    with open(basis_set_file) as f:\n",
    "        lines = f.readlines()\n",
    "        for i in range(len(lines)):\n",
    "            parts = lines[i].split()\n",
    "            if parts[0] in elem_basis:\n",
    "                elem = parts[0]\n",
    "                if parts[1] == elem_basis[elem] or parts[2] == elem_basis[elem]:\n",
    "                    # We have found the correct basis set\n",
    "                    #print(lines[i], end='')\n",
    "                    #print(lines[i+1], end='')\n",
    "                    basis_functions = []\n",
    "                    nsets = int(lines[i+1])\n",
    "                    cursor = 2\n",
    "                    for j in range(nsets):\n",
    "                        comp = [int(x) for x in lines[i+cursor].split()]\n",
    "                        #print(comp)\n",
    "                        n_princ, l_min, l_max, n_exp = comp[:4]\n",
    "                        l_arr = np.arange(l_min, l_max+1, 1)\n",
    "                        n_basisf_for_l = comp[4:]\n",
    "                        assert len(l_arr) == len(n_basisf_for_l)\n",
    "                        \n",
    "                        exps = []\n",
    "                        coeffs = []\n",
    "                        \n",
    "                        for k in range(n_exp):\n",
    "                            exp_c = [float(x) for x in lines[i+cursor+k+1].split()]\n",
    "                            exps.append(exp_c[0])\n",
    "                            coeffs.append(exp_c[1:])\n",
    "                        \n",
    "                        exps = np.array(exps)\n",
    "                        coeffs = np.array(coeffs)\n",
    "                        \n",
    "                        indx = 0\n",
    "                        for l, nl in zip(l_arr, n_basisf_for_l):\n",
    "                            for i in range(nl):\n",
    "                                #print(\"l =\", l)\n",
    "                                #print(exps)\n",
    "                                #print(coeffs[:, indx])\n",
    "                                basis_functions.append([l, exps, coeffs[:, indx]])\n",
    "                                indx += 1\n",
    "                        cursor += n_exp + 1\n",
    "                        \n",
    "                    #print()\n",
    "                    basis_sets[elem] = basis_functions\n",
    "                    \n",
    "    return basis_sets         "
   ]
  },
  {
   "cell_type": "code",
   "execution_count": 208,
   "metadata": {},
   "outputs": [
    {
     "data": {
      "text/plain": [
       "{'C': [[0,\n",
       "   array([ 5.60533075,  2.11301639,  0.76991145,  0.34815709,  0.12821225]),\n",
       "   array([ 0.11153288,  0.15314219, -0.32139688, -0.61092642, -0.13399086])],\n",
       "  [0,\n",
       "   array([ 5.60533075,  2.11301639,  0.76991145,  0.34815709,  0.12821225]),\n",
       "   array([ 0.46650748,  0.14411321,  0.02936488,  0.92947039,  1.06691433])],\n",
       "  [1,\n",
       "   array([ 5.60533075,  2.11301639,  0.76991145,  0.34815709,  0.12821225]),\n",
       "   array([-0.06486898, -0.20047026, -0.41314173, -0.41533714, -0.28852767])],\n",
       "  [1,\n",
       "   array([ 5.60533075,  2.11301639,  0.76991145,  0.34815709,  0.12821225]),\n",
       "   array([-0.05547569, -0.21616518, -0.43662427,  0.7840007 ,  0.98790813])],\n",
       "  [2,\n",
       "   array([ 5.60533075,  2.11301639,  0.76991145,  0.34815709,  0.12821225]),\n",
       "   array([ 0.02995277,  0.07078446,  0.67460106,  0.17365206,  1.03631702])]],\n",
       " 'H': [[0,\n",
       "   array([ 10.06846823,   2.68022287,   0.79150154,   0.23911615,   0.08219318]),\n",
       "   array([-0.03391744, -0.12220221, -0.44381886, -0.45318219, -0.13161286])],\n",
       "  [0,\n",
       "   array([ 10.06846823,   2.68022287,   0.79150154,   0.23911615,   0.08219318]),\n",
       "   array([ 0.05919378,  0.84331833, -1.15570712,  0.04947962,  0.52270874])],\n",
       "  [1,\n",
       "   array([ 10.06846823,   2.68022287,   0.79150154,   0.23911615,   0.08219318]),\n",
       "   array([ 0.00990513,  0.12244957,  0.47718324,  0.54791968,  0.86903185])]]}"
      ]
     },
     "execution_count": 208,
     "metadata": {},
     "output_type": "execute_result"
    }
   ],
   "source": [
    "basis_sets = read_basis_functions(basis_set_file, cp2k_input)\n",
    "\n",
    "basis_sets"
   ]
  },
  {
   "cell_type": "code",
   "execution_count": 209,
   "metadata": {
    "collapsed": true
   },
   "outputs": [],
   "source": [
    "# Inspiration from\n",
    "# https://github.com/ondrejkrejci/PPSTM/blob/master/pyPPSTM/ReadSTM.py#L520\n",
    "def read_cp2k_MO_file(fn):\n",
    "    print(\"Reading CP2K MOs from:\"+fn)\n",
    "\n",
    "    # read all lines into memory\n",
    "    f = open(fn)\n",
    "    lines = []\n",
    "    for l in f.readlines():\n",
    "        l = l.strip()\n",
    "        if(len(l)==0): continue\n",
    "        lines.append(l)\n",
    "    f.close()\n",
    "    \n",
    "    # Remove all but the last section\n",
    "    delete_line = False\n",
    "    for i, line in reversed(list(enumerate(lines))):\n",
    "        if delete_line:\n",
    "            del lines[i]\n",
    "        if \"MO EIGENVALUES\" in line:\n",
    "            delete_line = True\n",
    "    \n",
    "    # detect dimensions\n",
    "    parts = lines[-3].split()\n",
    "    nbasis = int(parts[0])\n",
    "    natoms = int(parts[1])\n",
    "    nmos = int(lines[-nbasis-5].split()[-1])\n",
    "    \n",
    "    \n",
    "    nlines_per_block = nbasis + 3\n",
    "    nblocks = int((len(lines)-3)/nlines_per_block)\n",
    "    \n",
    "    \n",
    "    print(nbasis, natoms, nmos, nblocks)\n",
    "    \n",
    "    print(\"Found %d MOs spanned by %d basis functions centered on %d atoms.\"%(nmos, nbasis, natoms))\n",
    "    \n",
    "    assert lines[-1].startswith(\"HOMO-LUMO gap:\")\n",
    "    assert lines[-2].startswith(\"Fermi energy:\")\n",
    "    fermi_energy = 27.211385 * float(lines[-2].split()[2])\n",
    "\n",
    "    # unfold table\n",
    "    idx = []\n",
    "    evals = []\n",
    "    occs = []\n",
    "    evecs = [list() for i in range(nbasis)]\n",
    "    labels = [l.split()[:4] for l in lines[4:nbasis+4]]\n",
    "    \n",
    "    first_line = 1\n",
    "    \n",
    "    for iblock in range(nblocks):\n",
    "        a = first_line + iblock*nlines_per_block\n",
    "        evals.extend(lines[a+1].split())\n",
    "        occs.extend(lines[a+2].split())\n",
    "        for j in range(nbasis):\n",
    "            parts = lines[a+3+j].split()\n",
    "            assert parts[:4] == labels[j]\n",
    "            evecs[j].extend(parts[4:])\n",
    "\n",
    "    # convert to numpy arrays\n",
    "    evals = np.array(evals, float)\n",
    "    occs = np.array(occs, float)\n",
    "    evecs = np.array(evecs, float)\n",
    "    assert evals.shape == (nmos,)\n",
    "    assert occs.shape == (nmos,)\n",
    "    assert evecs.shape == (nbasis, nmos)\n",
    "\n",
    "    # convert hartree to eV\n",
    "    evals = 27.211385 * evals\n",
    "    # NB: evecs[basis_idx, morbital_idx] = overlap/projection/scalar_product\n",
    "    \n",
    "    #### --------------------------------------------------------------------\n",
    "    #### Further processing into format\n",
    "    #### molog_data[atom_nr] = ['H', ['3s', '3px', ...], [[evec for 3s], [evec for 3px], ...]\n",
    "    molog_data = [[] for i in range(natoms)]\n",
    "    \n",
    "    for label, evec in zip(labels, evecs):\n",
    "        atom_nr = int(label[1]) - 1\n",
    "        elem = label[2]\n",
    "        if len(molog_data[atom_nr]) == 0:\n",
    "            molog_data[atom_nr].extend([elem, [], []])\n",
    "        molog_data[atom_nr][1].append(label[3])\n",
    "        molog_data[atom_nr][2].append(evec)\n",
    "    \n",
    "    return molog_data, evals, occs, fermi_energy\n",
    "\n"
   ]
  },
  {
   "cell_type": "code",
   "execution_count": 210,
   "metadata": {},
   "outputs": [
    {
     "name": "stdout",
     "output_type": "stream",
     "text": [
      "Reading CP2K MOs from:/home/kristjan/sshfs/daint_scratch/cp2k_cnt_orbitals/c2h2/morb_diag_cart/PROJ-COEFF-1_0.MOLog\n",
      "38 4 10 5\n",
      "Found 10 MOs spanned by 38 basis functions centered on 4 atoms.\n"
     ]
    },
    {
     "data": {
      "text/plain": [
       "['C',\n",
       " ['2s',\n",
       "  '3s',\n",
       "  '3px',\n",
       "  '3py',\n",
       "  '3pz',\n",
       "  '4px',\n",
       "  '4py',\n",
       "  '4pz',\n",
       "  '4dx2',\n",
       "  '4dxy',\n",
       "  '4dxz',\n",
       "  '4dy2',\n",
       "  '4dyz',\n",
       "  '4dz2'],\n",
       " [array([  4.71652007e-01,   3.17066375e-01,  -8.81880766e-04,\n",
       "           1.08906900e-09,   1.50851510e-09,  -2.85404700e-09,\n",
       "          -2.12357270e-09,   9.25870575e-02,   4.66577646e-01,\n",
       "          -5.25645321e-01]),\n",
       "  array([  9.72351226e-03,   4.20227216e-03,   1.29653777e-02,\n",
       "          -1.23593100e-10,  -4.27809900e-10,   4.98023400e-10,\n",
       "           3.91486500e-10,  -5.58998497e-02,  -7.90217826e-02,\n",
       "           2.79169896e-01]),\n",
       "  array([ -5.95457700e-10,  -1.57622880e-09,   3.64821300e-10,\n",
       "           9.74077242e-02,  -5.76378637e-01,   8.21069724e-02,\n",
       "          -6.84938097e-01,  -4.46075970e-09,  -1.15160650e-09,\n",
       "           5.57577000e-11]),\n",
       "  array([  3.03113300e-10,  -7.41652100e-10,   3.50779700e-10,\n",
       "          -5.76378636e-01,  -9.74077236e-02,  -6.84938098e-01,\n",
       "          -8.21069729e-02,  -4.02927500e-09,  -3.05029160e-09,\n",
       "           3.11935800e-10]),\n",
       "  array([  1.58827292e-01,  -2.63078836e-01,   4.81801907e-01,\n",
       "           1.48626310e-09,   1.96638300e-09,  -2.32198590e-09,\n",
       "          -2.79986260e-09,   2.33149412e-01,   6.26088841e-02,\n",
       "          -3.42046125e-01]),\n",
       "  array([  7.26688000e-11,  -1.36601400e-10,   3.69755100e-10,\n",
       "          -2.87212442e-03,   1.69948646e-02,  -1.67033883e-02,\n",
       "           1.39340017e-01,   1.22226270e-09,  -1.15136000e-11,\n",
       "           9.73327000e-11]),\n",
       "  array([  2.17324100e-10,  -2.45027000e-11,   2.43135500e-10,\n",
       "           1.69948645e-02,   2.87212412e-03,   1.39340017e-01,\n",
       "           1.67033882e-02,   1.08282160e-09,   6.43567200e-10,\n",
       "          -1.81728000e-11]),\n",
       "  array([  3.31769755e-02,   6.32006286e-03,   6.29045159e-02,\n",
       "           6.86903000e-11,  -5.26418000e-10,   4.34549100e-10,\n",
       "          -3.95266700e-10,   1.80951812e-01,  -2.69008893e-01,\n",
       "           9.77681895e-01]),\n",
       "  array([  5.14833672e-03,   5.03887940e-03,  -1.36819107e-03,\n",
       "           1.96977000e-11,  -3.14645600e-10,   2.04751200e-10,\n",
       "          -3.90847900e-10,   6.38664595e-02,  -7.81421799e-02,\n",
       "          -9.89673639e-02]),\n",
       "  array([  1.14750200e-10,   7.39100000e-11,  -2.52889000e-11,\n",
       "          -3.56166900e-10,  -7.82385000e-11,  -4.16079100e-10,\n",
       "          -1.13749100e-10,  -5.48213000e-11,   1.47775100e-10,\n",
       "           1.01966000e-10]),\n",
       "  array([ -5.44750000e-11,  -1.80717100e-10,   4.03933800e-10,\n",
       "          -4.93743691e-03,   2.92156827e-02,   1.10838992e-02,\n",
       "          -9.24621204e-02,  -5.69820800e-10,  -5.87156300e-10,\n",
       "          -1.50245000e-11]),\n",
       "  array([  5.14833677e-03,   5.03887942e-03,  -1.36819109e-03,\n",
       "          -1.64259500e-10,   3.89387000e-11,  -3.44707000e-11,\n",
       "           3.61367000e-11,   6.38664595e-02,  -7.81421798e-02,\n",
       "          -9.89673621e-02]),\n",
       "  array([ -1.87114300e-10,  -3.55069000e-11,   4.35620000e-11,\n",
       "           2.92156827e-02,   4.93743692e-03,  -9.24621203e-02,\n",
       "          -1.10838991e-02,  -7.55078800e-10,  -9.27861300e-10,\n",
       "          -4.27655400e-10]),\n",
       "  array([ -1.02966735e-02,  -1.00777588e-02,   2.73638216e-03,\n",
       "           1.44561800e-10,   2.75706900e-10,  -1.70280400e-10,\n",
       "           3.54711200e-10,  -1.27732919e-01,   1.56284360e-01,\n",
       "           1.97934726e-01])]]"
      ]
     },
     "execution_count": 210,
     "metadata": {},
     "output_type": "execute_result"
    }
   ],
   "source": [
    "molog_output = read_cp2k_MO_file(molog)\n",
    "\n",
    "molog_data, evals, occs, fermi_energy = molog_output\n",
    "molog_data[1]"
   ]
  },
  {
   "cell_type": "code",
   "execution_count": 211,
   "metadata": {
    "collapsed": true
   },
   "outputs": [],
   "source": [
    "# Assuming alphabetical order: x, y, z\n",
    "# returns in order of increasing m\n",
    "def cart_coef_to_spherical(l, coefs):\n",
    "    if l == 0:\n",
    "        assert len(coefs) == 1\n",
    "        return np.array(coefs)\n",
    "    elif l == 1:\n",
    "        assert len(coefs) == 3\n",
    "        return np.array([coefs[1], coefs[2], coefs[0]])\n",
    "    elif l == 2:\n",
    "        assert len(coefs) == 6\n",
    "        conv_mat = np.array([[ 0.0, 1.0, 0.0,  0.0, 0.0, 0.0],\n",
    "                             [ 0.0, 0.0, 0.0,  0.0, 1.0, 0.0],\n",
    "                             [-0.5, 0.0, 0.0, -0.5, 0.0, 1.0],\n",
    "                             [ 0.0, 0.0, 1.0,  0.0, 0.0, 0.0],\n",
    "                             [ 0.5*np.sqrt(3), 0, 0, -0.5*np.sqrt(3), 0, 0]])\n",
    "        return np.dot(conv_mat, coefs)\n",
    "    else:\n",
    "        print(\"Not implemented.\")\n",
    "        return 0.0\n",
    "    "
   ]
  },
  {
   "cell_type": "code",
   "execution_count": 223,
   "metadata": {},
   "outputs": [
    {
     "data": {
      "text/plain": [
       "[[array([ 0.1376726]),\n",
       "  array([-0.00277589]),\n",
       "  array([ -6.87475000e-11,  -2.85527972e-02,   4.46790000e-11])],\n",
       " [array([ 0.47165201]),\n",
       "  array([ 0.00972351]),\n",
       "  array([  3.03113300e-10,   1.58827292e-01,  -5.95457700e-10]),\n",
       "  array([  2.17324100e-10,   3.31769755e-02,   7.26688000e-11]),\n",
       "  array([  1.14750200e-10,  -1.87114300e-10,  -1.54450102e-02,\n",
       "          -5.44750000e-11,  -4.23048220e-11])],\n",
       " [array([ 0.471652]),\n",
       "  array([ 0.00972351]),\n",
       "  array([  2.51000570e-09,  -1.58827299e-01,   2.10275770e-09]),\n",
       "  array([  3.39177000e-11,  -3.31769760e-02,   1.58458000e-11]),\n",
       "  array([ -9.85331000e-11,   1.99150300e-10,  -1.54450094e-02,\n",
       "           1.01432400e-10,   8.71173056e-11])],\n",
       " [array([ 0.13767258]),\n",
       "  array([-0.00277589]),\n",
       "  array([ -1.80271000e-10,   2.85527952e-02,  -1.56630600e-10])]]"
      ]
     },
     "execution_count": 223,
     "metadata": {},
     "output_type": "execute_result"
    }
   ],
   "source": [
    "\n",
    "# morb_decomposition[morb_nr, atom_nr] = [coefs_for_2s, coefs_for_3s, coefs_for_3p, coefs_for_3d, ...]\n",
    "# coefs_for_3p = [coef_for_m=-1, coef_for_m=0, coef_for_m=1]\n",
    "def process_molog_output(molog_output):\n",
    "    \n",
    "    molog_data, evals, occs, fermi_energy = molog_output\n",
    "    \n",
    "    natoms = len(molog_data)\n",
    "    nmos = len(evals)\n",
    "    \n",
    "    morb_decomposition = [[[] for j in range(natoms)] for i in range(nmos)]\n",
    "\n",
    "    for i_at in range(natoms):\n",
    "        elem = molog_data[i_at][0]\n",
    "        orb_labels = molog_data[i_at][1]\n",
    "        eig_vecs = molog_data[i_at][2]\n",
    "        \n",
    "        i_orb = 0\n",
    "        while i_orb < len(orb_labels):\n",
    "            \n",
    "            n_orb = int(orb_labels[i_orb][0])\n",
    "            cart_orb = orb_labels[i_orb][1:]\n",
    "            \n",
    "            if cart_orb == 's':\n",
    "                eig_vec = eig_vecs[i_orb]\n",
    "                for i_mo in range(nmos):\n",
    "                    morb_decomposition[i_mo][i_at].append(cart_coef_to_spherical(0, [eig_vec[i_mo]]))\n",
    "                i_orb += 1\n",
    "                continue\n",
    "            \n",
    "            elif cart_orb == 'px':\n",
    "                eig_px = eig_vecs[i_orb]\n",
    "                eig_py = eig_vecs[i_orb+1]\n",
    "                eig_pz = eig_vecs[i_orb+2]\n",
    "                for i_mo in range(nmos):\n",
    "                    spherical_coefs = cart_coef_to_spherical(1, [eig_px[i_mo], eig_py[i_mo], eig_pz[i_mo]])\n",
    "                    morb_decomposition[i_mo][i_at].append(spherical_coefs)\n",
    "                i_orb += 3\n",
    "                continue\n",
    "            \n",
    "            elif cart_orb == 'dx2':\n",
    "                eig_dx2 = eig_vecs[i_orb]\n",
    "                eig_dxy = eig_vecs[i_orb+1]\n",
    "                eig_dxz = eig_vecs[i_orb+2]\n",
    "                eig_dy2 = eig_vecs[i_orb+3]\n",
    "                eig_dyz = eig_vecs[i_orb+4]\n",
    "                eig_dz2 = eig_vecs[i_orb+5]\n",
    "                for i_mo in range(nmos):\n",
    "                    spherical_coefs = cart_coef_to_spherical(2, [eig_dx2[i_mo], eig_dxy[i_mo], eig_dxz[i_mo],\n",
    "                                                                 eig_dy2[i_mo], eig_dyz[i_mo], eig_dz2[i_mo]])\n",
    "                    morb_decomposition[i_mo][i_at].append(spherical_coefs)\n",
    "                i_orb += 6\n",
    "                continue\n",
    "            \n",
    "            else:\n",
    "                print('Error: found unsupported orbital label')\n",
    "                break\n",
    "                \n",
    "    return morb_decomposition\n",
    "        \n",
    "morb_decomposition = process_molog_output(molog_output)\n",
    "\n",
    "morb_decomposition[4][3]"
   ]
  },
  {
   "cell_type": "code",
   "execution_count": 213,
   "metadata": {
    "collapsed": true
   },
   "outputs": [],
   "source": [
    "folder = \"/home/kristjan/sshfs/daint_scratch/cp2k_cnt_orbitals/\"\n",
    "\n",
    "file_xyz = folder + \"c2h2/p.xyz\"\n",
    "\n",
    "file_molog = folder + \"c2h2/morb_diag_cart/PROJ-COEFF-1_0.MOLog\"\n",
    "\n",
    "file_basis_set = folder + \"BR\"\n",
    "\n",
    "file_cp2k_inp = folder + \"c2h2/morb_diag_cart/cp2k.inp\"\n",
    "\n",
    "\n",
    "ang_2_bohr = 1.0/0.52917721067\n",
    "\n",
    "cell = np.array([[4.0, 0.0, 0.0], [0.0, 4.0, 0.0], [0.0, 0.0, 7.345]])\n",
    "cell *= ang_2_bohr\n",
    "\n",
    "step = 0.08\n",
    "step *= ang_2_bohr\n",
    "\n",
    "cell_n = np.array((int(cell[0, 0]/step), int(cell[1, 1]/step), int(cell[2, 2]/step)))\n",
    "\n",
    "def grid_morbital(morbital_nr, file_xyz, file_molog, file_basis_set, file_cp2k_inp, cell, cell_n):\n",
    "    \n",
    "    # Read atomic positions (in angstrom)\n",
    "    positions = np.genfromtxt(file_xyz, dtype=None, skip_header=2)\n",
    "    \n",
    "    # Read MOlog file for molecular orbital decompositon in atomic orbitals\n",
    "    molog_output = read_cp2k_MO_file(file_molog)\n",
    "    \n",
    "    # Process the molog data \n",
    "    morb_decomposition = process_molog_output(molog_output)\n",
    "    \n",
    "    # Read basis set info\n",
    "    basis_sets = read_basis_functions(file_basis_set, file_cp2k_inp)\n",
    "    \n",
    "    dv = cell/cell_n\n",
    "    \n",
    "    data = np.zeros(cell_n) \n",
    "    \n",
    "    for xi in range(cell_n[0]):\n",
    "        for yi in range(cell_n[1]):\n",
    "            for zi in range(cell_n[2]):\n",
    "                # In bohr\n",
    "                (x, y, z) = xi*dv[0] + yi*dv[1] + zi*dv[2]\n",
    "                \n",
    "                for i_at in range(len(positions)):\n",
    "                    elem = positions[i_at][0].decode(\"utf-8\")\n",
    "                    x_at = positions[i_at][1] * ang_2_bohr\n",
    "                    y_at = positions[i_at][2] * ang_2_bohr\n",
    "                    z_at = positions[i_at][3] * ang_2_bohr\n",
    "                    \n",
    "                    for bs, orb_coefs in zip(basis_sets[elem], morb_decomposition[morbital_nr][i_at]):\n",
    "                        l = bs[0]\n",
    "                        \n",
    "                        es = bs[1]\n",
    "                        cs = bs[2]\n",
    "                        \n",
    "                        r_vec = np.array([x-x_at, y-y_at, z-z_at])\n",
    "                        r_vec_2 = np.dot(r_vec, r_vec)\n",
    "                        \n",
    "                        # Calculate the radial part\n",
    "                        radial_part = 0\n",
    "                        for e, c in zip(es, cs):\n",
    "                            radial_part += c*np.exp(-1.0*e*r_vec_2)\n",
    "                        \n",
    "                        \n",
    "                        for i, m in enumerate(range(-l, l+1, 1)):\n",
    "                            coef = orb_coefs[i]\n",
    "                            data[xi, yi, zi] += radial_part*coef*spherical_harmonic(l, m, r_vec)\n",
    "    \n",
    "    return data\n",
    "\n",
    "\n",
    "def grid_atomic_orbitals(file_xyz, file_molog, file_basis_set, file_cp2k_inp, cell, cell_n):\n",
    "    \n",
    "    # Read atomic positions\n",
    "    positions = np.genfromtxt(file_xyz, dtype=None, skip_header=2)\n",
    "    \n",
    "    # Read MOlog file for molecular orbital decompositon in atomic orbitals\n",
    "    molog_output = read_cp2k_MO_file(file_molog)\n",
    "    \n",
    "    # Process the molog data \n",
    "    morb_decomposition = process_molog_output(molog_output)\n",
    "    \n",
    "    # Read basis set info\n",
    "    basis_sets = read_basis_functions(file_basis_set, file_cp2k_inp)\n",
    "    \n",
    "    dv = cell/cell_n\n",
    "    \n",
    "    atomic_orbitals_on_grid = []\n",
    "    \n",
    "    for i_at in [0]:\n",
    "        elem = positions[i_at][0].decode(\"utf-8\")\n",
    "        x_at = positions[i_at][1] * ang_2_bohr\n",
    "        y_at = positions[i_at][2] * ang_2_bohr\n",
    "        z_at = positions[i_at][3] * ang_2_bohr\n",
    "        \n",
    "        atomic_orbitals_on_grid.append([elem, np.array([x_at, y_at, z_at]), []])\n",
    "        \n",
    "        \n",
    "        for bs in basis_sets[elem]:\n",
    "            l = bs[0]\n",
    "                        \n",
    "            es = bs[1]\n",
    "            cs = bs[2]\n",
    "            \n",
    "            atomic_orbitals_on_grid[-1][2].append([l, []])\n",
    "            \n",
    "            for i, m in enumerate(range(-l, l+1, 1)):\n",
    "                data = np.zeros(cell_n) \n",
    "                \n",
    "                for xi in range(cell_n[0]):\n",
    "                    for yi in range(cell_n[1]):\n",
    "                        for zi in range(cell_n[2]):\n",
    "                            (x, y, z) = xi*dv[0] + yi*dv[1] + zi*dv[2]\n",
    "\n",
    "                            r_vec = np.array([x-x_at, y-y_at, z-z_at])\n",
    "                            r_vec_2 = np.dot(r_vec, r_vec)\n",
    "                            \n",
    "                            # Calculate the radial part\n",
    "                            radial_part = 0\n",
    "                            for e, c in zip(es, cs):\n",
    "                                radial_part += c*np.exp(-1.0*e*r_vec_2)\n",
    "                            \n",
    "                            data[xi, yi, zi] += radial_part*spherical_harmonic(l, m, r_vec)\n",
    "                            \n",
    "                atomic_orbitals_on_grid[-1][2][-1][1].append(data)\n",
    "                \n",
    "                #fname = \"./at%d_l%d_m%d.cube\" % (i_at, l, m)\n",
    "                #write_cube_file(fname, positions, cell, cell_n, data)\n",
    "    \n",
    "    return atomic_orbitals_on_grid"
   ]
  },
  {
   "cell_type": "code",
   "execution_count": 200,
   "metadata": {},
   "outputs": [
    {
     "name": "stdout",
     "output_type": "stream",
     "text": [
      "Reading CP2K MOs from:/home/kristjan/sshfs/daint_scratch/cp2k_cnt_orbitals/c2h2/morb_diag_cart/PROJ-COEFF-1_0.MOLog\n",
      "38 4 10 5\n",
      "Found 10 MOs spanned by 38 basis functions centered on 4 atoms.\n",
      " H  DZVP-MOLOPT-SR-GTH DZVP-MOLOPT-SR-GTH-q1\n",
      " 1\n",
      "[2, 0, 1, 5, 2, 1]\n",
      "l = 0\n",
      "[ 10.06846823   2.68022287   0.79150154   0.23911615   0.08219318]\n",
      "[-0.03391744 -0.12220221 -0.44381886 -0.45318219 -0.13161286]\n",
      "l = 0\n",
      "[ 10.06846823   2.68022287   0.79150154   0.23911615   0.08219318]\n",
      "[ 0.05919378  0.84331833 -1.15570712  0.04947962  0.52270874]\n",
      "l = 1\n",
      "[ 10.06846823   2.68022287   0.79150154   0.23911615   0.08219318]\n",
      "[ 0.00990513  0.12244957  0.47718324  0.54791968  0.86903185]\n",
      "\n",
      " C  DZVP-MOLOPT-SR-GTH DZVP-MOLOPT-SR-GTH-q4\n",
      " 1\n",
      "[2, 0, 2, 5, 2, 2, 1]\n",
      "l = 0\n",
      "[ 5.60533075  2.11301639  0.76991145  0.34815709  0.12821225]\n",
      "[ 0.11153288  0.15314219 -0.32139688 -0.61092642 -0.13399086]\n",
      "l = 0\n",
      "[ 5.60533075  2.11301639  0.76991145  0.34815709  0.12821225]\n",
      "[ 0.46650748  0.14411321  0.02936488  0.92947039  1.06691433]\n",
      "l = 1\n",
      "[ 5.60533075  2.11301639  0.76991145  0.34815709  0.12821225]\n",
      "[-0.06486898 -0.20047026 -0.41314173 -0.41533714 -0.28852767]\n",
      "l = 1\n",
      "[ 5.60533075  2.11301639  0.76991145  0.34815709  0.12821225]\n",
      "[-0.05547569 -0.21616518 -0.43662427  0.7840007   0.98790813]\n",
      "l = 2\n",
      "[ 5.60533075  2.11301639  0.76991145  0.34815709  0.12821225]\n",
      "[ 0.02995277  0.07078446  0.67460106  0.17365206  1.03631702]\n",
      "\n",
      "time:  92.90766859054565\n",
      "max:  0.44114257393\n",
      "min:  -0.469804171211\n"
     ]
    }
   ],
   "source": [
    "start_time = time.time()\n",
    "data0 = grid_morbital(0, file_xyz, file_molog, file_basis_set, file_cp2k_inp, cell, cell_n)\n",
    "print(\"time: \", (time.time()-start_time))\n",
    "print(\"max: \", np.max(data))\n",
    "print(\"min: \", np.min(data))\n"
   ]
  },
  {
   "cell_type": "code",
   "execution_count": 201,
   "metadata": {},
   "outputs": [
    {
     "name": "stdout",
     "output_type": "stream",
     "text": [
      "Reading CP2K MOs from:/home/kristjan/sshfs/daint_scratch/cp2k_cnt_orbitals/c2h2/morb_diag_cart/PROJ-COEFF-1_0.MOLog\n",
      "38 4 10 5\n",
      "Found 10 MOs spanned by 38 basis functions centered on 4 atoms.\n",
      " H  DZVP-MOLOPT-SR-GTH DZVP-MOLOPT-SR-GTH-q1\n",
      " 1\n",
      "[2, 0, 1, 5, 2, 1]\n",
      "l = 0\n",
      "[ 10.06846823   2.68022287   0.79150154   0.23911615   0.08219318]\n",
      "[-0.03391744 -0.12220221 -0.44381886 -0.45318219 -0.13161286]\n",
      "l = 0\n",
      "[ 10.06846823   2.68022287   0.79150154   0.23911615   0.08219318]\n",
      "[ 0.05919378  0.84331833 -1.15570712  0.04947962  0.52270874]\n",
      "l = 1\n",
      "[ 10.06846823   2.68022287   0.79150154   0.23911615   0.08219318]\n",
      "[ 0.00990513  0.12244957  0.47718324  0.54791968  0.86903185]\n",
      "\n",
      " C  DZVP-MOLOPT-SR-GTH DZVP-MOLOPT-SR-GTH-q4\n",
      " 1\n",
      "[2, 0, 2, 5, 2, 2, 1]\n",
      "l = 0\n",
      "[ 5.60533075  2.11301639  0.76991145  0.34815709  0.12821225]\n",
      "[ 0.11153288  0.15314219 -0.32139688 -0.61092642 -0.13399086]\n",
      "l = 0\n",
      "[ 5.60533075  2.11301639  0.76991145  0.34815709  0.12821225]\n",
      "[ 0.46650748  0.14411321  0.02936488  0.92947039  1.06691433]\n",
      "l = 1\n",
      "[ 5.60533075  2.11301639  0.76991145  0.34815709  0.12821225]\n",
      "[-0.06486898 -0.20047026 -0.41314173 -0.41533714 -0.28852767]\n",
      "l = 1\n",
      "[ 5.60533075  2.11301639  0.76991145  0.34815709  0.12821225]\n",
      "[-0.05547569 -0.21616518 -0.43662427  0.7840007   0.98790813]\n",
      "l = 2\n",
      "[ 5.60533075  2.11301639  0.76991145  0.34815709  0.12821225]\n",
      "[ 0.02995277  0.07078446  0.67460106  0.17365206  1.03631702]\n",
      "\n",
      "time:  92.68031692504883\n",
      "max:  0.44114257393\n",
      "min:  -0.469804171211\n"
     ]
    }
   ],
   "source": [
    "start_time = time.time()\n",
    "data1 = grid_morbital(1, file_xyz, file_molog, file_basis_set, file_cp2k_inp, cell, cell_n)\n",
    "print(\"time: \", (time.time()-start_time))"
   ]
  },
  {
   "cell_type": "code",
   "execution_count": 214,
   "metadata": {},
   "outputs": [
    {
     "name": "stdout",
     "output_type": "stream",
     "text": [
      "Reading CP2K MOs from:/home/kristjan/sshfs/daint_scratch/cp2k_cnt_orbitals/c2h2/morb_diag_cart/PROJ-COEFF-1_0.MOLog\n",
      "38 4 10 5\n",
      "Found 10 MOs spanned by 38 basis functions centered on 4 atoms.\n",
      "time:  92.15966129302979\n"
     ]
    }
   ],
   "source": [
    "start_time = time.time()\n",
    "data5 = grid_morbital(5, file_xyz, file_molog, file_basis_set, file_cp2k_inp, cell, cell_n)\n",
    "print(\"time: \", (time.time()-start_time))"
   ]
  },
  {
   "cell_type": "code",
   "execution_count": 215,
   "metadata": {},
   "outputs": [
    {
     "name": "stdout",
     "output_type": "stream",
     "text": [
      "Reading CP2K MOs from:/home/kristjan/sshfs/daint_scratch/cp2k_cnt_orbitals/c2h2/morb_diag_cart/PROJ-COEFF-1_0.MOLog\n",
      "38 4 10 5\n",
      "Found 10 MOs spanned by 38 basis functions centered on 4 atoms.\n",
      "time:  94.60755705833435\n"
     ]
    }
   ],
   "source": [
    "start_time = time.time()\n",
    "data6 = grid_morbital(6, file_xyz, file_molog, file_basis_set, file_cp2k_inp, cell, cell_n)\n",
    "print(\"time: \", (time.time()-start_time))"
   ]
  },
  {
   "cell_type": "code",
   "execution_count": 221,
   "metadata": {},
   "outputs": [
    {
     "data": {
      "text/plain": [
       "6.679440779876176e-08"
      ]
     },
     "execution_count": 221,
     "metadata": {},
     "output_type": "execute_result"
    }
   ],
   "source": [
    "# Calculate overlap between two orbitals\n",
    "# vol_elem in bohr!\n",
    "def overlap(data1, data2, vol_elem):\n",
    "    return (np.dot(data1.flatten(), data2.flatten())*vol_elem)**2\n",
    "\n",
    "\n",
    "vol_elem = np.linalg.det(cell/cell_n)\n",
    "overlap(data5, data6, vol_elem)"
   ]
  },
  {
   "cell_type": "code",
   "execution_count": 170,
   "metadata": {},
   "outputs": [
    {
     "name": "stdout",
     "output_type": "stream",
     "text": [
      "Reading CP2K MOs from:/home/kristjan/sshfs/daint_scratch/cp2k_cnt_orbitals/c2h2/morb_diag_cart/PROJ-COEFF-1_0.MOLog\n",
      "38 4 10 5\n",
      "Found 10 MOs spanned by 38 basis functions centered on 4 atoms.\n",
      " H  DZVP-MOLOPT-SR-GTH DZVP-MOLOPT-SR-GTH-q1\n",
      " 1\n",
      "[2, 0, 1, 5, 2, 1]\n",
      "l = 0\n",
      "[ 10.06846823   2.68022287   0.79150154   0.23911615   0.08219318]\n",
      "[-0.03391744 -0.12220221 -0.44381886 -0.45318219 -0.13161286]\n",
      "l = 0\n",
      "[ 10.06846823   2.68022287   0.79150154   0.23911615   0.08219318]\n",
      "[ 0.05919378  0.84331833 -1.15570712  0.04947962  0.52270874]\n",
      "l = 1\n",
      "[ 10.06846823   2.68022287   0.79150154   0.23911615   0.08219318]\n",
      "[ 0.00990513  0.12244957  0.47718324  0.54791968  0.86903185]\n",
      "\n",
      " C  DZVP-MOLOPT-SR-GTH DZVP-MOLOPT-SR-GTH-q4\n",
      " 1\n",
      "[2, 0, 2, 5, 2, 2, 1]\n",
      "l = 0\n",
      "[ 5.60533075  2.11301639  0.76991145  0.34815709  0.12821225]\n",
      "[ 0.11153288  0.15314219 -0.32139688 -0.61092642 -0.13399086]\n",
      "l = 0\n",
      "[ 5.60533075  2.11301639  0.76991145  0.34815709  0.12821225]\n",
      "[ 0.46650748  0.14411321  0.02936488  0.92947039  1.06691433]\n",
      "l = 1\n",
      "[ 5.60533075  2.11301639  0.76991145  0.34815709  0.12821225]\n",
      "[-0.06486898 -0.20047026 -0.41314173 -0.41533714 -0.28852767]\n",
      "l = 1\n",
      "[ 5.60533075  2.11301639  0.76991145  0.34815709  0.12821225]\n",
      "[-0.05547569 -0.21616518 -0.43662427  0.7840007   0.98790813]\n",
      "l = 2\n",
      "[ 5.60533075  2.11301639  0.76991145  0.34815709  0.12821225]\n",
      "[ 0.02995277  0.07078446  0.67460106  0.17365206  1.03631702]\n",
      "\n",
      "time:  23.664628982543945\n"
     ]
    }
   ],
   "source": [
    "start_time = time.time()\n",
    "atomic_orbitals_on_grid = grid_atomic_orbitals(file_xyz, file_molog, file_basis_set, file_cp2k_inp, cell, cell_n)\n",
    "print(\"time: \", (time.time()-start_time))\n",
    "#print(\"max: \", np.max(data))\n",
    "#print(\"min: \", np.min(data))\n",
    "\n",
    "positions = np.genfromtxt(file_xyz, dtype=None, skip_header=2)"
   ]
  },
  {
   "cell_type": "code",
   "execution_count": 197,
   "metadata": {},
   "outputs": [
    {
     "data": {
      "text/plain": [
       "0.0042338127552316134"
      ]
     },
     "execution_count": 197,
     "metadata": {},
     "output_type": "execute_result"
    }
   ],
   "source": [
    "# [atom][2][l=0, 0, 1, ...][1][m]\n",
    "data1 = atomic_orbitals_on_grid[0][2][2][1][0]\n",
    "data2 = atomic_orbitals_on_grid[0][2][2][1][2]\n",
    "data3 = atomic_orbitals_on_grid[0][2][1][1][0]\n",
    "data4 = atomic_orbitals_on_grid[0][2][0][1][0]\n",
    "\n",
    "# Calculate overlap between two orbitals\n",
    "# vol_elem in bohr!\n",
    "def overlap(data1, data2, vol_elem):\n",
    "    return (np.dot(data1.flatten(), data2.flatten())*vol_elem)**2\n",
    "\n",
    "\n",
    "vol_elem = np.linalg.det(cell/cell_n)\n",
    "overlap(data0, data1, vol_elem)\n"
   ]
  },
  {
   "cell_type": "code",
   "execution_count": 51,
   "metadata": {
    "collapsed": true
   },
   "outputs": [],
   "source": [
    "filename = './output.cube'\n",
    "\n",
    "def write_cube_file(filename, atoms, cell, cell_n, data):\n",
    "    \n",
    "    natoms = len(atoms)\n",
    "    origin = np.array([0.0, 0.0, 0.0])\n",
    "    origin *= ang_2_bohr\n",
    "    \n",
    "    f = open(filename, 'w')\n",
    "    \n",
    "    f.write('title\\n')\n",
    "    f.write('comment\\n')\n",
    "    \n",
    "    dv_br = cell/cell_n\n",
    "    \n",
    "    f.write(\"%5d %12.6f %12.6f %12.6f\\n\"%(natoms, origin[0], origin[1], origin[2]))\n",
    "    \n",
    "    for i in range(3):\n",
    "        f.write(\"%5d %12.6f %12.6f %12.6f\\n\"%(cell_n[i], dv_br[i][0], dv_br[i][1], dv_br[i][2]))\n",
    "    \n",
    "    for i in range(natoms):\n",
    "        at_x = atoms[i][1] * ang_2_bohr\n",
    "        at_y = atoms[i][2] * ang_2_bohr\n",
    "        at_z = atoms[i][3] * ang_2_bohr\n",
    "        f.write(\"%5d %12.6f %12.6f %12.6f %12.6f\\n\"%(atoms[i][4], 0.0, at_x, at_y, at_z))\n",
    "    \n",
    "    data.tofile(f, sep='\\n', format='%12.6e')\n",
    "    \n",
    "    f.close()"
   ]
  },
  {
   "cell_type": "code",
   "execution_count": 52,
   "metadata": {
    "collapsed": true
   },
   "outputs": [],
   "source": [
    "positions = np.genfromtxt(file_xyz, dtype=None, skip_header=2)\n",
    "\n",
    "write_cube_file(filename, positions, cell, cell_n, data)"
   ]
  },
  {
   "cell_type": "code",
   "execution_count": 93,
   "metadata": {},
   "outputs": [
    {
     "data": {
      "text/plain": [
       "2140520.5068390658"
      ]
     },
     "execution_count": 93,
     "metadata": {},
     "output_type": "execute_result"
    }
   ],
   "source": []
  },
  {
   "cell_type": "code",
   "execution_count": 152,
   "metadata": {
    "collapsed": true
   },
   "outputs": [],
   "source": [
    "cell = np.array([[4.0, 0.0, 0.0], [0.0, 4.0, 0.0], [0.0, 0.0, 7.345]])\n",
    "cell *= ang_2_bohr\n",
    "\n",
    "step = 0.8\n",
    "step *= ang_2_bohr\n",
    "\n",
    "cell_n = np.array((int(cell[0, 0]/step), int(cell[1, 1]/step), int(cell[2, 2]/step)))\n",
    "\n",
    "dv = cell/cell_n\n",
    "\n",
    "x_at = cell[0,0]/2\n",
    "y_at = cell[1,1]/2\n",
    "z_at = cell[2,2]/2\n",
    "\n",
    "data = np.zeros(cell_n) \n",
    "\n",
    "l = 1\n",
    "m = 1\n",
    "\n",
    "for xi in range(cell_n[0]):\n",
    "    for yi in range(cell_n[1]):\n",
    "        for zi in range(cell_n[2]):\n",
    "            (x, y, z) = xi*dv[0] + yi*dv[1] + zi*dv[2]\n",
    "            \n",
    "            r_vec = np.array([x-x_at, y-y_at, z-z_at])\n",
    "            r_vec_2 = np.dot(r_vec, r_vec)\n",
    "            \n",
    "            data[xi, yi, zi] = spherical_harmonic_real(l, m, r_vec)\n",
    "            "
   ]
  },
  {
   "cell_type": "code",
   "execution_count": 156,
   "metadata": {},
   "outputs": [
    {
     "data": {
      "text/plain": [
       "2051.1720904340191"
      ]
     },
     "execution_count": 156,
     "metadata": {},
     "output_type": "execute_result"
    }
   ],
   "source": [
    "vol_elem = np.linalg.det(cell/cell_n)\n",
    "overlap(data, data, vol_elem)"
   ]
  },
  {
   "cell_type": "code",
   "execution_count": 162,
   "metadata": {},
   "outputs": [
    {
     "data": {
      "text/plain": [
       "array([[ 1.5117809 ,  0.        ,  0.        ],\n",
       "       [ 0.        ,  1.5117809 ,  0.        ],\n",
       "       [ 0.        ,  0.        ,  1.54222649]])"
      ]
     },
     "execution_count": 162,
     "metadata": {},
     "output_type": "execute_result"
    }
   ],
   "source": [
    "cell/cell_n"
   ]
  },
  {
   "cell_type": "code",
   "execution_count": null,
   "metadata": {
    "collapsed": true
   },
   "outputs": [],
   "source": []
  },
  {
   "cell_type": "code",
   "execution_count": 157,
   "metadata": {},
   "outputs": [
    {
     "data": {
      "text/plain": [
       "array([[[-0.21081194, -0.24309668, -0.28020127, -0.31707081, -0.34195382,\n",
       "         -0.34195382, -0.31707081, -0.28020127, -0.24309668],\n",
       "        [-0.22461661, -0.26499207, -0.31534667, -0.3709798 , -0.4127047 ,\n",
       "         -0.4127047 , -0.3709798 , -0.31534667, -0.26499207],\n",
       "        [-0.23262002, -0.2784189 , -0.33872925, -0.4108013 , -0.46980417,\n",
       "         -0.46980417, -0.4108013 , -0.33872925, -0.2784189 ],\n",
       "        [-0.23262002, -0.2784189 , -0.33872925, -0.4108013 , -0.46980417,\n",
       "         -0.46980417, -0.4108013 , -0.33872925, -0.2784189 ],\n",
       "        [-0.22461661, -0.26499207, -0.31534667, -0.3709798 , -0.4127047 ,\n",
       "         -0.4127047 , -0.3709798 , -0.31534667, -0.26499207]],\n",
       "\n",
       "       [[-0.13476996, -0.15899524, -0.189208  , -0.22258788, -0.24762282,\n",
       "         -0.24762282, -0.22258788, -0.189208  , -0.15899524],\n",
       "        [-0.1449269 , -0.17647082, -0.22093591, -0.28020127, -0.33591986,\n",
       "         -0.33591986, -0.28020127, -0.22093591, -0.17647082],\n",
       "        [-0.15094954, -0.18768745, -0.24424331, -0.33308517, -0.44114257,\n",
       "         -0.44114257, -0.33308517, -0.24424331, -0.18768745],\n",
       "        [-0.15094954, -0.18768745, -0.24424331, -0.33308517, -0.44114257,\n",
       "         -0.44114257, -0.33308517, -0.24424331, -0.18768745],\n",
       "        [-0.1449269 , -0.17647082, -0.22093591, -0.28020127, -0.33591986,\n",
       "         -0.33591986, -0.28020127, -0.22093591, -0.17647082]],\n",
       "\n",
       "       [[-0.046524  , -0.05568378, -0.06774585, -0.08216026, -0.09396083,\n",
       "         -0.09396083, -0.08216026, -0.06774585, -0.05568378],\n",
       "        [-0.05031651, -0.06256248, -0.08141444, -0.11102839, -0.14704752,\n",
       "         -0.14704752, -0.11102839, -0.08141444, -0.06256248],\n",
       "        [-0.05259712, -0.06711884, -0.09230904, -0.1449269 , -0.28020127,\n",
       "         -0.28020127, -0.1449269 , -0.09230904, -0.06711884],\n",
       "        [-0.05259712, -0.06711884, -0.09230904, -0.1449269 , -0.28020127,\n",
       "         -0.28020127, -0.1449269 , -0.09230904, -0.06711884],\n",
       "        [-0.05031651, -0.06256248, -0.08141444, -0.11102839, -0.14704752,\n",
       "         -0.14704752, -0.11102839, -0.08141444, -0.06256248]],\n",
       "\n",
       "       [[ 0.046524  ,  0.05568378,  0.06774585,  0.08216026,  0.09396083,\n",
       "          0.09396083,  0.08216026,  0.06774585,  0.05568378],\n",
       "        [ 0.05031651,  0.06256248,  0.08141444,  0.11102839,  0.14704752,\n",
       "          0.14704752,  0.11102839,  0.08141444,  0.06256248],\n",
       "        [ 0.05259712,  0.06711884,  0.09230904,  0.1449269 ,  0.28020127,\n",
       "          0.28020127,  0.1449269 ,  0.09230904,  0.06711884],\n",
       "        [ 0.05259712,  0.06711884,  0.09230904,  0.1449269 ,  0.28020127,\n",
       "          0.28020127,  0.1449269 ,  0.09230904,  0.06711884],\n",
       "        [ 0.05031651,  0.06256248,  0.08141444,  0.11102839,  0.14704752,\n",
       "          0.14704752,  0.11102839,  0.08141444,  0.06256248]],\n",
       "\n",
       "       [[ 0.13476996,  0.15899524,  0.189208  ,  0.22258788,  0.24762282,\n",
       "          0.24762282,  0.22258788,  0.189208  ,  0.15899524],\n",
       "        [ 0.1449269 ,  0.17647082,  0.22093591,  0.28020127,  0.33591986,\n",
       "          0.33591986,  0.28020127,  0.22093591,  0.17647082],\n",
       "        [ 0.15094954,  0.18768745,  0.24424331,  0.33308517,  0.44114257,\n",
       "          0.44114257,  0.33308517,  0.24424331,  0.18768745],\n",
       "        [ 0.15094954,  0.18768745,  0.24424331,  0.33308517,  0.44114257,\n",
       "          0.44114257,  0.33308517,  0.24424331,  0.18768745],\n",
       "        [ 0.1449269 ,  0.17647082,  0.22093591,  0.28020127,  0.33591986,\n",
       "          0.33591986,  0.28020127,  0.22093591,  0.17647082]]])"
      ]
     },
     "execution_count": 157,
     "metadata": {},
     "output_type": "execute_result"
    }
   ],
   "source": [
    "data"
   ]
  },
  {
   "cell_type": "code",
   "execution_count": 158,
   "metadata": {},
   "outputs": [
    {
     "data": {
      "text/plain": [
       "3.5247300926800409"
      ]
     },
     "execution_count": 158,
     "metadata": {},
     "output_type": "execute_result"
    }
   ],
   "source": []
  },
  {
   "cell_type": "code",
   "execution_count": null,
   "metadata": {
    "collapsed": true
   },
   "outputs": [],
   "source": []
  }
 ],
 "metadata": {
  "kernelspec": {
   "display_name": "Python 3",
   "language": "python",
   "name": "python3"
  },
  "language_info": {
   "codemirror_mode": {
    "name": "ipython",
    "version": 3
   },
   "file_extension": ".py",
   "mimetype": "text/x-python",
   "name": "python",
   "nbconvert_exporter": "python",
   "pygments_lexer": "ipython3",
   "version": "3.6.1"
  }
 },
 "nbformat": 4,
 "nbformat_minor": 2
}

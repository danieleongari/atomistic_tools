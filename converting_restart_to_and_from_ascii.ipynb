{
 "cells": [
  {
   "cell_type": "code",
   "execution_count": 10,
   "metadata": {
    "collapsed": true
   },
   "outputs": [],
   "source": [
    "import numpy as np\n",
    "import scipy.io\n",
    "import os"
   ]
  },
  {
   "cell_type": "code",
   "execution_count": 29,
   "metadata": {},
   "outputs": [
    {
     "name": "stdout",
     "output_type": "stream",
     "text": [
      "[16  1  1  1  1 16 16]\n"
     ]
    }
   ],
   "source": [
    "inp_file = \"/home/kristjan/work/sts_cp2k/restart_files/RESTART_orig\"\n",
    "\n",
    "inpf = open(inp_file, 'r')\n",
    "\n",
    "_h, natom, nspin, nao, nset_max, nshell_max, _h = np.fromfile(inpf, dtype=np.int32, count=7)\n",
    "\n",
    "print(np.fromfile(inpf, dtype=np.int32, count=7))\n"
   ]
  },
  {
   "cell_type": "code",
   "execution_count": 128,
   "metadata": {},
   "outputs": [
    {
     "data": {
      "text/plain": [
       "array([  2.00000000e+000,   7.98009643e-023,   8.02515627e-079,\n",
       "         8.07047054e-135])"
      ]
     },
     "execution_count": 128,
     "metadata": {},
     "output_type": "execute_result"
    }
   ],
   "source": [
    "mu = -8\n",
    "kt = 8.6173303e-5*300.0\n",
    "evals = np.linspace(-10, 0.0, 4)\n",
    "occs = 2.0/(np.exp((evals-mu)/(kt))+1)\n",
    "occs"
   ]
  },
  {
   "cell_type": "code",
   "execution_count": 139,
   "metadata": {
    "collapsed": true
   },
   "outputs": [],
   "source": [
    "def calc_fermi(evals, occs):\n",
    "    # Find closest value to 1.0 (half occupancy)\n",
    "    i1 = np.argsort(np.abs(occs-1.0))[0]\n",
    "    eps = 1e-9\n",
    "    \n",
    "    # if no smearing, find last occupied energy\n",
    "    if occs[i1] > 2.0-eps or occs[i1] < eps:\n",
    "        first_empty = next(x[0] for x in enumerate(occs) if x[1] < 1.0)\n",
    "        return evals[first_empty - 1]\n",
    "    # if the closest one is exactly half-filled, we have the Fermi level!\n",
    "    if np.abs(occs[i1] - 1.0) < eps:\n",
    "        return evals[i1]\n",
    "    \n",
    "    # second closest value\n",
    "    prev_occ = 2.0 - occs[i1-1]\n",
    "    next_occ = occs[i1+1]\n",
    "    \n",
    "    if prev_occ > next_occ:\n",
    "        i2 = i1 - 1\n",
    "    else:\n",
    "        i2 = i1 + 1\n",
    "    \n",
    "    # with smearing, calculate the chemical potential\n",
    "    n1 = occs[i1]/2\n",
    "    n2 = occs[i2]/2\n",
    "    e1 = evals[i1]\n",
    "    e2 = evals[i2]\n",
    "    # log(1/n - 1) = log(1-n) - log(n)\n",
    "    # np.log1p(x) = np.log(1 + x)\n",
    "    log_div = (np.log1p(-n1) - np.log(n1))/(np.log1p(-n2) - np.log(n2))\n",
    "    return (e1 - e2*log_div)/(1 - log_div)\n",
    "    "
   ]
  },
  {
   "cell_type": "code",
   "execution_count": 140,
   "metadata": {},
   "outputs": [
    {
     "data": {
      "text/plain": [
       "-10.0"
      ]
     },
     "execution_count": 140,
     "metadata": {},
     "output_type": "execute_result"
    }
   ],
   "source": [
    "calc_fermi(evals, occs)"
   ]
  },
  {
   "cell_type": "code",
   "execution_count": 127,
   "metadata": {
    "collapsed": true
   },
   "outputs": [],
   "source": [
    "# RESTART to ASCII\n",
    "\n",
    "inp_file = \"/home/kristjan/work/sts_cp2k/restart_files/RESTART_orig\"\n",
    "out_file = \"/home/kristjan/work/sts_cp2k/restart_files/RESTART.ascii\"\n",
    "\n",
    "inpf = scipy.io.FortranFile(inp_file, 'r')\n",
    "outf = open(out_file, 'w')\n",
    "\n",
    "natom, nspin, nao, nset_max, nshell_max = inpf.read_ints()\n",
    "outf.write(\"%d %d %d %d %d\\n\" % (natom, nspin, nao, nset_max, nshell_max))\n",
    "\n",
    "# natom - number of atoms\n",
    "# nspin - number of spins\n",
    "# nao - number of atomic orbitals\n",
    "# nset_max - maximum number of sets in the basis set\n",
    "#           (e.g. if one atom's basis set contains 3 sets and every other \n",
    "#           atom's contains 1, then this value will still be 3)\n",
    "# nshell_max - maximum number of shells in each set\n",
    "\n",
    "nset_info = inpf.read_ints() # number of sets in the basis set for each atom\n",
    "outf.write(' '.join(map(str, nset_info))+\"\\n\")\n",
    "\n",
    "nshell_info = inpf.read_ints() # number of shells in each of the sets\n",
    "outf.write(' '.join(map(str, nshell_info))+\"\\n\")\n",
    "\n",
    "nso_info = inpf.read_ints() # number of orbitals in each shell\n",
    "outf.write(' '.join(map(str, nso_info))+\"\\n\")\n",
    "\n",
    "for ispin in range(nspin):\n",
    "    nmo, homo, lfomo, nelectron = inpf.read_ints()\n",
    "    outf.write(\"%d %d %d %d\\n\" % (nmo, homo, lfomo, nelectron))\n",
    "    \n",
    "    # nmo - number of molecular orbitals\n",
    "    # homo - index of the HOMO\n",
    "    # lfomo - ???\n",
    "    # nelectron - number of electrons\n",
    "    \n",
    "    # list containing all eigenvalues and occupancies of the molecular orbitals\n",
    "    evals_occs = inpf.read_reals() \n",
    "    outf.write(' '.join(map(str, evals_occs))+\"\\n\")\n",
    "    \n",
    "    for imo in range(nmo):\n",
    "        # list of coefficients corresponding to each shell-orbital\n",
    "        # NB: the coefficients assume spherical basis set representations!\n",
    "        coefs = inpf.read_reals()\n",
    "        outf.write(' '.join(map(str, coefs))+\"\\n\")\n",
    "    \n",
    "inpf.close()\n",
    "outf.close()"
   ]
  },
  {
   "cell_type": "code",
   "execution_count": 5,
   "metadata": {
    "collapsed": true
   },
   "outputs": [],
   "source": [
    "# ASCII to RESTART\n",
    "\n",
    "inp_file = \"/home/kristjan/work/sts_cp2k/restart_files/RESTART.ascii\"\n",
    "out_file = \"/home/kristjan/work/sts_cp2k/restart_files/RESTART\"\n",
    "\n",
    "inpf = open(inp_file, 'r')\n",
    "outf = scipy.io.FortranFile(out_file, 'w')\n",
    "\n",
    "line1 = [int(d) for d in inpf.readline().split(' ')]\n",
    "outf.write_record(np.array(line1, dtype=np.intc))\n",
    "natom, nspin, nao, nset_max, nshell_max = line1\n",
    "\n",
    "\n",
    "nset_info = [int(d) for d in inpf.readline().split(' ')]\n",
    "outf.write_record(np.array(nset_info, dtype=np.intc))\n",
    "\n",
    "nshell_info = [int(d) for d in inpf.readline().split(' ')]\n",
    "outf.write_record(np.array(nshell_info, dtype=np.intc))\n",
    "\n",
    "nso_info = [int(d) for d in inpf.readline().split(' ')]\n",
    "outf.write_record(np.array(nso_info, dtype=np.intc))\n",
    "\n",
    "\n",
    "for ispin in range(nspin):\n",
    "    spin_line = [int(d) for d in inpf.readline().split(' ')]\n",
    "    outf.write_record(np.array(spin_line, dtype=np.intc))\n",
    "    nmo, homo, lfomo, nelectron = spin_line\n",
    "    \n",
    "    evals_occs = [float(d) for d in inpf.readline().split(' ')]\n",
    "    outf.write_record(np.array(evals_occs, dtype=np.float64))\n",
    "    \n",
    "    for imo in range(nmo):\n",
    "        coefs = [float(d) for d in inpf.readline().split(' ')]\n",
    "        outf.write_record(np.array(coefs, dtype=np.float64))\n",
    "    \n",
    "inpf.close()\n",
    "outf.close()"
   ]
  },
  {
   "cell_type": "code",
   "execution_count": null,
   "metadata": {
    "collapsed": true
   },
   "outputs": [],
   "source": []
  },
  {
   "cell_type": "code",
   "execution_count": null,
   "metadata": {
    "collapsed": true
   },
   "outputs": [],
   "source": []
  }
 ],
 "metadata": {
  "kernelspec": {
   "display_name": "Python 3",
   "language": "python",
   "name": "python3"
  },
  "language_info": {
   "codemirror_mode": {
    "name": "ipython",
    "version": 3
   },
   "file_extension": ".py",
   "mimetype": "text/x-python",
   "name": "python",
   "nbconvert_exporter": "python",
   "pygments_lexer": "ipython3",
   "version": "3.6.1"
  }
 },
 "nbformat": 4,
 "nbformat_minor": 2
}

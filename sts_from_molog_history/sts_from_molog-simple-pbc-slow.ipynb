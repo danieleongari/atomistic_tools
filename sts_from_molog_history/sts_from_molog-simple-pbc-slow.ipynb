{
 "cells": [
  {
   "cell_type": "code",
   "execution_count": 1,
   "metadata": {
    "collapsed": true
   },
   "outputs": [],
   "source": [
    "import os\n",
    "import numpy as np\n",
    "import time\n",
    "import copy\n",
    "import sys\n",
    "import matplotlib.pyplot as plt\n",
    "\n",
    "ang_2_bohr = 1.0/0.52917721067\n",
    "\n",
    "\n",
    "import molog_loading_utils as mlu"
   ]
  },
  {
   "cell_type": "code",
   "execution_count": 2,
   "metadata": {
    "collapsed": true
   },
   "outputs": [],
   "source": [
    "folder = \"/home/kristjan/local_work/10mol_7agnr/\"\n",
    "\n",
    "file_basis_set = folder + \"BR\"\n",
    "\n",
    "\n",
    "file_xyz = folder + \"10mol_ch2-cell.xyz\"\n",
    "\n",
    "file_molog = folder + \"morbs/PROJ-COEFF-1_0.MOLog\"\n",
    "\n",
    "file_cp2k_inp = folder + \"morbs/cp2k.inp\""
   ]
  },
  {
   "cell_type": "code",
   "execution_count": null,
   "metadata": {
    "collapsed": true
   },
   "outputs": [],
   "source": []
  },
  {
   "cell_type": "code",
   "execution_count": null,
   "metadata": {
    "collapsed": true
   },
   "outputs": [],
   "source": []
  },
  {
   "cell_type": "code",
   "execution_count": 3,
   "metadata": {
    "collapsed": true
   },
   "outputs": [],
   "source": [
    "height = 3.5 # Plane distance in z direction from topmost atom; angstroms\n",
    "\n",
    "emax =  3 # eV\n",
    "emin = -3 # eV"
   ]
  },
  {
   "cell_type": "code",
   "execution_count": 4,
   "metadata": {
    "scrolled": false
   },
   "outputs": [
    {
     "name": "stdout",
     "output_type": "stream",
     "text": [
      "Read cp2k input: 0.002\n",
      "Read xyz: 0.015\n",
      "Read basis sets: 0.003\n",
      "Reading CP2K MOs from:/home/kristjan/local_work/10mol_7agnr/morbs/PROJ-COEFF-1_0.MOLog\n",
      "Found 201 MOs spanned by 4360 basis functions centered on 368 atoms.\n",
      "Read molog: 3.024\n"
     ]
    }
   ],
   "source": [
    "time1 = time.time()\n",
    "elem_basis_names, cell, cell_n = mlu.read_cp2k_input(file_cp2k_inp)\n",
    "print(\"Read cp2k input: %.3f\" % (time.time()-time1))\n",
    "\n",
    "time2 = time.time()\n",
    "at_positions, at_elems = mlu.read_atoms(file_xyz)\n",
    "print(\"Read xyz: %.3f\" % (time.time()-time2))\n",
    "\n",
    "time3 = time.time()\n",
    "basis_sets = mlu.read_basis_functions(file_basis_set, elem_basis_names)\n",
    "print(\"Read basis sets: %.3f\" % (time.time()-time3))\n",
    "\n",
    "time4 = time.time()\n",
    "morb_composition, morb_energies = mlu.read_and_process_molog(file_molog)\n",
    "print(\"Read molog: %.3f\" % (time.time()-time4))"
   ]
  },
  {
   "cell_type": "code",
   "execution_count": null,
   "metadata": {
    "collapsed": true
   },
   "outputs": [],
   "source": []
  },
  {
   "cell_type": "code",
   "execution_count": 5,
   "metadata": {
    "collapsed": true
   },
   "outputs": [],
   "source": [
    "def spherical_harmonic_grid(l, m, x_grid, y_grid, z_grid):\n",
    "    c = (2.0/np.pi)**(3.0/4.0)\n",
    "    \n",
    "    # s orbitals\n",
    "    if (l, m) == (0, 0):\n",
    "        return c\n",
    "    \n",
    "    # p orbitals\n",
    "    elif (l, m) == (1, -1):\n",
    "        return c*2.0*y_grid\n",
    "    elif (l, m) == (1, 0):\n",
    "        return c*2.0*z_grid\n",
    "    elif (l, m) == (1, 1):\n",
    "        return c*2.0*x_grid\n",
    "    \n",
    "    # d orbitals\n",
    "    elif (l, m) == (2, -2):\n",
    "        return c*4.0*x_grid*y_grid\n",
    "    elif (l, m) == (2, -1):\n",
    "        return c*4.0*y_grid*z_grid\n",
    "    elif (l, m) == (2, 0):\n",
    "        return c*2.0/np.sqrt(3)*(2*z_grid**2-x_grid**2-y_grid**2)\n",
    "    elif (l, m) == (2, 1):\n",
    "        return c*4.0*z_grid*x_grid\n",
    "    elif (l, m) == (2, 2):\n",
    "        return c*2.0*(x_grid**2-y_grid**2)\n",
    "    \n",
    "    print(\"No spherical harmonic found for l=%d, m=%d\" % (l, m))\n",
    "    return 0\n"
   ]
  },
  {
   "cell_type": "code",
   "execution_count": null,
   "metadata": {
    "collapsed": true
   },
   "outputs": [],
   "source": []
  },
  {
   "cell_type": "code",
   "execution_count": 6,
   "metadata": {},
   "outputs": [
    {
     "name": "stdout",
     "output_type": "stream",
     "text": [
      "Selected mol. orbitals 114/201\n"
     ]
    }
   ],
   "source": [
    "# Sort out molecular orbitals in the specified energy range\n",
    "sel_morb_composition = []\n",
    "sel_morb_energies = []\n",
    "for i_mo, morb in enumerate(morb_composition):\n",
    "    energy = morb_energies[i_mo]\n",
    "    if energy > emin and energy < emax:\n",
    "        sel_morb_energies.append(energy)\n",
    "        sel_morb_composition.append(morb)\n",
    "        \n",
    "print(\"Selected mol. orbitals %d/%d\" % (len(sel_morb_composition), len(morb_composition)))"
   ]
  },
  {
   "cell_type": "code",
   "execution_count": 19,
   "metadata": {},
   "outputs": [
    {
     "name": "stdout",
     "output_type": "stream",
     "text": [
      "---- Setup: 0.0364\n",
      "---- Radial calc time : 72.474633\n",
      "---- Spherical calc time : 5.276679\n",
      "---- Loc -> glob time : 506.888388\n",
      "---- Total time: 588.5121\n"
     ]
    }
   ],
   "source": [
    "# Define the plane\n",
    "\n",
    "time1 = time.time()\n",
    "\n",
    "plane_z = np.max(at_positions[:, 2]) + height\n",
    "\n",
    "# Use similar grid spacing to cp2k cube files\n",
    "dv = cell[0:2]/cell_n[0:2]\n",
    "\n",
    "# Period boundary extra space\n",
    "pbc_extra = np.array([0.0, 0.0])*ang_2_bohr\n",
    "extra_n = (pbc_extra/dv).astype(int)\n",
    "pbc_extra = extra_n*dv\n",
    "\n",
    "\n",
    "x_arr = np.arange(-pbc_extra[0], cell[0]+pbc_extra[0], dv[0])\n",
    "y_arr = np.arange(-pbc_extra[1], cell[1]+pbc_extra[1], dv[1])\n",
    "x_grid, y_grid = np.meshgrid(x_arr, y_arr, indexing='ij')\n",
    "\n",
    "morb_planes = [np.zeros(cell_n[0:2]) for _ in range(len(sel_morb_composition))]\n",
    "\n",
    "print(\"---- Setup: %.4f\" % (time.time() - time1))\n",
    "\n",
    "time_radial_calc = 0.0\n",
    "time_spherical = 0.0\n",
    "time_loc_glob_add = 0.0\n",
    "\n",
    "for i_at in range(len(at_positions)):\n",
    "        elem = at_elems[i_at][0]\n",
    "        pos = at_positions[i_at]\n",
    "        \n",
    "        # Shift the local grid such that origin is on the atom\n",
    "        x_grid_rel = x_grid - pos[0]\n",
    "        y_grid_rel = y_grid - pos[1]\n",
    "        \n",
    "        z_rel = plane_z - pos[2]\n",
    "        \n",
    "        r_vec_2 = x_grid_rel**2 + y_grid_rel**2 + z_rel**2\n",
    "        \n",
    "        for i_shell, shell in enumerate(basis_sets[elem]):\n",
    "            l = shell[0]\n",
    "            es = shell[1]\n",
    "            cs = shell[2]\n",
    "            \n",
    "            # Calculate the radial part of the atomic orbital\n",
    "            time2 = time.time()\n",
    "            radial_part = np.zeros(cell_n[0:2]+2*extra_n)\n",
    "            for e, c in zip(es, cs):\n",
    "                radial_part += c*np.exp(-1.0*e*r_vec_2)\n",
    "            time_radial_calc += time.time() - time2\n",
    "            \n",
    "            for i, m in enumerate(range(-l, l+1, 1)):\n",
    "                time2 = time.time()\n",
    "                atomic_orb = radial_part*spherical_harmonic_grid(l, m,\n",
    "                                                                 x_grid_rel,\n",
    "                                                                 y_grid_rel,\n",
    "                                                                 z_rel)\n",
    "                time_spherical += time.time() - time2\n",
    "                \n",
    "                for i_mo in range(len(sel_morb_composition)):\n",
    "                    coef = sel_morb_composition[i_mo][i_at][i_shell][i]\n",
    "                    time2 = time.time()\n",
    "                    # main image\n",
    "                    morb_planes[i_mo] += coef*atomic_orb\n",
    "                    time_loc_glob_add += time.time() - time2\n",
    "\n",
    "                    \n",
    "print(\"---- Radial calc time : %4f\" % time_radial_calc)\n",
    "print(\"---- Spherical calc time : %4f\" % time_spherical)\n",
    "print(\"---- Loc -> glob time : %4f\" % time_loc_glob_add)            \n",
    "print(\"---- Total time: %.4f\"%(time.time() - time1))                 "
   ]
  },
  {
   "cell_type": "code",
   "execution_count": 28,
   "metadata": {},
   "outputs": [
    {
     "data": {
      "image/png": "[encoded data removed]",
      "text/plain": [
       "<matplotlib.figure.Figure at 0x7fd4969be470>"
      ]
     },
     "metadata": {},
     "output_type": "display_data"
    }
   ],
   "source": [
    "plt.imshow(morb_planes[50].T)\n",
    "plt.show()"
   ]
  },
  {
   "cell_type": "code",
   "execution_count": null,
   "metadata": {
    "collapsed": true
   },
   "outputs": [],
   "source": []
  },
  {
   "cell_type": "code",
   "execution_count": null,
   "metadata": {
    "collapsed": true
   },
   "outputs": [],
   "source": []
  },
  {
   "cell_type": "code",
   "execution_count": null,
   "metadata": {
    "collapsed": true
   },
   "outputs": [],
   "source": []
  },
  {
   "cell_type": "code",
   "execution_count": null,
   "metadata": {
    "collapsed": true
   },
   "outputs": [],
   "source": [
    "def write_cube_file(filename, file_xyz, cell, cell_n, data):\n",
    "    \n",
    "    # Read atomic positions (a.u.)\n",
    "    positions, elems_nrs = read_atoms(file_xyz)\n",
    "    \n",
    "    natoms = len(positions)\n",
    "    origin = np.array([0.0, 0.0, 0.0])\n",
    "    origin *= ang_2_bohr\n",
    "    \n",
    "    f = open(filename, 'w')\n",
    "    \n",
    "    f.write('title\\n')\n",
    "    f.write('comment\\n')\n",
    "    \n",
    "    dv_br = cell/cell_n\n",
    "    dv_br = dv_br * np.diag([1, 1, 1])\n",
    "    \n",
    "    f.write(\"%5d %12.6f %12.6f %12.6f\\n\"%(natoms, origin[0], origin[1], origin[2]))\n",
    "    \n",
    "    for i in range(3):\n",
    "        f.write(\"%5d %12.6f %12.6f %12.6f\\n\"%(cell_n[i], dv_br[i][0], dv_br[i][1], dv_br[i][2]))\n",
    "    \n",
    "    for i in range(natoms):\n",
    "        at_x = positions[i][0]\n",
    "        at_y = positions[i][1]\n",
    "        at_z = positions[i][2]\n",
    "        f.write(\"%5d %12.6f %12.6f %12.6f %12.6f\\n\"%(elems_nrs[i][1], 0.0, at_x, at_y, at_z))\n",
    "    \n",
    "    data.tofile(f, sep='\\n', format='%12.6e')\n",
    "    \n",
    "    f.close()\n",
    "    "
   ]
  },
  {
   "cell_type": "code",
   "execution_count": null,
   "metadata": {
    "collapsed": true
   },
   "outputs": [],
   "source": []
  }
 ],
 "metadata": {
  "kernelspec": {
   "display_name": "Python 3",
   "language": "python",
   "name": "python3"
  },
  "language_info": {
   "codemirror_mode": {
    "name": "ipython",
    "version": 3
   },
   "file_extension": ".py",
   "mimetype": "text/x-python",
   "name": "python",
   "nbconvert_exporter": "python",
   "pygments_lexer": "ipython3",
   "version": "3.6.1"
  }
 },
 "nbformat": 4,
 "nbformat_minor": 2
}
